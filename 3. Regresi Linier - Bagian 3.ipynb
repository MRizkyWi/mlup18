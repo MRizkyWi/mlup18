{
 "cells": [
  {
   "cell_type": "markdown",
   "metadata": {},
   "source": [
    "# Menangani Data Kualitatif"
   ]
  },
  {
   "cell_type": "markdown",
   "metadata": {},
   "source": [
    "Sebelumnya, kita menghadapi regresi linier dengan data yang bersifat numerik kontinu. Untuk submodul ini, kita akan menangani data kualitatif dalam regresi.\n",
    "\n",
    "Sebagai contoh mari kita lihat dataset \"student-mat\", yakni data mengenai hasil belajar siswa dari suatu sekolah terhadap mata pelajaran matematika."
   ]
  },
  {
   "cell_type": "code",
   "execution_count": 7,
   "metadata": {},
   "outputs": [
    {
     "data": {
      "text/html": [
       "<div>\n",
       "<style scoped>\n",
       "    .dataframe tbody tr th:only-of-type {\n",
       "        vertical-align: middle;\n",
       "    }\n",
       "\n",
       "    .dataframe tbody tr th {\n",
       "        vertical-align: top;\n",
       "    }\n",
       "\n",
       "    .dataframe thead th {\n",
       "        text-align: right;\n",
       "    }\n",
       "</style>\n",
       "<table border=\"1\" class=\"dataframe\">\n",
       "  <thead>\n",
       "    <tr style=\"text-align: right;\">\n",
       "      <th></th>\n",
       "      <th>school</th>\n",
       "      <th>sex</th>\n",
       "      <th>age</th>\n",
       "      <th>address</th>\n",
       "      <th>famsize</th>\n",
       "      <th>Pstatus</th>\n",
       "      <th>Medu</th>\n",
       "      <th>Fedu</th>\n",
       "      <th>Mjob</th>\n",
       "      <th>Fjob</th>\n",
       "      <th>...</th>\n",
       "      <th>famrel</th>\n",
       "      <th>freetime</th>\n",
       "      <th>goout</th>\n",
       "      <th>Dalc</th>\n",
       "      <th>Walc</th>\n",
       "      <th>health</th>\n",
       "      <th>absences</th>\n",
       "      <th>G1</th>\n",
       "      <th>G2</th>\n",
       "      <th>G3</th>\n",
       "    </tr>\n",
       "  </thead>\n",
       "  <tbody>\n",
       "    <tr>\n",
       "      <th>0</th>\n",
       "      <td>GP</td>\n",
       "      <td>F</td>\n",
       "      <td>18</td>\n",
       "      <td>U</td>\n",
       "      <td>GT3</td>\n",
       "      <td>A</td>\n",
       "      <td>4</td>\n",
       "      <td>4</td>\n",
       "      <td>at_home</td>\n",
       "      <td>teacher</td>\n",
       "      <td>...</td>\n",
       "      <td>4</td>\n",
       "      <td>3</td>\n",
       "      <td>4</td>\n",
       "      <td>1</td>\n",
       "      <td>1</td>\n",
       "      <td>3</td>\n",
       "      <td>6</td>\n",
       "      <td>5</td>\n",
       "      <td>6</td>\n",
       "      <td>6</td>\n",
       "    </tr>\n",
       "    <tr>\n",
       "      <th>1</th>\n",
       "      <td>GP</td>\n",
       "      <td>F</td>\n",
       "      <td>17</td>\n",
       "      <td>U</td>\n",
       "      <td>GT3</td>\n",
       "      <td>T</td>\n",
       "      <td>1</td>\n",
       "      <td>1</td>\n",
       "      <td>at_home</td>\n",
       "      <td>other</td>\n",
       "      <td>...</td>\n",
       "      <td>5</td>\n",
       "      <td>3</td>\n",
       "      <td>3</td>\n",
       "      <td>1</td>\n",
       "      <td>1</td>\n",
       "      <td>3</td>\n",
       "      <td>4</td>\n",
       "      <td>5</td>\n",
       "      <td>5</td>\n",
       "      <td>6</td>\n",
       "    </tr>\n",
       "    <tr>\n",
       "      <th>2</th>\n",
       "      <td>GP</td>\n",
       "      <td>F</td>\n",
       "      <td>15</td>\n",
       "      <td>U</td>\n",
       "      <td>LE3</td>\n",
       "      <td>T</td>\n",
       "      <td>1</td>\n",
       "      <td>1</td>\n",
       "      <td>at_home</td>\n",
       "      <td>other</td>\n",
       "      <td>...</td>\n",
       "      <td>4</td>\n",
       "      <td>3</td>\n",
       "      <td>2</td>\n",
       "      <td>2</td>\n",
       "      <td>3</td>\n",
       "      <td>3</td>\n",
       "      <td>10</td>\n",
       "      <td>7</td>\n",
       "      <td>8</td>\n",
       "      <td>10</td>\n",
       "    </tr>\n",
       "    <tr>\n",
       "      <th>3</th>\n",
       "      <td>GP</td>\n",
       "      <td>F</td>\n",
       "      <td>15</td>\n",
       "      <td>U</td>\n",
       "      <td>GT3</td>\n",
       "      <td>T</td>\n",
       "      <td>4</td>\n",
       "      <td>2</td>\n",
       "      <td>health</td>\n",
       "      <td>services</td>\n",
       "      <td>...</td>\n",
       "      <td>3</td>\n",
       "      <td>2</td>\n",
       "      <td>2</td>\n",
       "      <td>1</td>\n",
       "      <td>1</td>\n",
       "      <td>5</td>\n",
       "      <td>2</td>\n",
       "      <td>15</td>\n",
       "      <td>14</td>\n",
       "      <td>15</td>\n",
       "    </tr>\n",
       "    <tr>\n",
       "      <th>4</th>\n",
       "      <td>GP</td>\n",
       "      <td>F</td>\n",
       "      <td>16</td>\n",
       "      <td>U</td>\n",
       "      <td>GT3</td>\n",
       "      <td>T</td>\n",
       "      <td>3</td>\n",
       "      <td>3</td>\n",
       "      <td>other</td>\n",
       "      <td>other</td>\n",
       "      <td>...</td>\n",
       "      <td>4</td>\n",
       "      <td>3</td>\n",
       "      <td>2</td>\n",
       "      <td>1</td>\n",
       "      <td>2</td>\n",
       "      <td>5</td>\n",
       "      <td>4</td>\n",
       "      <td>6</td>\n",
       "      <td>10</td>\n",
       "      <td>10</td>\n",
       "    </tr>\n",
       "  </tbody>\n",
       "</table>\n",
       "<p>5 rows × 33 columns</p>\n",
       "</div>"
      ],
      "text/plain": [
       "  school sex  age address famsize Pstatus  Medu  Fedu     Mjob      Fjob ...  \\\n",
       "0     GP   F   18       U     GT3       A     4     4  at_home   teacher ...   \n",
       "1     GP   F   17       U     GT3       T     1     1  at_home     other ...   \n",
       "2     GP   F   15       U     LE3       T     1     1  at_home     other ...   \n",
       "3     GP   F   15       U     GT3       T     4     2   health  services ...   \n",
       "4     GP   F   16       U     GT3       T     3     3    other     other ...   \n",
       "\n",
       "  famrel freetime  goout  Dalc  Walc health absences  G1  G2  G3  \n",
       "0      4        3      4     1     1      3        6   5   6   6  \n",
       "1      5        3      3     1     1      3        4   5   5   6  \n",
       "2      4        3      2     2     3      3       10   7   8  10  \n",
       "3      3        2      2     1     1      5        2  15  14  15  \n",
       "4      4        3      2     1     2      5        4   6  10  10  \n",
       "\n",
       "[5 rows x 33 columns]"
      ]
     },
     "execution_count": 7,
     "metadata": {},
     "output_type": "execute_result"
    }
   ],
   "source": [
    "import pandas as pd\n",
    "import numpy as np\n",
    "\n",
    "data = pd.read_csv(\"Data/Regression/Student Performance/student-mat.csv\",delimiter=\";\")\n",
    "data.head()"
   ]
  },
  {
   "cell_type": "markdown",
   "metadata": {},
   "source": [
    "Data tersebut memiliki tiga variabel target, yakni G1, G2 dan G3, masing-masing menandakan data nilai pada term 1, term 2, dan term final. Mari kita lihat karakteristik masing-masing atributnya/fitur/variabelnya dengan fungsi info() pada dataframe."
   ]
  },
  {
   "cell_type": "code",
   "execution_count": 9,
   "metadata": {},
   "outputs": [
    {
     "name": "stdout",
     "output_type": "stream",
     "text": [
      "<class 'pandas.core.frame.DataFrame'>\n",
      "RangeIndex: 395 entries, 0 to 394\n",
      "Data columns (total 33 columns):\n",
      "school        395 non-null object\n",
      "sex           395 non-null object\n",
      "age           395 non-null int64\n",
      "address       395 non-null object\n",
      "famsize       395 non-null object\n",
      "Pstatus       395 non-null object\n",
      "Medu          395 non-null int64\n",
      "Fedu          395 non-null int64\n",
      "Mjob          395 non-null object\n",
      "Fjob          395 non-null object\n",
      "reason        395 non-null object\n",
      "guardian      395 non-null object\n",
      "traveltime    395 non-null int64\n",
      "studytime     395 non-null int64\n",
      "failures      395 non-null int64\n",
      "schoolsup     395 non-null object\n",
      "famsup        395 non-null object\n",
      "paid          395 non-null object\n",
      "activities    395 non-null object\n",
      "nursery       395 non-null object\n",
      "higher        395 non-null object\n",
      "internet      395 non-null object\n",
      "romantic      395 non-null object\n",
      "famrel        395 non-null int64\n",
      "freetime      395 non-null int64\n",
      "goout         395 non-null int64\n",
      "Dalc          395 non-null int64\n",
      "Walc          395 non-null int64\n",
      "health        395 non-null int64\n",
      "absences      395 non-null int64\n",
      "G1            395 non-null int64\n",
      "G2            395 non-null int64\n",
      "G3            395 non-null int64\n",
      "dtypes: int64(16), object(17)\n",
      "memory usage: 101.9+ KB\n"
     ]
    }
   ],
   "source": [
    "data.info()"
   ]
  },
  {
   "cell_type": "markdown",
   "metadata": {},
   "source": [
    "Dari hasil tersebut, ada 17 variabel yang bersifat object atau string, mulai dari 'school' hingga 'romantic'. Untuk detil lebih lanjut mengenai masing-masing prediktor bisa dilihat di berkas \"student.txt\" di direktori yang sama.\n",
    "\n",
    "Lalu, mari kita periksa lebih lanjut mengenai beberapa variabel kualitatif di data tersebut. Kita akan ambil 'sex', 'guardian', dan 'famsup' sebagai contoh. Kita akan melihat bagaimana karakteristik dataset berdasar variabel tersebut dan distribusinya. "
   ]
  },
  {
   "cell_type": "code",
   "execution_count": 11,
   "metadata": {},
   "outputs": [
    {
     "name": "stdout",
     "output_type": "stream",
     "text": [
      "['F' 'M']\n",
      "['mother' 'father' 'other']\n",
      "['no' 'yes']\n"
     ]
    }
   ],
   "source": [
    "#melihat nilai unik dari variabel 'sex'\n",
    "print(data['sex'].unique())\n",
    "#melihat nilai unik dari variabel 'guardian'\n",
    "print(data['guardian'].unique())\n",
    "#melihat nilai unik dari variabel 'famsup'\n",
    "print(data['famsup'].unique())"
   ]
  },
  {
   "cell_type": "code",
   "execution_count": 17,
   "metadata": {},
   "outputs": [
    {
     "name": "stdout",
     "output_type": "stream",
     "text": [
      "sex\n",
      "F    208\n",
      "M    187\n",
      "Name: sex, dtype: int64\n",
      "---\n",
      "guardian\n",
      "father     90\n",
      "mother    273\n",
      "other      32\n",
      "Name: guardian, dtype: int64\n",
      "---\n",
      "famsup\n",
      "no     153\n",
      "yes    242\n",
      "Name: famsup, dtype: int64\n",
      "---\n"
     ]
    }
   ],
   "source": [
    "#melihat distribusi data dari masing-masing variabel kualitatif\n",
    "print(data.groupby(['sex'])['sex'].count())\n",
    "print(\"---\")\n",
    "print(data.groupby(['guardian'])['guardian'].count())\n",
    "print(\"---\")\n",
    "print(data.groupby(['famsup'])['famsup'].count())\n",
    "print(\"---\")"
   ]
  },
  {
   "cell_type": "markdown",
   "metadata": {},
   "source": [
    "Bisa kita lihat dari ketiga variabel tersebut memiliki 2 dan 3 nilai berbeda untuk kategorinya. Untuk menangani nilai-nilai ini, kita bisa \"memaksa\" variabel prediktor kualitatif ini menjadi variabel prediktor numerik dengan membuat variabel dummy. Sebagai contoh untuk variabel 'sex' kita akan membuat variabel 'sex0' sebagai variabel dummy. Kita akan anggap nilai 'F' sebagai 1 dan nilai 'M' sebagai 0."
   ]
  },
  {
   "cell_type": "code",
   "execution_count": 33,
   "metadata": {},
   "outputs": [
    {
     "data": {
      "text/html": [
       "<div>\n",
       "<style scoped>\n",
       "    .dataframe tbody tr th:only-of-type {\n",
       "        vertical-align: middle;\n",
       "    }\n",
       "\n",
       "    .dataframe tbody tr th {\n",
       "        vertical-align: top;\n",
       "    }\n",
       "\n",
       "    .dataframe thead th {\n",
       "        text-align: right;\n",
       "    }\n",
       "</style>\n",
       "<table border=\"1\" class=\"dataframe\">\n",
       "  <thead>\n",
       "    <tr style=\"text-align: right;\">\n",
       "      <th></th>\n",
       "      <th>sex</th>\n",
       "      <th>sex0</th>\n",
       "    </tr>\n",
       "  </thead>\n",
       "  <tbody>\n",
       "    <tr>\n",
       "      <th>0</th>\n",
       "      <td>F</td>\n",
       "      <td>1</td>\n",
       "    </tr>\n",
       "    <tr>\n",
       "      <th>1</th>\n",
       "      <td>F</td>\n",
       "      <td>1</td>\n",
       "    </tr>\n",
       "    <tr>\n",
       "      <th>2</th>\n",
       "      <td>F</td>\n",
       "      <td>1</td>\n",
       "    </tr>\n",
       "    <tr>\n",
       "      <th>3</th>\n",
       "      <td>F</td>\n",
       "      <td>1</td>\n",
       "    </tr>\n",
       "    <tr>\n",
       "      <th>4</th>\n",
       "      <td>F</td>\n",
       "      <td>1</td>\n",
       "    </tr>\n",
       "    <tr>\n",
       "      <th>5</th>\n",
       "      <td>M</td>\n",
       "      <td>0</td>\n",
       "    </tr>\n",
       "    <tr>\n",
       "      <th>6</th>\n",
       "      <td>M</td>\n",
       "      <td>0</td>\n",
       "    </tr>\n",
       "    <tr>\n",
       "      <th>7</th>\n",
       "      <td>F</td>\n",
       "      <td>1</td>\n",
       "    </tr>\n",
       "    <tr>\n",
       "      <th>8</th>\n",
       "      <td>M</td>\n",
       "      <td>0</td>\n",
       "    </tr>\n",
       "    <tr>\n",
       "      <th>9</th>\n",
       "      <td>M</td>\n",
       "      <td>0</td>\n",
       "    </tr>\n",
       "  </tbody>\n",
       "</table>\n",
       "</div>"
      ],
      "text/plain": [
       "  sex  sex0\n",
       "0   F     1\n",
       "1   F     1\n",
       "2   F     1\n",
       "3   F     1\n",
       "4   F     1\n",
       "5   M     0\n",
       "6   M     0\n",
       "7   F     1\n",
       "8   M     0\n",
       "9   M     0"
      ]
     },
     "execution_count": 33,
     "metadata": {},
     "output_type": "execute_result"
    }
   ],
   "source": [
    "#pembuatan kolom baru 'sex0' dengan nilai integer 1 untuk kolom 'sex'=F\n",
    "#otomatis selain 'sex'=F akan menjadi 0\n",
    "data['sex0'] = (data['sex']=='F')*1\n",
    "data[['sex','sex0']].head(10)"
   ]
  },
  {
   "cell_type": "markdown",
   "metadata": {},
   "source": [
    "Latihan:\n",
    "Dengan cara yang sama, buat kolom variabel dummy 'famsup0' terhadap kolom prediktor 'famsup' dengan nilai 0 untuk 'no' dan 1 untuk 'yes'"
   ]
  },
  {
   "cell_type": "code",
   "execution_count": 38,
   "metadata": {
    "scrolled": true
   },
   "outputs": [
    {
     "data": {
      "text/html": [
       "<div>\n",
       "<style scoped>\n",
       "    .dataframe tbody tr th:only-of-type {\n",
       "        vertical-align: middle;\n",
       "    }\n",
       "\n",
       "    .dataframe tbody tr th {\n",
       "        vertical-align: top;\n",
       "    }\n",
       "\n",
       "    .dataframe thead th {\n",
       "        text-align: right;\n",
       "    }\n",
       "</style>\n",
       "<table border=\"1\" class=\"dataframe\">\n",
       "  <thead>\n",
       "    <tr style=\"text-align: right;\">\n",
       "      <th></th>\n",
       "      <th>famsup</th>\n",
       "      <th>famsup0</th>\n",
       "    </tr>\n",
       "  </thead>\n",
       "  <tbody>\n",
       "    <tr>\n",
       "      <th>0</th>\n",
       "      <td>no</td>\n",
       "      <td>0</td>\n",
       "    </tr>\n",
       "    <tr>\n",
       "      <th>1</th>\n",
       "      <td>yes</td>\n",
       "      <td>1</td>\n",
       "    </tr>\n",
       "    <tr>\n",
       "      <th>2</th>\n",
       "      <td>no</td>\n",
       "      <td>0</td>\n",
       "    </tr>\n",
       "    <tr>\n",
       "      <th>3</th>\n",
       "      <td>yes</td>\n",
       "      <td>1</td>\n",
       "    </tr>\n",
       "    <tr>\n",
       "      <th>4</th>\n",
       "      <td>yes</td>\n",
       "      <td>1</td>\n",
       "    </tr>\n",
       "  </tbody>\n",
       "</table>\n",
       "</div>"
      ],
      "text/plain": [
       "  famsup  famsup0\n",
       "0     no        0\n",
       "1    yes        1\n",
       "2     no        0\n",
       "3    yes        1\n",
       "4    yes        1"
      ]
     },
     "execution_count": 38,
     "metadata": {},
     "output_type": "execute_result"
    }
   ],
   "source": [
    "data['famsup0'] = (None)*1\n",
    "data[['famsup','famsup0']].head()"
   ]
  },
  {
   "cell_type": "markdown",
   "metadata": {},
   "source": [
    "Penanganan untuk nilai lebih dari 2 nilai seperti kolom 'guardian' secara teknis membutuhkan code dan konsep yang berbeda. Penggantian nilai 'father' menjadi 0, 'mother' menjadi 1, dan 'other' menjadi 2 akan membuat makna dari variabel kualitatif tersebut berbeda. Tidak ada ketentuan khusus jika 'other' memiliki bobot berbeda dari 'father' atau 'mother'. Maka dari itu, kita bisa mengganti nilai dari 1 kolom kualitatif ini menjadi 2 kolom biner lain, semisal: kolom 'father' akan bernilai 1 jika prediktor 'guardian' berisi nilai 'father' dan kolom 'mother' bernilai 1 jika prediktor 'guardian' berisi nilai 'mother', jika bernilai 'other' maka kedua kolom tersebut akan bernilai 0. Monsep ini disebut one-hot encoding."
   ]
  },
  {
   "cell_type": "code",
   "execution_count": 36,
   "metadata": {},
   "outputs": [
    {
     "data": {
      "text/html": [
       "<div>\n",
       "<style scoped>\n",
       "    .dataframe tbody tr th:only-of-type {\n",
       "        vertical-align: middle;\n",
       "    }\n",
       "\n",
       "    .dataframe tbody tr th {\n",
       "        vertical-align: top;\n",
       "    }\n",
       "\n",
       "    .dataframe thead th {\n",
       "        text-align: right;\n",
       "    }\n",
       "</style>\n",
       "<table border=\"1\" class=\"dataframe\">\n",
       "  <thead>\n",
       "    <tr style=\"text-align: right;\">\n",
       "      <th></th>\n",
       "      <th>guardian</th>\n",
       "      <th>father</th>\n",
       "      <th>mother</th>\n",
       "    </tr>\n",
       "  </thead>\n",
       "  <tbody>\n",
       "    <tr>\n",
       "      <th>385</th>\n",
       "      <td>mother</td>\n",
       "      <td>0</td>\n",
       "      <td>1</td>\n",
       "    </tr>\n",
       "    <tr>\n",
       "      <th>386</th>\n",
       "      <td>mother</td>\n",
       "      <td>0</td>\n",
       "      <td>1</td>\n",
       "    </tr>\n",
       "    <tr>\n",
       "      <th>387</th>\n",
       "      <td>mother</td>\n",
       "      <td>0</td>\n",
       "      <td>1</td>\n",
       "    </tr>\n",
       "    <tr>\n",
       "      <th>388</th>\n",
       "      <td>mother</td>\n",
       "      <td>0</td>\n",
       "      <td>1</td>\n",
       "    </tr>\n",
       "    <tr>\n",
       "      <th>389</th>\n",
       "      <td>mother</td>\n",
       "      <td>0</td>\n",
       "      <td>1</td>\n",
       "    </tr>\n",
       "    <tr>\n",
       "      <th>390</th>\n",
       "      <td>other</td>\n",
       "      <td>0</td>\n",
       "      <td>0</td>\n",
       "    </tr>\n",
       "    <tr>\n",
       "      <th>391</th>\n",
       "      <td>mother</td>\n",
       "      <td>0</td>\n",
       "      <td>1</td>\n",
       "    </tr>\n",
       "    <tr>\n",
       "      <th>392</th>\n",
       "      <td>other</td>\n",
       "      <td>0</td>\n",
       "      <td>0</td>\n",
       "    </tr>\n",
       "    <tr>\n",
       "      <th>393</th>\n",
       "      <td>mother</td>\n",
       "      <td>0</td>\n",
       "      <td>1</td>\n",
       "    </tr>\n",
       "    <tr>\n",
       "      <th>394</th>\n",
       "      <td>father</td>\n",
       "      <td>1</td>\n",
       "      <td>0</td>\n",
       "    </tr>\n",
       "  </tbody>\n",
       "</table>\n",
       "</div>"
      ],
      "text/plain": [
       "    guardian  father  mother\n",
       "385   mother       0       1\n",
       "386   mother       0       1\n",
       "387   mother       0       1\n",
       "388   mother       0       1\n",
       "389   mother       0       1\n",
       "390    other       0       0\n",
       "391   mother       0       1\n",
       "392    other       0       0\n",
       "393   mother       0       1\n",
       "394   father       1       0"
      ]
     },
     "execution_count": 36,
     "metadata": {},
     "output_type": "execute_result"
    }
   ],
   "source": [
    "data['father'] =  (data['guardian']=='father')*1\n",
    "data['mother'] =  (data['guardian']=='mother')*1\n",
    "data[['guardian','father','mother']].tail(10)"
   ]
  },
  {
   "cell_type": "markdown",
   "metadata": {},
   "source": [
    "Dengan demikian, kita sudah memiliki 3 nilai prediktor kualitatif yang kita ubah menjadi kuantitatif. Kita bisa menggunakan prediktor-prediktor ini untuk melakukan regresi dan memeriksa apakah ada dampak dari pengubahan nilai kualitatif ke kuantitatif ini terhadap model yang kita bangun."
   ]
  },
  {
   "cell_type": "markdown",
   "metadata": {},
   "source": [
    "Pertama-tama, kita akan mengambil beberapa kolom yang bersifat kuantitatif ('age','studytime','failures','freetime','absences') saja ditambah hasil konversi dummy variabel  untuk menguji model ini terhadap salah satu variabel target: G1."
   ]
  },
  {
   "cell_type": "code",
   "execution_count": 43,
   "metadata": {},
   "outputs": [],
   "source": [
    "#seleksi data untuk mengambil X dan Y\n",
    "Y = data['G1']\n",
    "X_withdummy = data[['age','studytime','failures','freetime','absences','sex0','famsup0','father','mother']]\n",
    "X_withoutdummy = data[['age','studytime','failures','freetime','absences']]"
   ]
  },
  {
   "cell_type": "markdown",
   "metadata": {},
   "source": [
    "Kita akan lakukan pembagian data latih dan uji dengan perbandingan  25:75 sebagaimana submodul sebelumnya."
   ]
  },
  {
   "cell_type": "code",
   "execution_count": 49,
   "metadata": {},
   "outputs": [],
   "source": [
    "np.random.seed(1)\n",
    "random_value = np.random.rand(X.shape[0])\n",
    "X_train_wd = X_withdummy[random_value<=0.75]\n",
    "X_train_wo = X_withoutdummy[random_value<=0.75]\n",
    "Y_train = Y[random_value<=0.75]\n",
    "X_test_wd = X_withdummy[random_value>0.75]\n",
    "X_test_wo = X_withoutdummy[random_value>0.75]\n",
    "Y_test = Y[random_value>0.75]"
   ]
  },
  {
   "cell_type": "markdown",
   "metadata": {},
   "source": [
    "Lalu, kita akan bangun model yang bersesuaian dari masing-masing pilihan dataset kita dengan 2 model linear regression yang berbeda dan membandingkan performa masing-masing model."
   ]
  },
  {
   "cell_type": "code",
   "execution_count": 47,
   "metadata": {},
   "outputs": [
    {
     "name": "stdout",
     "output_type": "stream",
     "text": [
      "MSE with dummy variable: 8.052084\n",
      "MSE without dummy variable: 8.531346\n"
     ]
    }
   ],
   "source": [
    "from sklearn import linear_model\n",
    "from sklearn.metrics import mean_squared_error\n",
    "\n",
    "#---------- With dummy\n",
    "linreg_wd = linear_model.LinearRegression()\n",
    "linreg_wd.fit(X_train_wd,Y_train)\n",
    "Y_pred_wd = linreg_wd.predict(X_test_wd)\n",
    "mse_wd = mean_squared_error(Y_test, Y_pred_wd)\n",
    "print(\"MSE with dummy variable: %lf\" % mse_wd)\n",
    "\n",
    "#---------- Without dummy\n",
    "linreg_wo = linear_model.LinearRegression()\n",
    "linreg_wo.fit(X_train_wo,Y_train)\n",
    "Y_pred_wo = linreg_wo.predict(X_test_wo)\n",
    "mse_wo = mean_squared_error(Y_test, Y_pred_wo)\n",
    "print(\"MSE without dummy variable: %lf\" % mse_wo)"
   ]
  },
  {
   "cell_type": "markdown",
   "metadata": {},
   "source": [
    "Kita bisa lihat bahwa dengan adanya variabel dummy dari prediktor kualitatif akan sedikit meningkatkan performa model kita (walaupun memang hasilnya tidak begitu baik, range G1: 0-20 dengan mean squared error 8)."
   ]
  },
  {
   "cell_type": "markdown",
   "metadata": {},
   "source": [
    "### Variabel Dummy untuk nilai variabel kualitatif biner: (0 dan 1) atau (-1 dan 1)?"
   ]
  },
  {
   "cell_type": "markdown",
   "metadata": {},
   "source": [
    "Tadi kita sudah mencoba menggunakan nilai variabel dummy 0 dan 1 sebagai pengganti beberapa variabel prediktor kualitatif (contoh: 'sex'). Namun, apakah nilai 0 dan 1 ini sudah cukup baik? Apakah jika kita menambah nilai diskriminatif dari variabel biner akan membantu membuat model lebih baik? Mari kita coba untuk menggunakan 4 objek perbandingan:\n",
    "- Beberapa variabel kuantitatif + variabel dummy untuk sex (0 dan 1) - sex0 / s0\n",
    "- Beberapa variabel kuantitatif + variabel dummy untuk sex (-1 dan 1) -  sex1 / s1\n",
    "- Beberapa variabel kuantitatif + variabel dummy untuk famsup (0 dan 1) -  famsup0 / f0\n",
    "- Beberapa variabel kuantitatif + variabel dummy untuk famsup (-1 dan 1) -  famsup1 / f1"
   ]
  },
  {
   "cell_type": "code",
   "execution_count": 48,
   "metadata": {},
   "outputs": [],
   "source": [
    "#pembuatan variabel dummy sex1 dan famsup1\n",
    "data['sex1'] = ((data['sex']=='F')*2 - 1)\n",
    "data['famsup1'] = ((data['famsup']=='yes')*2 - 1)\n",
    "\n",
    "#seleksi data untuk membuat X_s0, x_s1, x_f0, dan x_f1\n",
    "X_s0 = data[['age','studytime','failures','freetime','absences','sex0']]\n",
    "X_s1 = data[['age','studytime','failures','freetime','absences','sex1']]\n",
    "X_f0 = data[['age','studytime','failures','freetime','absences','famsup0']]\n",
    "X_f1 = data[['age','studytime','failures','freetime','absences','famsup1']]"
   ]
  },
  {
   "cell_type": "markdown",
   "metadata": {},
   "source": [
    "Pembagian dataset uji dan latih berdasarkan nilai acak"
   ]
  },
  {
   "cell_type": "code",
   "execution_count": 50,
   "metadata": {},
   "outputs": [],
   "source": [
    "np.random.seed(1)\n",
    "random_value = np.random.rand(data.shape[0])\n",
    "X_train_s0 = X_s0[random_value<=0.75]\n",
    "X_train_s1 = X_s1[random_value<=0.75]\n",
    "X_train_f0 = X_f0[random_value<=0.75]\n",
    "X_train_f1 = X_f1[random_value<=0.75]\n",
    "Y_train = Y[random_value<=0.75]\n",
    "X_test_s0 = X_s0[random_value>0.75]\n",
    "X_test_s1 = X_s1[random_value>0.75]\n",
    "X_test_f0 = X_f0[random_value>0.75]\n",
    "X_test_f1 = X_f1[random_value>0.75]\n",
    "Y_test = Y[random_value>0.75]"
   ]
  },
  {
   "cell_type": "markdown",
   "metadata": {},
   "source": [
    "Pembuatan dan pengujian model regresi linier berdasarkan masing-masing pilihan dataset"
   ]
  },
  {
   "cell_type": "code",
   "execution_count": 52,
   "metadata": {},
   "outputs": [
    {
     "name": "stdout",
     "output_type": "stream",
     "text": [
      "MSE with encoding sex as 0 and 1: 7.538186\n",
      "MSE with encoding sex as -1 and 1: 7.538186\n",
      "MSE with encoding famsup as 0 and 1: 7.352371\n",
      "MSE with encoding famsup as -1 and 1: 7.352371\n"
     ]
    }
   ],
   "source": [
    "from sklearn import linear_model\n",
    "from sklearn.metrics import mean_squared_error\n",
    "\n",
    "#---------- s0\n",
    "linreg_s0 = linear_model.LinearRegression()\n",
    "linreg_s0.fit(X_train_s0,Y_train)\n",
    "Y_pred_s0 = linreg_s0.predict(X_test_s0)\n",
    "mse_s0 = mean_squared_error(Y_test, Y_pred_s0)\n",
    "print(\"MSE with encoding sex as 0 and 1: %lf\" % mse_s0)\n",
    "\n",
    "#---------- s1\n",
    "linreg_s1 = linear_model.LinearRegression()\n",
    "linreg_s1.fit(X_train_s1,Y_train)\n",
    "Y_pred_s1 = linreg_s1.predict(X_test_s1)\n",
    "mse_s1 = mean_squared_error(Y_test, Y_pred_s1)\n",
    "print(\"MSE with encoding sex as -1 and 1: %lf\" % mse_s1)\n",
    "\n",
    "\n",
    "#---------- f0\n",
    "linreg_f0 = linear_model.LinearRegression()\n",
    "linreg_f0.fit(X_train_f0,Y_train)\n",
    "Y_pred_f0 = linreg_f0.predict(X_test_f0)\n",
    "mse_f0 = mean_squared_error(Y_test, Y_pred_f0)\n",
    "print(\"MSE with encoding famsup as 0 and 1: %lf\" % mse_f0)\n",
    "\n",
    "#---------- f1\n",
    "linreg_f1 = linear_model.LinearRegression()\n",
    "linreg_f1.fit(X_train_f1,Y_train)\n",
    "Y_pred_f1 = linreg_f1.predict(X_test_f1)\n",
    "mse_f1 = mean_squared_error(Y_test, Y_pred_f1)\n",
    "print(\"MSE with encoding famsup as -1 and 1: %lf\" % mse_f1)"
   ]
  },
  {
   "cell_type": "markdown",
   "metadata": {},
   "source": [
    "Ternyata hasilnya sama, mengapa ini bisa terjadi? Hal ini diakibatkan oleh penyesuaian bobot dari masing variabel kualitatif yang dipaksa menjadi dummy variabel. Mari kita lihat koefisien untuk keempat model tersebut."
   ]
  },
  {
   "cell_type": "code",
   "execution_count": 54,
   "metadata": {},
   "outputs": [
    {
     "name": "stdout",
     "output_type": "stream",
     "text": [
      "Bobot Parameter untuk s0\n",
      "[ 0.02527269  0.48067564 -1.59619359  0.08974091  0.01009094 -1.13719753]\n",
      "Bobot Parameter untuk s1\n",
      "[ 0.02527269  0.48067564 -1.59619359  0.08974091  0.01009094 -0.56859876]\n",
      "Bobot Parameter untuk f0\n",
      "[-0.02209524  0.37776027 -1.57949958  0.22240279  0.00851832 -0.81734082]\n",
      "Bobot Parameter untuk f1\n",
      "[-0.02209524  0.37776027 -1.57949958  0.22240279  0.00851832 -0.40867041]\n"
     ]
    }
   ],
   "source": [
    "print(\"Bobot Parameter untuk s0\")\n",
    "print(linreg_s0.coef_)\n",
    "print(\"Bobot Parameter untuk s1\")\n",
    "print(linreg_s1.coef_)\n",
    "print(\"Bobot Parameter untuk f0\")\n",
    "print(linreg_f0.coef_)\n",
    "print(\"Bobot Parameter untuk f1\")\n",
    "print(linreg_f1.coef_)"
   ]
  },
  {
   "cell_type": "markdown",
   "metadata": {},
   "source": [
    "Bisa kita lihat hanya bobot untuk variabel terakhir saja (hasil konversi variabel dummy) yang berubah, ini diakibatkan oleh perbedaan makna dari konversi biner yang dilakukan"
   ]
  },
  {
   "cell_type": "markdown",
   "metadata": {},
   "source": [
    "## Latihan:\n",
    "Buatlah perbandingan model regresi linier yang dibangun dengan variabel dummy dari prediktor kualitatif: 'school' dan 'reason' dan variabel kuantitatif: 'freetime', 'goout', 'Dalc', dan 'health'.\n",
    "\n",
    "Gunakan konversi variabel dummy -1 dan 1 untuk 'school'.\n",
    "\n",
    "Gunakan one-hot encoding untuk 'reason' yang menghasilkan 3 kolom baru\n",
    "\n",
    "Buatlah 4 model berbeda dengan konfigurasi prediktor:\n",
    "- Variabel kuantitatif saja (A)\n",
    "- variabel kuantitatif + variabel dummy 'school' (B)\n",
    "- variabel kuantitatif + variabel dummy 'reason' (C)\n",
    "- variabel kuantitatif + variabel dummy 'school' + variabel dummy 'reason' (D)\n",
    "\n",
    "Lalu, bagi dataset menjadi dataset latih dan uji dengan rasio 25:75 dengan random seed 2.\n",
    "\n",
    "Bandingkan MSE uji dari masing-masing model dan tentukan manakah:\n",
    "- Di antara A, B, C, dan D yang lebih baik? Apakah yang bisa disimpulkan?\n",
    "- Di antara B dan C yang lebih baik? Apakah yang bisa disimpulkan?"
   ]
  },
  {
   "cell_type": "code",
   "execution_count": null,
   "metadata": {},
   "outputs": [],
   "source": []
  }
 ],
 "metadata": {
  "kernelspec": {
   "display_name": "Python 3",
   "language": "python",
   "name": "python3"
  },
  "language_info": {
   "codemirror_mode": {
    "name": "ipython",
    "version": 3
   },
   "file_extension": ".py",
   "mimetype": "text/x-python",
   "name": "python",
   "nbconvert_exporter": "python",
   "pygments_lexer": "ipython3",
   "version": "3.6.5"
  }
 },
 "nbformat": 4,
 "nbformat_minor": 2
}
