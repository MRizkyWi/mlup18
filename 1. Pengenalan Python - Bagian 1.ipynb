{
 "cells": [
  {
   "cell_type": "markdown",
   "metadata": {},
   "source": [
    "Dalam lokakarya ini, kita akan menggunakan Jupyter Notebook secara penuh. Fungsi dari Jupyter Notebook adalah sebagai buku catatan dari semua eksperimen yang ingin kita tampilkan tetap tersimpan dan dapat tampil dengan \"indah\" meskipun setelah aplikasi Jupyter Notebook di-shutdown  "
   ]
  },
  {
   "cell_type": "markdown",
   "metadata": {},
   "source": [
    "Python adalah salah satu bahasa pemrograman yang sedang populer saat ini. Dibuat oleh Guido van Rossum dan dirilis pertama kali pada 1991. Python memiliki filosofi desain yang menitikberatkan pada keterbacaan kode dengan penerapan whitespace. Python memberikan kemudahan untuk pemrograman yang jelas dalam skala kecil dan besar."
   ]
  },
  {
   "cell_type": "markdown",
   "metadata": {},
   "source": [
    "## Variabel dan Tipe Data"
   ]
  },
  {
   "cell_type": "markdown",
   "metadata": {},
   "source": [
    "Anggaplah suatu variabel sebagai penampung suatu nilai yang bisa kita ubah-ubah secara fleksibel dan bisa kita kombinasikan dengan operasi nilai lainnya. Dalam penerapannya, kita bisa memasukkan suatu nilai ke dalam variabel dengan operasi 'assignment' (=). Berikut kita akan membuat 3 buah variabel, yakni a, b, dan c yang masing-masing memiliki tipe data berbeda-beda."
   ]
  },
  {
   "cell_type": "code",
   "execution_count": 6,
   "metadata": {},
   "outputs": [],
   "source": [
    "a = 3\n",
    "b = 0.003\n",
    "c = 'three'"
   ]
  },
  {
   "cell_type": "markdown",
   "metadata": {},
   "source": [
    "Variabel a memiliki nilai 3 (integer), b memiliki nilai 0.003 (float), dan c memiliki nilai 'three' (string). Kita akan menggunakan ketiga nilai ini ke depannya."
   ]
  },
  {
   "cell_type": "markdown",
   "metadata": {},
   "source": [
    "Dalam pemrograman Python, kita akan akrab dengan operasi aritmetika dan logika. Untuk langkah awal ini, kita akan mencoba operasi aritmetika sederhana."
   ]
  },
  {
   "cell_type": "markdown",
   "metadata": {},
   "source": [
    "## Operasi Aritmetika dan Logika"
   ]
  },
  {
   "cell_type": "code",
   "execution_count": 1,
   "metadata": {},
   "outputs": [
    {
     "data": {
      "text/plain": [
       "6"
      ]
     },
     "execution_count": 1,
     "metadata": {},
     "output_type": "execute_result"
    }
   ],
   "source": [
    "#Penjumlahan\n",
    "3 + 3"
   ]
  },
  {
   "cell_type": "code",
   "execution_count": 5,
   "metadata": {},
   "outputs": [
    {
     "data": {
      "text/plain": [
       "33"
      ]
     },
     "execution_count": 5,
     "metadata": {},
     "output_type": "execute_result"
    }
   ],
   "source": [
    "#Perkalian\n",
    "3*11"
   ]
  },
  {
   "cell_type": "code",
   "execution_count": 6,
   "metadata": {},
   "outputs": [
    {
     "data": {
      "text/plain": [
       "0.6"
      ]
     },
     "execution_count": 6,
     "metadata": {},
     "output_type": "execute_result"
    }
   ],
   "source": [
    "#Pembagian\n",
    "3/5"
   ]
  },
  {
   "cell_type": "code",
   "execution_count": 7,
   "metadata": {},
   "outputs": [
    {
     "data": {
      "text/plain": [
       "1"
      ]
     },
     "execution_count": 7,
     "metadata": {},
     "output_type": "execute_result"
    }
   ],
   "source": [
    "#Modulo\n",
    "9%4"
   ]
  },
  {
   "cell_type": "code",
   "execution_count": 8,
   "metadata": {},
   "outputs": [
    {
     "data": {
      "text/plain": [
       "243"
      ]
     },
     "execution_count": 8,
     "metadata": {},
     "output_type": "execute_result"
    }
   ],
   "source": [
    "#Pangkat\n",
    "3 ** 5"
   ]
  },
  {
   "cell_type": "markdown",
   "metadata": {},
   "source": [
    "Jupyter Notebook akan memberikan luaran/output dari baris operasi terakhir yang dieksekusi dalam tiap cell di jupyter notebook. Semisal dalam satu cell ada 2 operasi aritmetika bersamaan, yang akan dikeluarkan adalah yang paling terakhir. Contoh:"
   ]
  },
  {
   "cell_type": "code",
   "execution_count": 3,
   "metadata": {},
   "outputs": [
    {
     "data": {
      "text/plain": [
       "18"
      ]
     },
     "execution_count": 3,
     "metadata": {},
     "output_type": "execute_result"
    }
   ],
   "source": [
    "3 + 4 #menghasilkan 7\n",
    "9 + 9 #menghasilkan 18\n",
    "#7 - 1 #menghasilkan 6"
   ]
  },
  {
   "cell_type": "markdown",
   "metadata": {},
   "source": [
    "Untuk menampilkan semuanya dalam satu kali eksekusi cell sekaligus, kita bisa menggunakan syntax \"print\""
   ]
  },
  {
   "cell_type": "code",
   "execution_count": 45,
   "metadata": {},
   "outputs": [
    {
     "name": "stdout",
     "output_type": "stream",
     "text": [
      "7\n",
      "18\n",
      "6\n"
     ]
    }
   ],
   "source": [
    "print(3+4)\n",
    "print(9+9)\n",
    "print(7-1)"
   ]
  },
  {
   "cell_type": "markdown",
   "metadata": {},
   "source": [
    "Kita bisa menerapkan operasi aritmetika dengan variabel-variabel yang kita miliki. Berikut adalah contoh-contoh penerapannya dan penggunaan syntax \"print\" pada variabel dan beberapa operasi lainnya terhadap variabel"
   ]
  },
  {
   "cell_type": "code",
   "execution_count": 47,
   "metadata": {},
   "outputs": [
    {
     "name": "stdout",
     "output_type": "stream",
     "text": [
      "3\n",
      "0.003\n",
      "three\n",
      "6\n",
      "30\n",
      "0.5\n"
     ]
    }
   ],
   "source": [
    "d = 3 + 3\n",
    "e = a * 10\n",
    "f = a/d\n",
    "print(a)\n",
    "print(b)\n",
    "print(c)\n",
    "print(d)\n",
    "print(e)\n",
    "print(f)"
   ]
  },
  {
   "cell_type": "markdown",
   "metadata": {},
   "source": [
    "Hati-hati menggunakan operator assignment. Jika digunakan lebih dari satu kali terhadap suatu variabel, akan membuat nilai di dalamnya berubah. Maka cukup gunakan seperlunya. Gunakan variabel yang sama jika memang terjadi perubahan di dunia nyata."
   ]
  },
  {
   "cell_type": "code",
   "execution_count": 48,
   "metadata": {},
   "outputs": [
    {
     "name": "stdout",
     "output_type": "stream",
     "text": [
      "11\n",
      "bukan angka\n"
     ]
    }
   ],
   "source": [
    "variabel = 10\n",
    "variabel = 4 + 7\n",
    "print(variabel)\n",
    "#yang akan dicetak adalah nilai variabel terbaru, bukan 10\n",
    "variabel = variabel ** 10 - 5 + 100999\n",
    "variabel = \"bukan angka\"\n",
    "print(variabel)\n"
   ]
  },
  {
   "cell_type": "code",
   "execution_count": 77,
   "metadata": {},
   "outputs": [
    {
     "name": "stdout",
     "output_type": "stream",
     "text": [
      "10\n",
      "12\n",
      "4.0\n"
     ]
    }
   ],
   "source": [
    "#Ria memiliki 10 botol air minum\n",
    "botol = 10\n",
    "print(botol)\n",
    "\n",
    "#Yuli membelikan 2 botol air minum tambahan untuk Ria\n",
    "botol = botol + 2\n",
    "print(botol)\n",
    "\n",
    "#Ria pulang ke rumah dan membagikan botol tersebut ke tiga adiknya\n",
    "botol_adik = botol/3\n",
    "print(botol_adik)"
   ]
  },
  {
   "cell_type": "markdown",
   "metadata": {},
   "source": [
    "Operasi aritmetika dalam Python tentu mendukung operasi jamak dan berkurung. Urutan tanpa penggunaan tanda kurung akan dijelaskan nanti bersama operasi logika.\n",
    "Sumber: https://www.tutorialspoint.com/python/python_basic_operators.htm"
   ]
  },
  {
   "cell_type": "code",
   "execution_count": 49,
   "metadata": {},
   "outputs": [
    {
     "name": "stdout",
     "output_type": "stream",
     "text": [
      "6250000\n",
      "6250\n"
     ]
    }
   ],
   "source": [
    "print((10 * 5)  ** 4)\n",
    "print(10 * (5  ** 4))"
   ]
  },
  {
   "cell_type": "markdown",
   "metadata": {},
   "source": [
    "Penggunaan tanda kurung yang tidak sesuai akan menimbulkan galat"
   ]
  },
  {
   "cell_type": "code",
   "execution_count": 34,
   "metadata": {},
   "outputs": [
    {
     "ename": "SyntaxError",
     "evalue": "unexpected EOF while parsing (<ipython-input-34-2262c8225c43>, line 1)",
     "output_type": "error",
     "traceback": [
      "\u001b[0;36m  File \u001b[0;32m\"<ipython-input-34-2262c8225c43>\"\u001b[0;36m, line \u001b[0;32m1\u001b[0m\n\u001b[0;31m    (10 * (5  ** 4) % 3\u001b[0m\n\u001b[0m                       ^\u001b[0m\n\u001b[0;31mSyntaxError\u001b[0m\u001b[0;31m:\u001b[0m unexpected EOF while parsing\n"
     ]
    }
   ],
   "source": [
    "(10 * (5  ** 4) % 3"
   ]
  },
  {
   "cell_type": "markdown",
   "metadata": {},
   "source": [
    "Apa yang bisa dilakukan dengan operator matematika untuk String/teks? Operasi penambahan pada string hanya dimaksudkan untuk mengkonkatenasi/menyambung suatu string ke string lainnya."
   ]
  },
  {
   "cell_type": "code",
   "execution_count": 11,
   "metadata": {},
   "outputs": [
    {
     "data": {
      "text/plain": [
       "'threethree'"
      ]
     },
     "execution_count": 11,
     "metadata": {},
     "output_type": "execute_result"
    }
   ],
   "source": [
    "c + c"
   ]
  },
  {
   "cell_type": "markdown",
   "metadata": {},
   "source": [
    "Penggunaan petik tunggal (' ') atau petik ganda (\" \") pada Python tidak akan membuat perbedaan pada string"
   ]
  },
  {
   "cell_type": "code",
   "execution_count": 69,
   "metadata": {},
   "outputs": [
    {
     "data": {
      "text/plain": [
       "'threefour hellothree'"
      ]
     },
     "execution_count": 69,
     "metadata": {},
     "output_type": "execute_result"
    }
   ],
   "source": [
    "c + 'four' + ' ' + \"hello\" + c"
   ]
  },
  {
   "cell_type": "code",
   "execution_count": 18,
   "metadata": {},
   "outputs": [
    {
     "name": "stdout",
     "output_type": "stream",
     "text": [
      "3\n"
     ]
    },
    {
     "data": {
      "text/plain": [
       "'four3'"
      ]
     },
     "execution_count": 18,
     "metadata": {},
     "output_type": "execute_result"
    }
   ],
   "source": [
    "print(a)\n",
    "\"four\" + str(a)"
   ]
  },
  {
   "cell_type": "markdown",
   "metadata": {},
   "source": [
    "## Pencetakan"
   ]
  },
  {
   "cell_type": "markdown",
   "metadata": {},
   "source": [
    "Kita dapat mencetak hasil dari operasi-operasi dalam python dengan cara yang berbeda-beda. Yang paling umum adalah dengan menggunakan perintah print. Di dalam perintah print sendiri kita bisa menggunakan beberapa variasi terhadap variabel yang akan dicetak."
   ]
  },
  {
   "cell_type": "code",
   "execution_count": 19,
   "metadata": {},
   "outputs": [
    {
     "name": "stdout",
     "output_type": "stream",
     "text": [
      "3.003\n",
      "Saya akan mencetak nilai a:  3\n",
      "Saya akan mencetak 3 nilai, yakni a, b, dan c: 3, 0.003000, dan three\n"
     ]
    }
   ],
   "source": [
    "#bentuk biasa\n",
    "print(a+b)\n",
    "#bentuk dengan keterangan string yang kita tambahkan\n",
    "print(\"Saya akan mencetak nilai a: \", (a))\n",
    "\n",
    "#mencetak dengan format tertentu\n",
    "print(\"Saya akan mencetak 3 nilai, yakni a, b, dan c: %d, %f, dan %s\" % \n",
    "    (a,b,c))\n",
    "#%d menandakan nilai bilangan bulat/integer\n",
    "#%f menandakan nilai float\n",
    "#%s menandakan string"
   ]
  },
  {
   "cell_type": "code",
   "execution_count": 61,
   "metadata": {},
   "outputs": [
    {
     "name": "stdout",
     "output_type": "stream",
     "text": [
      "Saya akan mencetak 2 nilai, yakni a dan b: 3.000000 dan 0\n"
     ]
    }
   ],
   "source": [
    "#Bagaimana jika salah format untuk suatu tipe data?\n",
    "#misal seharusnya float menjadi %d\n",
    "#misal seharusnya integer menjadi %f\n",
    "print(\"Saya akan mencetak 2 nilai, yakni a dan b: %f dan %d\" % \n",
    "    (a,b))"
   ]
  },
  {
   "cell_type": "code",
   "execution_count": 65,
   "metadata": {},
   "outputs": [
    {
     "name": "stdout",
     "output_type": "stream",
     "text": [
      "Saya akan mencetak 1 nilai, yakni a: 3\n"
     ]
    }
   ],
   "source": [
    "#kalau yang dicetak salah dari angka menjadi teks?\n",
    "print(\"Saya akan mencetak 1 nilai, yakni a: %s\" % (a))"
   ]
  },
  {
   "cell_type": "code",
   "execution_count": 22,
   "metadata": {},
   "outputs": [
    {
     "data": {
      "text/plain": [
       "str"
      ]
     },
     "execution_count": 22,
     "metadata": {},
     "output_type": "execute_result"
    }
   ],
   "source": [
    "type(c)"
   ]
  },
  {
   "cell_type": "code",
   "execution_count": 66,
   "metadata": {},
   "outputs": [
    {
     "ename": "TypeError",
     "evalue": "%d format: a number is required, not str",
     "output_type": "error",
     "traceback": [
      "\u001b[0;31m---------------------------------------------------------------------------\u001b[0m",
      "\u001b[0;31mTypeError\u001b[0m                                 Traceback (most recent call last)",
      "\u001b[0;32m<ipython-input-66-05e8b3554585>\u001b[0m in \u001b[0;36m<module>\u001b[0;34m()\u001b[0m\n\u001b[1;32m      1\u001b[0m \u001b[0;31m#kalau yang dicetak salah dari teks menjadi angka?\u001b[0m\u001b[0;34m\u001b[0m\u001b[0;34m\u001b[0m\u001b[0m\n\u001b[0;32m----> 2\u001b[0;31m \u001b[0mprint\u001b[0m\u001b[0;34m(\u001b[0m\u001b[0;34m\"Saya akan mencetak 1 nilai, yakni c: %d\"\u001b[0m \u001b[0;34m%\u001b[0m \u001b[0;34m(\u001b[0m\u001b[0mc\u001b[0m\u001b[0;34m)\u001b[0m\u001b[0;34m)\u001b[0m\u001b[0;34m\u001b[0m\u001b[0m\n\u001b[0m",
      "\u001b[0;31mTypeError\u001b[0m: %d format: a number is required, not str"
     ]
    }
   ],
   "source": [
    "#kalau yang dicetak salah dari teks menjadi angka?\n",
    "print(\"Saya akan mencetak 1 nilai, yakni c: %d\" % (c))"
   ]
  },
  {
   "cell_type": "markdown",
   "metadata": {},
   "source": [
    "Tips: cek kembali tipe data dari masing-masing variabel, pastikan masing-masing variabel cocok untuk masing-masing operasi yang akan dieksekusi."
   ]
  },
  {
   "cell_type": "markdown",
   "metadata": {},
   "source": [
    "Sebenarnya masing banyak cara pencetakan dengan banyak variabel, tetapi kita akan fokus menggunakan cara ini saja: print(\"teks... %{notasi} ...text\",(variabel1, variabel2, ...))"
   ]
  },
  {
   "cell_type": "markdown",
   "metadata": {},
   "source": [
    "## Operator Logika"
   ]
  },
  {
   "cell_type": "markdown",
   "metadata": {},
   "source": [
    "Operasi logika merupakan komponen utama dari pemrograman, terutama percabangan. Nilai dari operasi logika hanya ada dua (biner/boolean), yakni: True dan False. Python mengunakan ciri-ciri Case Sensitive untuk menentukan nilai biner ini. Berikut contoh pernyataan yang menghasilkan nilai True dan False dengan operator perbandingan."
   ]
  },
  {
   "cell_type": "code",
   "execution_count": 70,
   "metadata": {},
   "outputs": [
    {
     "name": "stdout",
     "output_type": "stream",
     "text": [
      "True\n",
      "False\n",
      "True\n",
      "False\n",
      "False\n"
     ]
    }
   ],
   "source": [
    "print(3 == 3) #equal\n",
    "print(4 == 1) #equal\n",
    "print(4 != 1) #not equal\n",
    "print(3 - 5 > 1) #greater than\n",
    "print(0.00003 <= 0.000000001)"
   ]
  },
  {
   "cell_type": "markdown",
   "metadata": {},
   "source": [
    "Operator yang menghasilkan nilai True dan False dapat dikombinasikan dengan Operator AND, OR, dan NOT."
   ]
  },
  {
   "cell_type": "code",
   "execution_count": 72,
   "metadata": {},
   "outputs": [
    {
     "name": "stdout",
     "output_type": "stream",
     "text": [
      "False\n",
      "True\n",
      "False\n"
     ]
    }
   ],
   "source": [
    "a = 3\n",
    "b = 30\n",
    "c = 0.5\n",
    "\n",
    "print(a ==3 and b<c)\n",
    "print(a ==3 or b<c)\n",
    "print(not(a==3))"
   ]
  },
  {
   "cell_type": "markdown",
   "metadata": {},
   "source": [
    "Berikut truth table untuk masing-masing kombinasi operator logika:\n",
    "\n",
    "AND\n",
    "\n",
    "| A | B | A and B|\n",
    "|---|---|---|\n",
    "| True| True|True|\n",
    "| True| False|False|\n",
    "| False| True|False|\n",
    "| False | False | False |\n",
    "\n",
    "OR\n",
    "\n",
    "| A | B | A and B|\n",
    "|---|---|---|\n",
    "| True| True|True|\n",
    "| True| False|True|\n",
    "| False| True|True|\n",
    "| False | False | False |\n",
    "\n",
    "NOT\n",
    "\n",
    "| A | not(A)|\n",
    "|---|---|\n",
    "| False| True|\n",
    "| True| False|\n"
   ]
  },
  {
   "cell_type": "markdown",
   "metadata": {},
   "source": [
    "Operasi logika ini juga dapat menggunakan tanda kurung untuk mendahulukan operasi mana yang harus dikerjakan terlebih dahulu."
   ]
  },
  {
   "cell_type": "code",
   "execution_count": 76,
   "metadata": {},
   "outputs": [
    {
     "name": "stdout",
     "output_type": "stream",
     "text": [
      "False\n",
      "True\n"
     ]
    }
   ],
   "source": [
    "a = 5\n",
    "b = 3\n",
    "c = 10\n",
    "\n",
    "print(a>10 and (b==3 or c<30))\n",
    "print((a>10 and b==3) or c<30)"
   ]
  },
  {
   "cell_type": "markdown",
   "metadata": {},
   "source": [
    "### Latihan: penggunaan variabel, operator matematika dan logika, dan pencetakan"
   ]
  },
  {
   "cell_type": "markdown",
   "metadata": {},
   "source": [
    "Ari memiliki 10 kue, 13 buah, dan 7 buku. Budi mengambil 2 buah kue dari Ari. Berapakah kue Ari? Citra yang kaya raya membelikan Ari beberapa kue sehingga kue Ari sekarang menjadi 3 kali lipat jumlah kue sebelumnya. Berapakah kue Ari? Berapakah kue, buah, dan buku Ari?\n",
    "\n",
    "Gunakanlah pemrograman python untuk merepresentasikan perubahan nilai variabel dan cetak nilai dari variabel yang ditanyakan ketika ada pertanyaan \"berapa\". Khusus untuk pertanyaan terakhir, gunakan format untuk pencetakan banyak variabel dan keterangan."
   ]
  },
  {
   "cell_type": "code",
   "execution_count": null,
   "metadata": {},
   "outputs": [],
   "source": [
    "kue = None\n",
    "buah = None\n",
    "None = 7\n",
    "\n",
    "#kejadian Budi mengambil kue Ari\n",
    "\n",
    "#Berapakah kue Ari?\n",
    "\n",
    "#Kejadian Citra mengubah jumlah kue Ari\n",
    "\n",
    "#Berapakah kue Ari?\n",
    "\n",
    "#Berapakah kue, buah, dan buku Ari?"
   ]
  },
  {
   "cell_type": "markdown",
   "metadata": {},
   "source": [
    "## Struktur Data Sederhana di Python"
   ]
  },
  {
   "cell_type": "markdown",
   "metadata": {},
   "source": [
    "Setelah memahami konsep variabel, kita akan beranjak ke sesuatu untuk \"merapikan\" variabel. Semakin banyak proses yang akan kita kerjakan dalam program, akan semakin banyak variabel yang kita ingin olah. Kali ini, kita akan mengenal 3 macam struktur data dalam Python, yakni list, tuples, dan dictionaries."
   ]
  },
  {
   "cell_type": "markdown",
   "metadata": {},
   "source": [
    "Cerita: Ari memiliki keranjang berisi buah apel, pir, manggis, dan kelapa. Nantinya, buah-buahan ini akan dibagi-bagi, bagaimana cara mengolahnya dalam program?"
   ]
  },
  {
   "cell_type": "markdown",
   "metadata": {},
   "source": [
    "### List"
   ]
  },
  {
   "cell_type": "markdown",
   "metadata": {},
   "source": [
    "Struktur data yang paling sederhana adalah _list_. List adalah suatu barisan nilai. List dalam python bisa menampung beberapa variabel dengan tipe yang berbeda-beda. Namun, demi kemudahan pengerjaan, kita akan menggunakan list dengan satu macam tipe data saja. Sebagai contoh, kita akan membuat list dari bilangan bulat (integer)."
   ]
  },
  {
   "cell_type": "code",
   "execution_count": 101,
   "metadata": {},
   "outputs": [
    {
     "name": "stdout",
     "output_type": "stream",
     "text": [
      "[10, 1, 5, 2, 3]\n"
     ]
    }
   ],
   "source": [
    "my_list = [10, 1, 5, 2, 3]\n",
    "print(my_list)"
   ]
  },
  {
   "cell_type": "markdown",
   "metadata": {},
   "source": [
    "Dari code di atas, kita akan bisa dengan mudah menyimpan 5 nilai dalam 1 variabel struktur data list saja daripada menggunakan 5 variabel berbeda. Bagaimana cara mengakses elemen di dalam list?\n",
    "\n",
    "Python memiliki cara khusus untuk mengakses elemen dalam struktur datanya. Di contoh di atas, kita memiliki suatu daftar yang berisi nilai-nilai yang berbeda. Kita bisa mengakses elemen tersebut dengan menggunakan index. Penggunaannya adalah sebagai berikut: $list[index]$. Indeks dari struktur data Python dimulai dari 0 hingga $n-1$. $n$ adalah jumlah elemen yang terkandung dalam struktur data Python.\n",
    "\n",
    "Mari kita mencoba mengakses elemen ke-0 (nilai 10), elemen ke-2 (nilai 5), dan elemen ke-4 (nilai 3)"
   ]
  },
  {
   "cell_type": "code",
   "execution_count": 82,
   "metadata": {},
   "outputs": [
    {
     "name": "stdout",
     "output_type": "stream",
     "text": [
      "10\n",
      "5\n",
      "3\n"
     ]
    }
   ],
   "source": [
    "print(my_list[0])\n",
    "print(my_list[2])\n",
    "print(my_list[4])"
   ]
  },
  {
   "cell_type": "markdown",
   "metadata": {},
   "source": [
    "Tentu saja kita tidak bisa mengakses elemen dengan indeks dari struktur data melebihi jumlah elemen yang ada di dalamnya."
   ]
  },
  {
   "cell_type": "code",
   "execution_count": 84,
   "metadata": {},
   "outputs": [
    {
     "ename": "IndexError",
     "evalue": "list index out of range",
     "output_type": "error",
     "traceback": [
      "\u001b[0;31m---------------------------------------------------------------------------\u001b[0m",
      "\u001b[0;31mIndexError\u001b[0m                                Traceback (most recent call last)",
      "\u001b[0;32m<ipython-input-84-6fc7f31e950b>\u001b[0m in \u001b[0;36m<module>\u001b[0;34m()\u001b[0m\n\u001b[0;32m----> 1\u001b[0;31m \u001b[0mprint\u001b[0m\u001b[0;34m(\u001b[0m\u001b[0mmy_list\u001b[0m\u001b[0;34m[\u001b[0m\u001b[0;36m5\u001b[0m\u001b[0;34m]\u001b[0m\u001b[0;34m)\u001b[0m\u001b[0;34m\u001b[0m\u001b[0m\n\u001b[0m\u001b[1;32m      2\u001b[0m \u001b[0;31m#5 merupakan jumlah elemen dari list yang\u001b[0m\u001b[0;34m\u001b[0m\u001b[0;34m\u001b[0m\u001b[0m\n\u001b[1;32m      3\u001b[0m \u001b[0;31m#kita miliki, sehingga indeks yang bisa diakses hanya 0 sampai 4\u001b[0m\u001b[0;34m\u001b[0m\u001b[0;34m\u001b[0m\u001b[0m\n",
      "\u001b[0;31mIndexError\u001b[0m: list index out of range"
     ]
    }
   ],
   "source": [
    "print(my_list[5])\n",
    "#5 merupakan jumlah elemen dari list yang\n",
    "#kita miliki, sehingga indeks yang bisa diakses hanya 0 sampai 4"
   ]
  },
  {
   "cell_type": "markdown",
   "metadata": {},
   "source": [
    "Uniknya, Python dapat mengakses list dengan indeks negatif. Sebagaimana kita tahu, elemen yang bisa diakses memiliki indeks 0 hingga $n-1$. Indeks negatif menandakan elemen tersebut diakses dari akhir/ekor list. Mari kita coba akses elemen ke-(minus 1) atau ke-4, (minus 3) atau ke-2 atau minus 6 (apakah akan galat?)"
   ]
  },
  {
   "cell_type": "code",
   "execution_count": 85,
   "metadata": {},
   "outputs": [
    {
     "name": "stdout",
     "output_type": "stream",
     "text": [
      "3\n",
      "5\n"
     ]
    },
    {
     "ename": "IndexError",
     "evalue": "list index out of range",
     "output_type": "error",
     "traceback": [
      "\u001b[0;31m---------------------------------------------------------------------------\u001b[0m",
      "\u001b[0;31mIndexError\u001b[0m                                Traceback (most recent call last)",
      "\u001b[0;32m<ipython-input-85-6836fbaf126f>\u001b[0m in \u001b[0;36m<module>\u001b[0;34m()\u001b[0m\n\u001b[1;32m      1\u001b[0m \u001b[0mprint\u001b[0m\u001b[0;34m(\u001b[0m\u001b[0mmy_list\u001b[0m\u001b[0;34m[\u001b[0m\u001b[0;34m-\u001b[0m\u001b[0;36m1\u001b[0m\u001b[0;34m]\u001b[0m\u001b[0;34m)\u001b[0m\u001b[0;34m\u001b[0m\u001b[0m\n\u001b[1;32m      2\u001b[0m \u001b[0mprint\u001b[0m\u001b[0;34m(\u001b[0m\u001b[0mmy_list\u001b[0m\u001b[0;34m[\u001b[0m\u001b[0;34m-\u001b[0m\u001b[0;36m3\u001b[0m\u001b[0;34m]\u001b[0m\u001b[0;34m)\u001b[0m\u001b[0;34m\u001b[0m\u001b[0m\n\u001b[0;32m----> 3\u001b[0;31m \u001b[0mprint\u001b[0m\u001b[0;34m(\u001b[0m\u001b[0mmy_list\u001b[0m\u001b[0;34m[\u001b[0m\u001b[0;34m-\u001b[0m\u001b[0;36m6\u001b[0m\u001b[0;34m]\u001b[0m\u001b[0;34m)\u001b[0m\u001b[0;34m\u001b[0m\u001b[0m\n\u001b[0m",
      "\u001b[0;31mIndexError\u001b[0m: list index out of range"
     ]
    }
   ],
   "source": [
    "print(my_list[-1])\n",
    "print(my_list[-3])\n",
    "print(my_list[-6])"
   ]
  },
  {
   "cell_type": "markdown",
   "metadata": {},
   "source": [
    "Seperti yang kita tahu, elemen ke-4 (-1) dari list yang kita miliki adalah 3, elemen ke-2 (-3) dari list yang kita miliki adalah 5, dan elemen yang bisa kita akses adalah dari 0 sampai 4, dengan kata lain -5 hingga -1. Jadi, jika kita menggunakan indeks -6 akan menghasilkan galat."
   ]
  },
  {
   "cell_type": "markdown",
   "metadata": {},
   "source": [
    "#### Mengakses banyak elemen dalam List"
   ]
  },
  {
   "cell_type": "markdown",
   "metadata": {},
   "source": [
    "Jumlah elemen dalam my_list adalah 5, kita bisa mengakses beberapa elemen dalam list dengan cara mengindeksnya dengan suatu rentang tertentu agar menghasilkan keluaran list baru. Semisal kita mencoba mengeksekusi code di bawah ini."
   ]
  },
  {
   "cell_type": "code",
   "execution_count": 90,
   "metadata": {},
   "outputs": [
    {
     "data": {
      "text/plain": [
       "[1, 5, 2]"
      ]
     },
     "execution_count": 90,
     "metadata": {},
     "output_type": "execute_result"
    }
   ],
   "source": [
    "my_list[1:4]"
   ]
  },
  {
   "cell_type": "markdown",
   "metadata": {},
   "source": [
    "Kita akan mendapati elemen yang kita ambil adalah dari indeks ke-1 hingga SEBELUM indeks ke-4. my_list: [10, 1, 5, 2, 3], hasil: [1,5,2]. Secara formal, kita bisa menuliskan: $list[indeksawal : indeksakhir] $ akan menghasilkan list dengan potongan elemen dari indeksawal hingga SEBELUM indeksakhir. Kita akan mencoba beberapa cara mengindeks elemen jamak lainnya."
   ]
  },
  {
   "cell_type": "code",
   "execution_count": 95,
   "metadata": {},
   "outputs": [
    {
     "name": "stdout",
     "output_type": "stream",
     "text": [
      "[1, 5, 2, 3]\n",
      "[1, 5, 2, 3]\n",
      "[10, 1, 5]\n",
      "[10, 1]\n",
      "[5, 2, 3]\n"
     ]
    }
   ],
   "source": [
    "print(my_list[1:10])\n",
    "print(my_list[1:])\n",
    "print(my_list[:3])\n",
    "print(my_list[:-3])\n",
    "print(my_list[-3:])"
   ]
  },
  {
   "cell_type": "markdown",
   "metadata": {},
   "source": [
    "1. Kita tinjau baris pertama. Meskipun kita hanya memiliki jumlah elemen 5, kita bisa menuliskan indeks akhir lebih dari indeks yang diizinkan. Python akan mengabaikan nilai indeks akhir melebihi indeks valid dari jumlah elemen dari list. \n",
    "2. Kita tinjau baris kedua. Kita tidak menuliskan indeks akhir pada seleksi elemen. Maka, seleksi akan dilakukan dari indeks awal hingga elemen akhir dari list tersebut.\n",
    "3. Baris ketiga: mirip dengan baris kedua. Tanpa penulisan indeks awal pada seleksi elemen mengakibatkan kita mengakses semua elemen dari awal list hingga SEBELUM indeks akhir yang dituliskan dalam seleksi tersebut.\n",
    "4. Baris keempat dan kelima. Mirip dengan baris kedua dan ketiga, hanya saja kita menggunakan indeks berbasis negatif untuk menyeleksi elemen jamak dalam list."
   ]
  },
  {
   "cell_type": "markdown",
   "metadata": {},
   "source": [
    "### Menambah dan mengurangi elemen dalam list"
   ]
  },
  {
   "cell_type": "markdown",
   "metadata": {},
   "source": [
    "Kita bisa menambah dan mengurangi elemen dalam list dengan beberapa perintah khusus. Untuk menambah, kita bisa menggunakan perintah:\n",
    "1. list.append(elemen_baru), data yang ditambahkan akan ada di akhir list\n",
    "2. list.insert(indeks,elemen_baru), data yang ditambahkan akan ada di indeks yang ditentukan dalam perintah insert.\n",
    "\n",
    "Sedangkan untuk menghapus elemen dalam list, kita bisa menggunakan perintah:\n",
    "- list.remove(elemen), elemen yang ditinjau akan dihapus dari list. Jika tidak ada elemen tersebut, akan menghasilkan galat.\n",
    "\n",
    "Mari kita coba lihat contoh di bawah ini:\n"
   ]
  },
  {
   "cell_type": "code",
   "execution_count": 105,
   "metadata": {},
   "outputs": [
    {
     "name": "stdout",
     "output_type": "stream",
     "text": [
      "penambahan data\n",
      "[10, 1, 5, 2, 3]\n",
      "[10, 1, 5, 2, 3, 99]\n",
      "[10, 1, 99, 5, 2, 3]\n",
      "penghapusan data\n",
      "[10, 1, 5, 2, 3]\n"
     ]
    },
    {
     "ename": "ValueError",
     "evalue": "list.remove(x): x not in list",
     "output_type": "error",
     "traceback": [
      "\u001b[0;31m---------------------------------------------------------------------------\u001b[0m",
      "\u001b[0;31mValueError\u001b[0m                                Traceback (most recent call last)",
      "\u001b[0;32m<ipython-input-105-21aaedd8273f>\u001b[0m in \u001b[0;36m<module>\u001b[0;34m()\u001b[0m\n\u001b[1;32m     16\u001b[0m \u001b[0mlist_baru_app\u001b[0m\u001b[0;34m.\u001b[0m\u001b[0mremove\u001b[0m\u001b[0;34m(\u001b[0m\u001b[0;36m99\u001b[0m\u001b[0;34m)\u001b[0m\u001b[0;34m\u001b[0m\u001b[0m\n\u001b[1;32m     17\u001b[0m \u001b[0mprint\u001b[0m\u001b[0;34m(\u001b[0m\u001b[0mlist_baru_app\u001b[0m\u001b[0;34m)\u001b[0m\u001b[0;34m\u001b[0m\u001b[0m\n\u001b[0;32m---> 18\u001b[0;31m \u001b[0mmy_list\u001b[0m\u001b[0;34m.\u001b[0m\u001b[0mremove\u001b[0m\u001b[0;34m(\u001b[0m\u001b[0;36m99\u001b[0m\u001b[0;34m)\u001b[0m\u001b[0;34m\u001b[0m\u001b[0m\n\u001b[0m",
      "\u001b[0;31mValueError\u001b[0m: list.remove(x): x not in list"
     ]
    }
   ],
   "source": [
    "#kita akan gunakan dua variabel baru sebagai copy my_list untuk\n",
    "# menunjukkan perbedaan dari perintah append dan insert\n",
    "list_baru_app = my_list.copy()\n",
    "list_baru_ins = my_list.copy()\n",
    "\n",
    "\n",
    "print(\"penambahan data\")\n",
    "list_baru_app.append(99)\n",
    "list_baru_ins.insert(2,99)\n",
    "print(my_list)\n",
    "print(list_baru_app)\n",
    "print(list_baru_ins)\n",
    "\n",
    "print(\"penghapusan data\")\n",
    "#menghapus elemen 99\n",
    "list_baru_app.remove(99)\n",
    "print(list_baru_app)\n",
    "my_list.remove(99)"
   ]
  },
  {
   "cell_type": "markdown",
   "metadata": {},
   "source": [
    "\n",
    "### Array multidimensi sebagai list"
   ]
  },
  {
   "cell_type": "markdown",
   "metadata": {},
   "source": [
    "Dalam machine learning, kita akan banyak berinteraksi dengan data dengan bentuk matriks multidimensi. Data tabel biasa direpresentasikan dengan matriks 2 dimensi, sedangkan data citra biasa direpresentasikan dengan matriks 3 dimensi (panjang x lebar x channel RGB) atau bahkan 4 dimensi (jumlah data x panjang x lebar x channel RGB). Mari kita coba tinjau bagaimana membangun matriks 2 dimensi dengan konsep list di dalam list."
   ]
  },
  {
   "cell_type": "code",
   "execution_count": 24,
   "metadata": {},
   "outputs": [
    {
     "name": "stdout",
     "output_type": "stream",
     "text": [
      "[[1, 0, 0, 0], [2, 1, 1, 3], [2, 0, 1, 4], [-2, 1, 0, 8]]\n"
     ]
    }
   ],
   "source": [
    "mat_2d = [[1,0,0,0],[2,1,1,3],[2,0,1,4],[-2,1,0,8]]\n",
    "print(mat_2d)"
   ]
  },
  {
   "cell_type": "markdown",
   "metadata": {},
   "source": [
    "Matriks mat_2d memiliki dimensi 4x4 (4 baris dan 4 kolom). Sebenarnya list dalam list (atau nested_list) mengakomodasi list dengan ukuran tidak sama dari masing-masing sub-listnya. "
   ]
  },
  {
   "cell_type": "code",
   "execution_count": 107,
   "metadata": {},
   "outputs": [
    {
     "name": "stdout",
     "output_type": "stream",
     "text": [
      "[[1, 0, 0], [2, 1, 1, 3, 5], [4], [-2, 1, 0, 8]]\n"
     ]
    }
   ],
   "source": [
    "mat_2d_notuni = [[1,0,0],[2,1,1,3,5],[4],[-2,1,0,8]]\n",
    "print(mat_2d_notuni)"
   ]
  },
  {
   "cell_type": "markdown",
   "metadata": {},
   "source": [
    "Bagaimana mengakses elemen-elemen di dalam nested_list?\n",
    "\n",
    "Karena nested_list memiliki konsep list di dalam list, kita bisa mengakses elemennya dengan cara mengakses list paling luar menuju list paling dalam."
   ]
  },
  {
   "cell_type": "code",
   "execution_count": 25,
   "metadata": {},
   "outputs": [
    {
     "name": "stdout",
     "output_type": "stream",
     "text": [
      "[2, 1, 1, 3]\n",
      "1\n",
      "[2, 1]\n",
      "[[1, 0, 0, 0], [2, 1, 1, 3]]\n"
     ]
    }
   ],
   "source": [
    "print(mat_2d[1]) #akan mengakses sublist ke-1 dari nested_list dari mat_2d\n",
    "print(mat_2d[1][2]) #akan menghasilkan nilai tunggal\n",
    "print(mat_2d[1][:2]) #akan menghasilkan list baru\n",
    "print(mat_2d[:2]) #akan menghasilkan nested_list baru"
   ]
  },
  {
   "cell_type": "markdown",
   "metadata": {},
   "source": [
    "Dan akan kita lihat penerapan ini di numpy"
   ]
  },
  {
   "cell_type": "markdown",
   "metadata": {},
   "source": [
    "## Tuple"
   ]
  },
  {
   "cell_type": "markdown",
   "metadata": {},
   "source": [
    "Kita tidak akan membahas tuple terlalu jauh karena konsepnya tidak akan begitu banyak digunakan dalam lokakarya machine learning ini. Perbedaan utamanya dengan list adalah: \n",
    "1. List menggunakan kurung siku, tuple menggunakan kurung biasa\n",
    "2. Isi list dapat diubah-ubah (mutable) sedangkan tuple tidak bisa (immutable)\n",
    "3. Komputasi dalam tuple sedikit lebih cepat daripada list."
   ]
  },
  {
   "cell_type": "markdown",
   "metadata": {},
   "source": [
    "## Dictionaries\n",
    "\n",
    "Sedikit berbeda dengan list, dictionary memiliki fungsi struktur data sebagai \"pasangan\" dengan nama unik dengan nilai tertentu. Maksudnya seperti apa? Kita lihat saja contoh code di bawah ini."
   ]
  },
  {
   "cell_type": "code",
   "execution_count": 121,
   "metadata": {},
   "outputs": [
    {
     "name": "stdout",
     "output_type": "stream",
     "text": [
      "{'nama': 'Seseorang', 'jenis_kelamin': 'F', 'tinggi_badan': 165, 'barang': ['tas', 'jaket']}\n"
     ]
    }
   ],
   "source": [
    "manusia = {'nama': 'Seseorang', 'jenis_kelamin':'F', 'tinggi_badan':165,\n",
    "          'barang':['tas','jaket']}\n",
    "print(manusia)"
   ]
  },
  {
   "cell_type": "markdown",
   "metadata": {},
   "source": [
    "Dalam contoh di atas, kita membuat dictionary 'manusia' dengan segala ciri-ciri yang dimiliki. Dictionary memiliki pasangan \"kunci\" dengan \"nilai\" sebagai elemen-elemennya. Semisal: kunci 'nama' mengacu pada nilai 'seseorang', kunci 'tinggi_badan' mengacu pada 165. Untuk mengakses elemen di dalamnya, kita bisa menggunakan kunci untuk mengambil nilai yang diinginkan."
   ]
  },
  {
   "cell_type": "code",
   "execution_count": 124,
   "metadata": {},
   "outputs": [
    {
     "name": "stdout",
     "output_type": "stream",
     "text": [
      "Seseorang\n",
      "Tinggi badan perempuan itu: 165\n",
      "Daftar barang bawaan perempuan itu: ['tas', 'jaket']\n"
     ]
    }
   ],
   "source": [
    "print(manusia['nama'])\n",
    "print(\"Tinggi badan perempuan itu: %d\" % manusia['tinggi_badan'])\n",
    "print(\"Daftar barang bawaan perempuan itu: %s\" % manusia['barang'])"
   ]
  },
  {
   "cell_type": "markdown",
   "metadata": {},
   "source": [
    "Pasangan kunci dan nilai dalam dictionary juga bisa ditambahkan dengan mudah. Mari kita lihat contoh di bawah ini:"
   ]
  },
  {
   "cell_type": "code",
   "execution_count": 125,
   "metadata": {},
   "outputs": [
    {
     "name": "stdout",
     "output_type": "stream",
     "text": [
      "{'nama': 'Seseorang', 'jenis_kelamin': 'F', 'tinggi_badan': 165, 'barang': ['tas', 'jaket'], 'kuliah': 'Universitas Pertamina'}\n"
     ]
    }
   ],
   "source": [
    "manusia['kuliah'] = 'Universitas Pertamina'\n",
    "print(manusia)"
   ]
  },
  {
   "cell_type": "markdown",
   "metadata": {},
   "source": [
    "## Latihan: Operasi aritmetika dengan nilai di dalam list dan dictionary\n",
    "\n",
    "1. Saku Kurnia berisi beberapa keping koin dengan nilai uangnya adalah 100, 100, 500, 100, dan 1000. Buatlah representasi saku kurnia dalam bentuk list, kemudian tampilkan.\n",
    "2. Dia akan membeli buku dengan harga 300 rupiah. Dia mengeluarkan 3 keping koin 100 dari sakunya. Dengan perintah remove, representasikan kejadian ini dan tampilkan isi akhir saku Kurnia.  \n",
    "3. Kurnia menerima 2 keping koin 1000 dan dimasukkan ke dalam sakunya. Dengan perintah append, representasikan kejadian ini dan tampilkan isi akhir saku Kurnia.\n",
    "4. Kurnia ingin mengambil koin ke-0 hingga ke-3 dari sakunya. Berapa sajakah koin ini?\n",
    "5. Kurnia tidak hanya memiliki saku berisi koin. Kurnia memiliki ciri lainnya. Kurnia adalah laki-laki setinggi 170 cm dengan nilai UTS Ekonometrika adalah 100. Tampilkan Kurnia dalam bentuk dictionary.\n",
    "6. Kurnia sekarang sedang belajar di program studi Rekayasa Finansial. Tambahkan ciri ini ke dictionary Kurnia."
   ]
  },
  {
   "cell_type": "code",
   "execution_count": null,
   "metadata": {},
   "outputs": [],
   "source": []
  }
 ],
 "metadata": {
  "kernelspec": {
   "display_name": "Python 3",
   "language": "python",
   "name": "python3"
  },
  "language_info": {
   "codemirror_mode": {
    "name": "ipython",
    "version": 3
   },
   "file_extension": ".py",
   "mimetype": "text/x-python",
   "name": "python",
   "nbconvert_exporter": "python",
   "pygments_lexer": "ipython3",
   "version": "3.6.5"
  }
 },
 "nbformat": 4,
 "nbformat_minor": 2
}
