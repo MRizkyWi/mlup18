{
 "cells": [
  {
   "cell_type": "markdown",
   "metadata": {},
   "source": [
    "Berbeda dengan konsep sebelumnya. Saat ini kita akan mempelajari konsep klasifikasi dengan regresi logistik. Jika regresi menangani kasus variabel target kontinu, klasifikasi menangani kasus variabel target diskrit/kategorikal. Mari kita lihat perbedaan antara kedua dataset dengan target kontinu dan kategorikal."
   ]
  },
  {
   "cell_type": "code",
   "execution_count": 21,
   "metadata": {},
   "outputs": [],
   "source": [
    "import pandas as pd\n",
    "\n",
    "data_regresi = pd.read_csv(\"Data/Regression/House Price Portland/data.csv\")\n",
    "data_klasifikasi = pd.read_csv(\"Data/Classification/Iris/iris.csv\")\n"
   ]
  },
  {
   "cell_type": "code",
   "execution_count": 22,
   "metadata": {},
   "outputs": [
    {
     "data": {
      "text/html": [
       "<div>\n",
       "<style scoped>\n",
       "    .dataframe tbody tr th:only-of-type {\n",
       "        vertical-align: middle;\n",
       "    }\n",
       "\n",
       "    .dataframe tbody tr th {\n",
       "        vertical-align: top;\n",
       "    }\n",
       "\n",
       "    .dataframe thead th {\n",
       "        text-align: right;\n",
       "    }\n",
       "</style>\n",
       "<table border=\"1\" class=\"dataframe\">\n",
       "  <thead>\n",
       "    <tr style=\"text-align: right;\">\n",
       "      <th></th>\n",
       "      <th>size</th>\n",
       "      <th>bedroom</th>\n",
       "      <th>price</th>\n",
       "    </tr>\n",
       "  </thead>\n",
       "  <tbody>\n",
       "    <tr>\n",
       "      <th>0</th>\n",
       "      <td>2104</td>\n",
       "      <td>3</td>\n",
       "      <td>399900</td>\n",
       "    </tr>\n",
       "    <tr>\n",
       "      <th>1</th>\n",
       "      <td>1600</td>\n",
       "      <td>3</td>\n",
       "      <td>329900</td>\n",
       "    </tr>\n",
       "    <tr>\n",
       "      <th>2</th>\n",
       "      <td>2400</td>\n",
       "      <td>3</td>\n",
       "      <td>369000</td>\n",
       "    </tr>\n",
       "    <tr>\n",
       "      <th>3</th>\n",
       "      <td>1416</td>\n",
       "      <td>2</td>\n",
       "      <td>232000</td>\n",
       "    </tr>\n",
       "    <tr>\n",
       "      <th>4</th>\n",
       "      <td>3000</td>\n",
       "      <td>4</td>\n",
       "      <td>539900</td>\n",
       "    </tr>\n",
       "  </tbody>\n",
       "</table>\n",
       "</div>"
      ],
      "text/plain": [
       "   size  bedroom   price\n",
       "0  2104        3  399900\n",
       "1  1600        3  329900\n",
       "2  2400        3  369000\n",
       "3  1416        2  232000\n",
       "4  3000        4  539900"
      ]
     },
     "execution_count": 22,
     "metadata": {},
     "output_type": "execute_result"
    }
   ],
   "source": [
    "data_regresi.head()"
   ]
  },
  {
   "cell_type": "code",
   "execution_count": 23,
   "metadata": {},
   "outputs": [
    {
     "data": {
      "text/html": [
       "<div>\n",
       "<style scoped>\n",
       "    .dataframe tbody tr th:only-of-type {\n",
       "        vertical-align: middle;\n",
       "    }\n",
       "\n",
       "    .dataframe tbody tr th {\n",
       "        vertical-align: top;\n",
       "    }\n",
       "\n",
       "    .dataframe thead th {\n",
       "        text-align: right;\n",
       "    }\n",
       "</style>\n",
       "<table border=\"1\" class=\"dataframe\">\n",
       "  <thead>\n",
       "    <tr style=\"text-align: right;\">\n",
       "      <th></th>\n",
       "      <th>sepal length</th>\n",
       "      <th>sepal width</th>\n",
       "      <th>petal length</th>\n",
       "      <th>petal width</th>\n",
       "      <th>class</th>\n",
       "    </tr>\n",
       "  </thead>\n",
       "  <tbody>\n",
       "    <tr>\n",
       "      <th>0</th>\n",
       "      <td>5.1</td>\n",
       "      <td>3.5</td>\n",
       "      <td>1.4</td>\n",
       "      <td>0.2</td>\n",
       "      <td>Iris-setosa</td>\n",
       "    </tr>\n",
       "    <tr>\n",
       "      <th>1</th>\n",
       "      <td>4.9</td>\n",
       "      <td>3.0</td>\n",
       "      <td>1.4</td>\n",
       "      <td>0.2</td>\n",
       "      <td>Iris-setosa</td>\n",
       "    </tr>\n",
       "    <tr>\n",
       "      <th>2</th>\n",
       "      <td>4.7</td>\n",
       "      <td>3.2</td>\n",
       "      <td>1.3</td>\n",
       "      <td>0.2</td>\n",
       "      <td>Iris-setosa</td>\n",
       "    </tr>\n",
       "    <tr>\n",
       "      <th>3</th>\n",
       "      <td>4.6</td>\n",
       "      <td>3.1</td>\n",
       "      <td>1.5</td>\n",
       "      <td>0.2</td>\n",
       "      <td>Iris-setosa</td>\n",
       "    </tr>\n",
       "    <tr>\n",
       "      <th>4</th>\n",
       "      <td>5.0</td>\n",
       "      <td>3.6</td>\n",
       "      <td>1.4</td>\n",
       "      <td>0.2</td>\n",
       "      <td>Iris-setosa</td>\n",
       "    </tr>\n",
       "  </tbody>\n",
       "</table>\n",
       "</div>"
      ],
      "text/plain": [
       "   sepal length  sepal width  petal length  petal width        class\n",
       "0           5.1          3.5           1.4          0.2  Iris-setosa\n",
       "1           4.9          3.0           1.4          0.2  Iris-setosa\n",
       "2           4.7          3.2           1.3          0.2  Iris-setosa\n",
       "3           4.6          3.1           1.5          0.2  Iris-setosa\n",
       "4           5.0          3.6           1.4          0.2  Iris-setosa"
      ]
     },
     "execution_count": 23,
     "metadata": {},
     "output_type": "execute_result"
    }
   ],
   "source": [
    "data_klasifikasi.head()"
   ]
  },
  {
   "cell_type": "markdown",
   "metadata": {},
   "source": [
    "Target dari dataset Portland Housing adalah \"Price\", sedangkan target dari dataset Iris \"class\". Cara melatih model klasifikasi masih sama dengan pelatihan model regresi."
   ]
  },
  {
   "cell_type": "code",
   "execution_count": 25,
   "metadata": {},
   "outputs": [],
   "source": [
    "from sklearn import linear_model\n",
    "import numpy as np\n",
    "\n",
    "logreg = linear_model.LogisticRegression()\n",
    "\n",
    "\n",
    "#Pembagian dataset menjadi data uji dan latih dengan rasio 25:75\n",
    "data_iris = data_klasifikasi\n",
    "np.random.seed(0)\n",
    "randomval = np.random.randn(data_iris.shape[0])\n",
    "X_train = data_iris.iloc[randomval<=0.75,:4]\n",
    "X_test = data_iris.iloc[randomval>0.75,:4]\n",
    "Y_train = data_iris.iloc[randomval<=0.75,4]\n",
    "Y_test = data_iris.iloc[randomval>0.75,4]\n",
    "\n",
    "#pelatihan dengan data latih dan data uji\n",
    "logreg.fit(X_train,Y_train)\n",
    "Y_pred = logreg.predict(X_test)"
   ]
  },
  {
   "cell_type": "markdown",
   "metadata": {},
   "source": [
    "Apakah yang sebenarnya diprediksi oleh regresi logistik? Mari kita cek dan bandingkan dengan target pada dataset testing."
   ]
  },
  {
   "cell_type": "code",
   "execution_count": 15,
   "metadata": {},
   "outputs": [
    {
     "name": "stdout",
     "output_type": "stream",
     "text": [
      "['Iris-setosa' 'Iris-setosa' 'Iris-setosa' 'Iris-setosa' 'Iris-setosa']\n",
      "['Iris-setosa' 'Iris-setosa' 'Iris-setosa' 'Iris-setosa' 'Iris-setosa']\n"
     ]
    }
   ],
   "source": [
    "print(Y_pred[:5])\n",
    "print(Y_test[:5].values)"
   ]
  },
  {
   "cell_type": "markdown",
   "metadata": {},
   "source": [
    "Bagaimana kita mengukur keberhasilan model kita? Mirip dengan penggunaan MSE $ = \\sum_{i=1}^{n} (y_i - \\hat{y}_i)^2$. Kita menggunakan akurasi (accuracy) untuk mengukur keberhasilan model klasifikasi."
   ]
  },
  {
   "cell_type": "markdown",
   "metadata": {},
   "source": [
    "\\begin{equation}\n",
    "acc = \\sum_{i=1}^{n}(y_i == \\hat{y}_i)\n",
    "\\end{equation}\n",
    "\n",
    "Semakin tinggi nilai akurasi, berarti semakin banyak prediksi dari klasifikasi yang tepat sasaran/sama dengan data uji."
   ]
  },
  {
   "cell_type": "markdown",
   "metadata": {},
   "source": [
    "Latihan: Secara manual, hitung akurasi dari hasil prediksi model regresi logistik yang baru saja kita buat."
   ]
  },
  {
   "cell_type": "code",
   "execution_count": 26,
   "metadata": {},
   "outputs": [],
   "source": [
    "akurasi = None"
   ]
  },
  {
   "cell_type": "markdown",
   "metadata": {},
   "source": [
    "## Regresi Logistik"
   ]
  },
  {
   "cell_type": "markdown",
   "metadata": {},
   "source": [
    "Apakah sebenarnya regresi logistik? Regresi logistik adalah model klasifikasi yang sederhana yang memprediksi kategori/kelas dari suatu himpunan prediktor dengan memanfaatkan regresi linier yang dimodifikasi.\n",
    "\n",
    "Kategori dengan dua kelas Yes dan No yang diprediksi oleh tugas klasifikasi pada hakikatnya bisa direpresentasikan secara kasar dengan regresi logistik sebagai berikut:\n",
    "\n",
    "\\begin{equation}\n",
    "Y = \n",
    "\\begin{cases}\n",
    "1, \\text{if Yes} \\\\\n",
    "0, \\text{if No}\n",
    "\\end{cases}\n",
    "\\end{equation}\n",
    "\n",
    "Namun, hal tersebut akan menimbulkan suatu masalah dengan regresi linier biasa. Masalah tersebut bisa dilihat di bagian kiri gambar di bawah ini.\n",
    "![Alt Text](img/4. linreg-logreg.jpeg)\n",
    "\n",
    "Banyak nilai di antara 0 dan 1 yang terbuang sia-sia, ada nilai prediksi yang negatif, ada nilai prediksi yang melebihi 1, dan seterusnya. Tetapi, regresi logistik, pada gambar di kanan dapat meminimalisasi masalah tersebut dengan cukup baik. "
   ]
  },
  {
   "cell_type": "markdown",
   "metadata": {},
   "source": [
    "## Formulasi Regresi Logistik"
   ]
  },
  {
   "cell_type": "markdown",
   "metadata": {},
   "source": [
    "Regresi logistik memodifikasi regresi linier sedemikian hingga prediksi dari model tersebut adalah probabilitas dari mendekati 0 hingga mendekati 1 (hampir tidak mungkin tegas 0 dan 1).\n",
    "\n",
    "Berikut formula dari model regresi logistik:\n",
    "\\begin{equation}\n",
    "p(X) = \\frac{e^{\\beta_0 + \\beta_1 x}}{1+e^{\\beta_0 + \\beta_1 x}}\n",
    "\\end{equation}\n",
    "\n",
    "Bisa kita lihat eksponen dari bilangan natural adalah regresi linier. Bisa dibilang regresi logistik adalah fungsi logistik/sigmoid dari regresi linier.\n",
    "\n",
    "Fungsi logistik/sigmoid:\n",
    "\\begin{equation}\n",
    "f(x) = \\frac{e^x}{1+e^x}\n",
    "\\end{equation}\n",
    "\n",
    "#### Tunggu!\n",
    "Hasil dari prediksi regresi logistik bukannya bisa dari 0 hingga 1 dan hampir tidak mungkin tegas 0 dan 1? Bagaimana regresi logistik bisa mencapai nilai 0 dan 1 secara tegas?\n",
    "\n",
    "Jawaban: Regresi logistik bisa memanfaatkan suatu threshold (misal: 0.5) untuk mendapatkan nilai tegas 0 dan 1. Jika $p(X) \\leq 0.5$, maka kelasnya adalah 0 dan jika $p(X) \\gt 0.5$, maka kelasnya adalah 1.\n",
    "\n",
    "#### Tunggu! (lagi)\n",
    "Bagaimana jika kategori yang diprediksi lebih dari 2?\n",
    "\n",
    "Jawaban: scikit learn menerapkan pendekatan one-versus-all dalam prediksinya. Silakan lihat penjelasan di papan tulis."
   ]
  },
  {
   "cell_type": "markdown",
   "metadata": {},
   "source": [
    "### Mengestimasi parameter dari regresi logistik\n",
    "\n",
    "Mirip dengan regresi linier yang meminimasi fungsi RSS, regresi logistik memaksimalkan suatu fungsi _likelihood_ dari himpunan parameter yang dimilikinya. Berikut fungsinya:\n",
    "\n",
    "\\begin{equation}\n",
    "l(\\beta_0,\\beta_1) = \\prod_{i:y_i = 1} p(x_i)\\prod_{j:y_j = 0} (1 - p(x_j))  \n",
    "\\end{equation}\n",
    "\n",
    "Intuisi fungsi ini akan lebih mudah jika kita terapkan logaritma:\n",
    "\\begin{equation}\n",
    "log(l(\\beta_0,\\beta_1)) = \\sum_{i:y_i = 1} p(x_i)\\sum_{j:y_j = 0} (1 - p(x_j))  \n",
    "\\end{equation}\n"
   ]
  },
  {
   "cell_type": "markdown",
   "metadata": {},
   "source": [
    "Latihan: gunakan Logistic Regression terhadap dataset Credit Loan pada \"Data/Classification/Iris/iris.csv\", gunakan metode read_excel pada pandas.\n",
    "1. Variabel target adalah kolom terakhir, dan jangan lupa hilangkan id pada prediktor.\n",
    "2. Terapkan random seed 0 pada pembagian data latih dan data uji dengan rasio 75:25\n",
    "3. Terapkan regresi logistik pada data latih dan data uji, hitung akurasinya.\n",
    "4. Terapkan regularisasi L1 dan L2 terhadap regresi logistik, gunakan C dari 10^-5 hingga 10^5. Bandingkan akurasi uji dari model-model hasil regularisasi tersebut. Apakah regularisasi membantu meningkatkan akurasi uji model?\n",
    "\n",
    "Berikut dokumentasi dari sklearn:\n",
    "http://scikit-learn.org/stable/modules/generated/sklearn.linear_model.LogisticRegression.html#sklearn.linear_model.LogisticRegression\n",
    "\n",
    "**Parameters:**\t\n",
    "\n",
    "**penalty** : str, ‘l1’ or ‘l2’, default: ‘l2’\n",
    "\n",
    "Used to specify the norm used in the penalization. The ‘newton-cg’, ‘sag’ and ‘lbfgs’ solvers support only l2 penalties.\n",
    "\n",
    "**C** : float, default: 1.0\n",
    "\n",
    "Inverse of regularization strength; must be a positive float. Like in support vector machines, smaller values specify stronger regularization.\n",
    "\n",
    "Contoh code:\n",
    "http://scikit-learn.org/stable/auto_examples/linear_model/plot_logistic_l1_l2_sparsity.html"
   ]
  },
  {
   "cell_type": "code",
   "execution_count": null,
   "metadata": {},
   "outputs": [],
   "source": []
  }
 ],
 "metadata": {
  "kernelspec": {
   "display_name": "Python 3",
   "language": "python",
   "name": "python3"
  },
  "language_info": {
   "codemirror_mode": {
    "name": "ipython",
    "version": 3
   },
   "file_extension": ".py",
   "mimetype": "text/x-python",
   "name": "python",
   "nbconvert_exporter": "python",
   "pygments_lexer": "ipython3",
   "version": "3.6.5"
  }
 },
 "nbformat": 4,
 "nbformat_minor": 2
}
