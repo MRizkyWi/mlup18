{
 "cells": [
  {
   "cell_type": "markdown",
   "metadata": {},
   "source": [
    "# Regresi Linier - Satu Luaran, Satu Prediktor"
   ]
  },
  {
   "cell_type": "markdown",
   "metadata": {},
   "source": [
    "Sumber: An Introduction to Statistical Learning with Applications in R (Springer)"
   ]
  },
  {
   "cell_type": "markdown",
   "metadata": {},
   "source": [
    "Modul ini akan membahas mengenai metode <i>Machine Learning</i> paling sederhana, yakni regresi linier. Tujuan dari regresi linier adalah untuk mencari hubungan <b>linier</b> antara variabel prediktor (X) dan variabel target (Y). Hubungan ini biasa direpresentasikan dengan persamaan di bawah ini."
   ]
  },
  {
   "cell_type": "markdown",
   "metadata": {},
   "source": [
    "\\begin{equation}\n",
    "Y \\approx \\beta_0 + \\beta_1 X\n",
    "\\end{equation}\n"
   ]
  },
  {
   "cell_type": "markdown",
   "metadata": {},
   "source": [
    "Jika kita ingin merepresentasikan hubungan antara hubungan penjualan (Sales) sebagai target dan anggaran iklan TV (TV) sebagai prediktor, maka hubungan itu bisa dimodelkan dengan:"
   ]
  },
  {
   "cell_type": "markdown",
   "metadata": {},
   "source": [
    "\\begin{equation}\n",
    "sales \\approx \\beta_0 + \\beta_1 tv\n",
    "\\end{equation}"
   ]
  },
  {
   "cell_type": "markdown",
   "metadata": {},
   "source": [
    "Dengan $\\beta_0$ dan $\\beta_1$ adalah parameter \"intercept\" dan \"kemiringan\" pada model linier yang masing-masing nilainya tidak diketahui. Model yang akan kita latih akan memberikan suatu nilai perkiraan $\\hat{\\beta_0}$ dan $\\hat{\\beta_1}$ yang digunakan untuk mendekati nilai sebenarnya dari $\\beta_0$ dan $\\beta_1$. Kedua parameter ini, beserta prediktor, akan bertugas memprediksi nilai target yang belum diketahui."
   ]
  },
  {
   "cell_type": "markdown",
   "metadata": {},
   "source": [
    "\\begin{equation}\n",
    "\\hat{y} = \\hat{\\beta_0} + \\hat{\\beta_1} {x}\n",
    "\\end{equation}\n"
   ]
  },
  {
   "cell_type": "markdown",
   "metadata": {},
   "source": [
    "$\\hat{y}$ menandakan prediksi dari Y dengan X = $x$. Penggunaan simbol hat ($\\hat{ }$) menandakan nilai perkiraan dari koefisien atau target."
   ]
  },
  {
   "cell_type": "markdown",
   "metadata": {},
   "source": [
    "## 1. Model Regresi Linier dengan Satu Variabel Prediktor"
   ]
  },
  {
   "cell_type": "markdown",
   "metadata": {},
   "source": [
    "Contoh data hubungan antara Sales dan TV"
   ]
  },
  {
   "cell_type": "markdown",
   "metadata": {},
   "source": [
    "| Sales (y) | TV (x) |\n",
    "|-----------|--------|\n",
    "| 7         | 0      |\n",
    "| 7.2       | 1      |\n",
    "| ...       | ...    |\n",
    "| 23        | 250    |\n",
    "| 25        | 278    |\n",
    "| 24.8      | 245    |"
   ]
  },
  {
   "cell_type": "markdown",
   "metadata": {},
   "source": [
    "Gambar di bawah ini merupakan model yang terbentuk dengan regresi linier terhadap Sales dan TV. Titik-titik merah menandakan titik data $x_i$ dan $y_i$ yang berasal dari data latih. Garis biru merupakan regresi linier yang didekati untuk mendekati hubungan antara Sales dan TV. Ruas garis abu-abu lurus vertikal menandakan galat atau <i>error</i> dari pendekatan regresi linier terhadap hubungan Sales dan TV."
   ]
  },
  {
   "cell_type": "markdown",
   "metadata": {},
   "source": [
    "![Alt Text](img/3. model-sales-tv.JPG)"
   ]
  },
  {
   "cell_type": "markdown",
   "metadata": {},
   "source": [
    "Kita anggap $\\hat{y}_i = \\hat{\\beta_0} + \\hat{\\beta_1} {x}_i$ adalah prediksi untuk Y yang mengacu pada X ke-i. Maka $e_i = y_i - \\hat{y}_i$ adalah residual ke-i yang menandakan selisih antara nilai perkiraan (nilai prediksi dari model regresi linier) terhadap nilai variabel target sebenarnya.\n",
    "\n",
    "Tujuan dari regresi linier adalah membuat semua nilai residual ini sekecil mungkin. Semua nilai residual ini direpresentasikan dengan jumlahan kuadran residual (<i> Residual sum of squares</i>) atau RSS, yakni:\n"
   ]
  },
  {
   "cell_type": "markdown",
   "metadata": {},
   "source": [
    "\\begin{equation}\n",
    "RSS = \\sum_{i=1}^n {e_i^2}\n",
    "\\end{equation}"
   ]
  },
  {
   "cell_type": "markdown",
   "metadata": {},
   "source": [
    "atau "
   ]
  },
  {
   "cell_type": "markdown",
   "metadata": {},
   "source": [
    "\\begin{equation}\n",
    "RSS = \\sum_{i=1}^n {(y_i - \\hat{\\beta_0} - \\hat{\\beta_1} {x_i})^2}\n",
    "\\end{equation}"
   ]
  },
  {
   "cell_type": "markdown",
   "metadata": {},
   "source": [
    "dengan $n$ adalah jumlah data yang kita miliki."
   ]
  },
  {
   "cell_type": "markdown",
   "metadata": {},
   "source": [
    "Pendekatan Ordinary Least Square (OLS) memilih suatu nilai $\\beta_0$ dan $\\beta_1$ agar nilai RSS minimal dapat dicapai. Dengan penurunan kalkulus sederhana, nilai $\\beta_0$ dan $\\beta_1$ yang dapat membuat nilai RSS minimal adalah"
   ]
  },
  {
   "cell_type": "markdown",
   "metadata": {},
   "source": [
    "\\begin{equation}\n",
    "\\hat{\\beta_1} = \\frac{\\sum_{i=1}^n {(x_i - \\bar{x})(y_i - \\bar{y})}}{\\sum_{i=1}^n {(x_i - \\bar{x})^2}} \\\\\n",
    "\\hat{\\beta_0} = \\bar{y} - \\hat{\\beta_1}\\bar{x}\n",
    "\\end{equation}\n",
    "dengan $\\bar{y}$ dan $\\bar{x}$ masing-masing adalah nilai rerata dari Y dan X."
   ]
  },
  {
   "cell_type": "markdown",
   "metadata": {},
   "source": [
    "Hubungan antara RSS dan $\\beta_0$ dan $\\beta_1$ untuk kasus Sales vs TV dapat dilihat di gambar di bawah ini. Tugas dari Ordinary Least Square adalah mendekati nilai yang berada di titik minimum RSS (titik merah).\n",
    "![Alt Text](img/3. RSS-b0-b1-sales-tv.JPG)"
   ]
  },
  {
   "cell_type": "markdown",
   "metadata": {},
   "source": [
    "### Mengukur Performa dari Regresi Linier terhadap Data Latih/Data Uji"
   ]
  },
  {
   "cell_type": "markdown",
   "metadata": {},
   "source": [
    "Pada dasarnya, kita menggunakan data latih sebagai dasar untuk pembuatan model, termasuk regresi linier. Kemudian, untuk menguji apakah model yang kita buat itu baik, kita akan menerapkan model tersebut terhadap data uji (data dengan Y yang tidak diketahui).\n",
    "\n",
    "Dengan adanya data latih (<i>training dataset</i>) dan data uji (<i>test dataset</i>), kita akan memiliki 2 macam RSS, yakni $RSS_{train}$ untuk data latih dan $RSS_{test}$ untuk data uji. Sejatinya, Y di data uji tidak diketahui, namun dalam konteks eksperimen Y di data uji diketahui namun dianggap seolah-olah tidak ada ketika prediksi. $RSS_{test}$ akan dianggap baik jika nilainya semakin kecil. Hanya saja, untuk regresi linier OLS dengan satu variabel, tidak begitu banyak yang bisa dikerjakan untuk melihat pola perubahan $RSS_{test}$ karena regresi linier OLS dengan satu variabel termasuk model non-parametrik. Model non-parametrik memiliki makna model tersebut tidak bergantung pada parameter tertentu yang mempengaruhi performanya. Dengan konsep ini juga, regresi linier OLS satu variabel disebut tidak fleksibel."
   ]
  },
  {
   "cell_type": "markdown",
   "metadata": {},
   "source": [
    "------------------------------------------------ "
   ]
  },
  {
   "cell_type": "markdown",
   "metadata": {},
   "source": [
    "### Latihan 1: Menggunakan Regresi Linier OLS Satu Variabel di Python"
   ]
  },
  {
   "cell_type": "markdown",
   "metadata": {},
   "source": [
    "Untuk latihan kali ini, kita akan menggunakan regresi linear Ordinary Least Square dalam pustaka sklearn.linear_model untuk kasus pemberian harga rumah di Portland. Variabel prediktornya adalah ukuran rumah (size) dan jumlah kamar tidur (bedroom).\n",
    "\n",
    "\n",
    "Sumber contoh: http://scikit-learn.org/stable/auto_examples/linear_model/plot_ols.html#sphx-glr-auto-examples-linear-model-plot-ols-py"
   ]
  },
  {
   "cell_type": "code",
   "execution_count": 1,
   "metadata": {},
   "outputs": [],
   "source": [
    "#impor pustaka-pustaka yang terkait untuk menyelesaikan tugas ini\n",
    "import matplotlib.pyplot as plt\n",
    "import numpy as np\n",
    "import pandas as pd\n",
    "from sklearn import datasets, linear_model\n",
    "from sklearn.metrics import mean_squared_error, r2_score"
   ]
  },
  {
   "cell_type": "markdown",
   "metadata": {},
   "source": [
    "##### Tugas 1: Tampilkan dataset pricing house Portland"
   ]
  },
  {
   "cell_type": "code",
   "execution_count": 3,
   "metadata": {},
   "outputs": [
    {
     "name": "stdout",
     "output_type": "stream",
     "text": [
      "(47, 3)\n"
     ]
    }
   ],
   "source": [
    "#load dataset portland dari folder \"Data\\Regression\\House Price Portland\" dengan nama file \"data.csv\" menggunakan pandas\n",
    "data = pd.read_csv(\"Data/Regression/House Price Portland/data.csv\")\n",
    "\n",
    "#Tampilkan shape dari data (isi di sini)\n",
    "print(data.shape)"
   ]
  },
  {
   "cell_type": "code",
   "execution_count": 4,
   "metadata": {},
   "outputs": [
    {
     "data": {
      "text/html": [
       "<div>\n",
       "<style scoped>\n",
       "    .dataframe tbody tr th:only-of-type {\n",
       "        vertical-align: middle;\n",
       "    }\n",
       "\n",
       "    .dataframe tbody tr th {\n",
       "        vertical-align: top;\n",
       "    }\n",
       "\n",
       "    .dataframe thead th {\n",
       "        text-align: right;\n",
       "    }\n",
       "</style>\n",
       "<table border=\"1\" class=\"dataframe\">\n",
       "  <thead>\n",
       "    <tr style=\"text-align: right;\">\n",
       "      <th></th>\n",
       "      <th>size</th>\n",
       "      <th>bedroom</th>\n",
       "      <th>price</th>\n",
       "    </tr>\n",
       "  </thead>\n",
       "  <tbody>\n",
       "    <tr>\n",
       "      <th>0</th>\n",
       "      <td>2104</td>\n",
       "      <td>3</td>\n",
       "      <td>399900</td>\n",
       "    </tr>\n",
       "    <tr>\n",
       "      <th>1</th>\n",
       "      <td>1600</td>\n",
       "      <td>3</td>\n",
       "      <td>329900</td>\n",
       "    </tr>\n",
       "    <tr>\n",
       "      <th>2</th>\n",
       "      <td>2400</td>\n",
       "      <td>3</td>\n",
       "      <td>369000</td>\n",
       "    </tr>\n",
       "    <tr>\n",
       "      <th>3</th>\n",
       "      <td>1416</td>\n",
       "      <td>2</td>\n",
       "      <td>232000</td>\n",
       "    </tr>\n",
       "    <tr>\n",
       "      <th>4</th>\n",
       "      <td>3000</td>\n",
       "      <td>4</td>\n",
       "      <td>539900</td>\n",
       "    </tr>\n",
       "  </tbody>\n",
       "</table>\n",
       "</div>"
      ],
      "text/plain": [
       "   size  bedroom   price\n",
       "0  2104        3  399900\n",
       "1  1600        3  329900\n",
       "2  2400        3  369000\n",
       "3  1416        2  232000\n",
       "4  3000        4  539900"
      ]
     },
     "execution_count": 4,
     "metadata": {},
     "output_type": "execute_result"
    }
   ],
   "source": [
    "#Tampilkan data sebagai dataframe, cukup 5 baris pertama\n",
    "data.head()"
   ]
  },
  {
   "cell_type": "code",
   "execution_count": 8,
   "metadata": {},
   "outputs": [
    {
     "data": {
      "image/png": "[encoded data removed]",
      "text/plain": [
       "<Figure size 432x288 with 1 Axes>"
      ]
     },
     "metadata": {},
     "output_type": "display_data"
    }
   ],
   "source": [
    "#Plot keseluruhan data dari pricing house Portland dalam format 2 dimensi dengan Y adalah price dan X1 adalah \n",
    "#...size dengan scatter plot\n",
    "X1 = data['size']\n",
    "Y = data['price']\n",
    "plt.scatter(X1, Y,  color='black')\n",
    "\n",
    "plt.show()"
   ]
  },
  {
   "cell_type": "code",
   "execution_count": 9,
   "metadata": {},
   "outputs": [
    {
     "data": {
      "image/png": "[encoded data removed]",
      "text/plain": [
       "<Figure size 432x288 with 1 Axes>"
      ]
     },
     "metadata": {},
     "output_type": "display_data"
    }
   ],
   "source": [
    "#Lakukan plot yang sama dengan X2 adalah bedroom\n",
    "X2 = data['bedroom']\n",
    "Y = data['price']\n",
    "plt.scatter(X2, Y,  color='blue')\n",
    "\n",
    "plt.show()"
   ]
  },
  {
   "cell_type": "markdown",
   "metadata": {},
   "source": [
    "Kita akan mencoba membagi dataset ini menjadi data latih dan data uji. Kita ambil sepuluh data terakhir sebagai data uji dan sisanya sebagai data latih. Gunakan variabel Y_train dan Y_test sebagai penampung variabel target (price) untuk data latih dan data uji, berikut X1_train dan X1_test untuk variabel prediktor 1 (size) dan X2_train dan X2_test untuk variabel prediktor 2 (bedroom)"
   ]
  },
  {
   "cell_type": "code",
   "execution_count": 13,
   "metadata": {},
   "outputs": [],
   "source": [
    "Y_train = data.iloc[:-10,2]\n",
    "Y_test = data.iloc[-10:,2]\n",
    "\n",
    "#Silakan gunakan teknik slicing dengan konsep yang sama untuk mengambil X1_train, X1_test, X2_train, dan X2_test dari data\n",
    "X1_train = data.iloc[:-10,0]\n",
    "X2_train = data.iloc[:-10,1]\n",
    "X1_test = data.iloc[-10:,0]\n",
    "X2_test = data.iloc[-10:,1]\n",
    "\n",
    "#Untuk menghindari galat di syntax berikutnya, kita akan ubah dimensi semua prediktor menjadi 2 dimensi. \n",
    "#Membangun model regresi linier membutuhkan X sebagai array 2 dimensi\n",
    "X1_train = X1_train.values.reshape(-1,1)\n",
    "X2_train = X2_train.values.reshape(-1,1)\n",
    "X1_test = X1_test.values.reshape(-1,1)\n",
    "X2_test = X2_test.values.reshape(-1,1)"
   ]
  },
  {
   "cell_type": "code",
   "execution_count": 15,
   "metadata": {},
   "outputs": [
    {
     "name": "stdout",
     "output_type": "stream",
     "text": [
      "(37, 1)\n",
      "(10, 1)\n"
     ]
    }
   ],
   "source": [
    "print(X1_train.shape)\n",
    "print(X1_test.shape)"
   ]
  },
  {
   "cell_type": "markdown",
   "metadata": {},
   "source": [
    "Kita akan membuat regresi linier dengan OLS dengan bantuan pustaka scikit-learn.linear_model yang sudah diimpor sebelumnya. Untuk kali ini, kita akan mencoba menggunakan X1 saja sebagai prediktor. Kita akan namai model linier ini dengan \"linreg1\". Berikut adalah cara untuk melatih model \"linreg1\"."
   ]
  },
  {
   "cell_type": "code",
   "execution_count": 16,
   "metadata": {},
   "outputs": [
    {
     "data": {
      "text/plain": [
       "LinearRegression(copy_X=True, fit_intercept=True, n_jobs=1, normalize=False)"
      ]
     },
     "execution_count": 16,
     "metadata": {},
     "output_type": "execute_result"
    }
   ],
   "source": [
    "# Create linear regression object\n",
    "linreg1 = linear_model.LinearRegression()\n",
    "\n",
    "#Karena kita hanya menggunakan 1 variabel saja, maka dimensi yang terbentuk dari \n",
    "\n",
    "# Train the model using the training sets\n",
    "linreg1.fit(X1_train, Y_train)"
   ]
  },
  {
   "cell_type": "markdown",
   "metadata": {},
   "source": [
    "Kita akan memeriksa koefisien dari variabel prediktor dan interceptnya"
   ]
  },
  {
   "cell_type": "code",
   "execution_count": 17,
   "metadata": {},
   "outputs": [
    {
     "name": "stdout",
     "output_type": "stream",
     "text": [
      "Coefficient: 151.345 \n",
      "Intercept: 43140.763 \n"
     ]
    }
   ],
   "source": [
    "print(\"Coefficient: %.3lf \" % (linreg1.coef_))\n",
    "print(\"Intercept: %.3lf \" % (linreg1.intercept_))"
   ]
  },
  {
   "cell_type": "markdown",
   "metadata": {},
   "source": [
    "Lalu, kita akan lihat bagaimana performa model \"linreg1\" terhadap data uji. Metrik performa yang digunakan di sini (yang tersedia di pustaka scikit learn) bukan RSS sebagaimana disebut sebelumnya. Metrik yang digunakan adalah Mean Squared Error (MSE) dan dapat dibilang sama dengan rata-rata dari RSS, MSE dinyatakan dengan:\n",
    "\\begin{equation}\n",
    "MSE = \\frac{1}{n} \\sum{(y_i - \\hat{y}_i)^2}\n",
    "\\end{equation}"
   ]
  },
  {
   "cell_type": "code",
   "execution_count": 65,
   "metadata": {},
   "outputs": [
    {
     "name": "stdout",
     "output_type": "stream",
     "text": [
      "Mean squared error: 5309481303.48\n"
     ]
    }
   ],
   "source": [
    "#Prediksi price terhadap size dari rumah\n",
    "Y_pred = linreg1.predict(X1_test)\n",
    "\n",
    "# Mean squared error\n",
    "print(\"Mean squared error: %.2f\" % mean_squared_error(Y_test, Y_pred))"
   ]
  },
  {
   "cell_type": "code",
   "execution_count": 66,
   "metadata": {},
   "outputs": [
    {
     "data": {
      "image/png": "[encoded data removed]",
      "text/plain": [
       "<matplotlib.figure.Figure at 0x1fceff18630>"
      ]
     },
     "metadata": {},
     "output_type": "display_data"
    }
   ],
   "source": [
    "plt.scatter(X1_test, Y_test,  color='black')\n",
    "plt.scatter(X1_train, Y_train,  color='blue')\n",
    "plt.plot(X1_test, Y_pred, color='red', linewidth=3)\n",
    "\n",
    "plt.show()"
   ]
  },
  {
   "cell_type": "markdown",
   "metadata": {},
   "source": [
    "Dengan cara yang sama, buatlah model \"linreg2\" yang memanfaatkan variabel jumlah kamar tidur untuk menentukan harga rumah. Latihlah model tersebut, periksa koefisien dan interceptnya, serta gunakan untuk memprediksi data uji berdasarkan jumlah kamar tidur. Lalu, hitung MSE-nya dan plot grafnya."
   ]
  },
  {
   "cell_type": "code",
   "execution_count": 19,
   "metadata": {},
   "outputs": [
    {
     "name": "stdout",
     "output_type": "stream",
     "text": [
      "Coefficient: 82882.465 \n",
      "Intercept: 85765.649 \n",
      "Mean squared error: 9309702463.05\n"
     ]
    },
    {
     "data": {
      "image/png": "[encoded data removed]",
      "text/plain": [
       "<Figure size 432x288 with 1 Axes>"
      ]
     },
     "metadata": {},
     "output_type": "display_data"
    }
   ],
   "source": [
    "linreg2 = linear_model.LinearRegression()\n",
    "linreg2.fit(X2_train,Y_train)\n",
    "print(\"Coefficient: %.3lf \" % (linreg2.coef_))\n",
    "print(\"Intercept: %.3lf \" % (linreg2.intercept_))\n",
    "Y_pred2 = linreg2.predict(X2_test)\n",
    "print(\"Mean squared error: %.2f\" % mean_squared_error(Y_test, Y_pred2))\n",
    "\n",
    "plt.scatter(X2_test, Y_test,  color='black')\n",
    "plt.scatter(X2_train, Y_train,  color='blue')\n",
    "plt.plot(X2_test, Y_pred2, color='red', linewidth=3)\n",
    "\n",
    "plt.show()"
   ]
  },
  {
   "cell_type": "markdown",
   "metadata": {},
   "source": [
    "Yang manakah yang lebih baik sebagai prediktor? Apakah luas rumah atau jumlah kamar tidur?"
   ]
  },
  {
   "cell_type": "markdown",
   "metadata": {},
   "source": [
    "Jawaban:"
   ]
  }
 ],
 "metadata": {
  "kernelspec": {
   "display_name": "Python 3",
   "language": "python",
   "name": "python3"
  },
  "language_info": {
   "codemirror_mode": {
    "name": "ipython",
    "version": 3
   },
   "file_extension": ".py",
   "mimetype": "text/x-python",
   "name": "python",
   "nbconvert_exporter": "python",
   "pygments_lexer": "ipython3",
   "version": "3.6.5"
  }
 },
 "nbformat": 4,
 "nbformat_minor": 2
}
