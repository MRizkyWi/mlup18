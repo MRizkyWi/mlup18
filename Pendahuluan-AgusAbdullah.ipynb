{
 "cells": [
  {
   "cell_type": "markdown",
   "metadata": {},
   "source": [
    "# Berkas Pendahuluan"
   ]
  },
  {
   "cell_type": "markdown",
   "metadata": {},
   "source": [
    "Cell code pada Python menerapkan sebagaimana code pada Python biasanya. Komentar (code yang digunakan sebagai keterangan, tidak dieksekusi) didahului dengan tanda pagar (#) atau berada di antara petik tunggal ('....')"
   ]
  },
  {
   "cell_type": "code",
   "execution_count": null,
   "metadata": {
    "collapsed": true
   },
   "outputs": [],
   "source": [
    "#Ini Komentar\n",
    "#a = 100\n",
    "'Ini juga komentar'\n",
    "'a = 3000'\n",
    "a = 5\n",
    "b = 3\n",
    "a + b"
   ]
  },
  {
   "cell_type": "code",
   "execution_count": null,
   "metadata": {
    "collapsed": true
   },
   "outputs": [],
   "source": [
    "import numpy as np\n",
    "import pandas as pd\n",
    "#import keras as k #Tidak diperlukan jika pustaka KERAS tidak diinstal, harap dieksekusi jika diinstal"
   ]
  },
  {
   "cell_type": "code",
   "execution_count": null,
   "metadata": {
    "collapsed": true
   },
   "outputs": [],
   "source": [
    "np.__version__"
   ]
  },
  {
   "cell_type": "code",
   "execution_count": null,
   "metadata": {
    "collapsed": true
   },
   "outputs": [],
   "source": [
    "pd.__version__"
   ]
  },
  {
   "cell_type": "code",
   "execution_count": null,
   "metadata": {
    "collapsed": true
   },
   "outputs": [],
   "source": [
    "#k.__version__ #Tidak diperlukan jika pustaka KERAS tidak diinstal, harap dieksekusi jika diinstal"
   ]
  },
  {
   "cell_type": "code",
   "execution_count": 1,
   "metadata": {},
   "outputs": [
    {
     "name": "stdout",
     "output_type": "stream",
     "text": [
      "Notebook ini adalah milik (Agus Abdullah)\n"
     ]
    }
   ],
   "source": [
    "print(\"Notebook ini adalah milik (Agus Abdullah)\")\n",
    "#Silakan ganti (Nama Saya) dengan nama rekan-rekan masing-masing pada cell code ini dan cell markdown di bawah ini.\n",
    "#Kemudian simpan dan ganti nama berkas milik rekan-rekan dengan \"Pendahuluan - (Nama).ipynb\""
   ]
  },
  {
   "cell_type": "markdown",
   "metadata": {},
   "source": [
    "Dengan ini saya menyatakan saya mendaftarkan diri pada acara Lokakarya Machine Learning untuk Pemula yang diadakan di Universitas Pertamina tanggal 5-6 Juli 2018.\n",
    "\n",
    "Tertanda: (Nama Saya)"
   ]
  }
 ],
 "metadata": {
  "kernelspec": {
   "display_name": "Python 3",
   "language": "python",
   "name": "python3"
  },
  "language_info": {
   "codemirror_mode": {
    "name": "ipython",
    "version": 3
   },
   "file_extension": ".py",
   "mimetype": "text/x-python",
   "name": "python",
   "nbconvert_exporter": "python",
   "pygments_lexer": "ipython3",
   "version": "3.6.3"
  }
 },
 "nbformat": 4,
 "nbformat_minor": 2
}
