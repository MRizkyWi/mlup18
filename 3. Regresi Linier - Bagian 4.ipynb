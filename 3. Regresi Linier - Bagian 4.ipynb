{
 "cells": [
  {
   "cell_type": "markdown",
   "metadata": {},
   "source": [
    "# Bisakah Regresi Linier Menangani Non-Linieritas?"
   ]
  },
  {
   "cell_type": "markdown",
   "metadata": {},
   "source": [
    "Regresi linier akan memodelkan hubungan antara variabel prediktor dan target secara linier. Namun, pada kenyataannya, hubungan antara prediktor dan target sangat sulit diketahui. Maka dari itu, kita bisa juga meninjau kemungkinan lain dari hubungan yang terjadi antara prediktor dan target. Bisa jadi hubungan mereka adalah logaritmik, eksponensial, atau lainnya. Sebagai contoh, mari kita investigasi dataset \"Pontius\"."
   ]
  },
  {
   "cell_type": "code",
   "execution_count": 22,
   "metadata": {},
   "outputs": [
    {
     "name": "stdout",
     "output_type": "stream",
     "text": [
      "(40, 2)\n"
     ]
    },
    {
     "data": {
      "text/html": [
       "<div>\n",
       "<style scoped>\n",
       "    .dataframe tbody tr th:only-of-type {\n",
       "        vertical-align: middle;\n",
       "    }\n",
       "\n",
       "    .dataframe tbody tr th {\n",
       "        vertical-align: top;\n",
       "    }\n",
       "\n",
       "    .dataframe thead th {\n",
       "        text-align: right;\n",
       "    }\n",
       "</style>\n",
       "<table border=\"1\" class=\"dataframe\">\n",
       "  <thead>\n",
       "    <tr style=\"text-align: right;\">\n",
       "      <th></th>\n",
       "      <th>Y</th>\n",
       "      <th>X</th>\n",
       "    </tr>\n",
       "  </thead>\n",
       "  <tbody>\n",
       "    <tr>\n",
       "      <th>0</th>\n",
       "      <td>0.11019</td>\n",
       "      <td>150000</td>\n",
       "    </tr>\n",
       "    <tr>\n",
       "      <th>1</th>\n",
       "      <td>0.21956</td>\n",
       "      <td>300000</td>\n",
       "    </tr>\n",
       "    <tr>\n",
       "      <th>2</th>\n",
       "      <td>0.32949</td>\n",
       "      <td>450000</td>\n",
       "    </tr>\n",
       "    <tr>\n",
       "      <th>3</th>\n",
       "      <td>0.43899</td>\n",
       "      <td>600000</td>\n",
       "    </tr>\n",
       "    <tr>\n",
       "      <th>4</th>\n",
       "      <td>0.54803</td>\n",
       "      <td>750000</td>\n",
       "    </tr>\n",
       "  </tbody>\n",
       "</table>\n",
       "</div>"
      ],
      "text/plain": [
       "         Y       X\n",
       "0  0.11019  150000\n",
       "1  0.21956  300000\n",
       "2  0.32949  450000\n",
       "3  0.43899  600000\n",
       "4  0.54803  750000"
      ]
     },
     "execution_count": 22,
     "metadata": {},
     "output_type": "execute_result"
    }
   ],
   "source": [
    "import pandas as pd\n",
    "import numpy as np\n",
    "\n",
    "data = pd.read_csv(\"Data/Regression/Pontius/pontius.csv\")\n",
    "print(data.shape)\n",
    "data.head()"
   ]
  },
  {
   "cell_type": "markdown",
   "metadata": {},
   "source": [
    "Ukuran dataset ini cukup kecil karena sumber dataset yang dicari spesifik yang memiliki hubungan non-linier, dalam kasus ini polinomial $Y = \\beta_0 + \\beta_1 x + \\beta_1 x^2 + \\epsilon  $."
   ]
  },
  {
   "cell_type": "code",
   "execution_count": 23,
   "metadata": {},
   "outputs": [
    {
     "data": {
      "image/png": "[encoded data removed]",
      "text/plain": [
       "<Figure size 432x288 with 1 Axes>"
      ]
     },
     "metadata": {},
     "output_type": "display_data"
    }
   ],
   "source": [
    "import matplotlib.pyplot as plt\n",
    "\n",
    "plt.scatter(data['X'],data['Y'])\n",
    "plt.show()"
   ]
  },
  {
   "cell_type": "markdown",
   "metadata": {},
   "source": [
    "Walaupun tidak terlihat kuadratik, mari kita bandingkan MSE dari variabel prediktor derajat 1 saja dengan variabel prediktor dengan derajat hingga 2. Scikit learn sudah menyediakan pustaka untuk membantu menyiapkan variabel prediktor berderajat banyak, yakni PolynomialFeatures dari preprocessing. Kita akan mengujinya dengan model berderajat 1, 2, dan 3."
   ]
  },
  {
   "cell_type": "code",
   "execution_count": 35,
   "metadata": {},
   "outputs": [],
   "source": [
    "from sklearn.preprocessing import PolynomialFeatures\n",
    "from sklearn import linear_model\n",
    "from sklearn.metrics import mean_squared_error\n",
    "\n",
    "poly2 = PolynomialFeatures(degree=2)\n",
    "poly3 = PolynomialFeatures(degree=3)\n",
    "\n",
    "x1 = data['X'].values.reshape(-1,1)\n",
    "x2 = poly2.fit_transform(data['X'].values.reshape(-1,1))\n",
    "x3 = poly3.fit_transform(data['X'].values.reshape(-1,1))"
   ]
  },
  {
   "cell_type": "markdown",
   "metadata": {},
   "source": [
    "Mari kita lihat hasil dari transformasi masing-masing fitur polinomial terhadap X."
   ]
  },
  {
   "cell_type": "code",
   "execution_count": 37,
   "metadata": {},
   "outputs": [
    {
     "data": {
      "text/plain": [
       "array([[1.000e+00, 1.500e+05, 2.250e+10],\n",
       "       [1.000e+00, 3.000e+05, 9.000e+10],\n",
       "       [1.000e+00, 4.500e+05, 2.025e+11],\n",
       "       [1.000e+00, 6.000e+05, 3.600e+11],\n",
       "       [1.000e+00, 7.500e+05, 5.625e+11]])"
      ]
     },
     "execution_count": 37,
     "metadata": {},
     "output_type": "execute_result"
    }
   ],
   "source": [
    "x2[:5,:]"
   ]
  },
  {
   "cell_type": "code",
   "execution_count": 38,
   "metadata": {},
   "outputs": [
    {
     "data": {
      "text/plain": [
       "array([[1.00000e+00, 1.50000e+05, 2.25000e+10, 3.37500e+15],\n",
       "       [1.00000e+00, 3.00000e+05, 9.00000e+10, 2.70000e+16],\n",
       "       [1.00000e+00, 4.50000e+05, 2.02500e+11, 9.11250e+16],\n",
       "       [1.00000e+00, 6.00000e+05, 3.60000e+11, 2.16000e+17],\n",
       "       [1.00000e+00, 7.50000e+05, 5.62500e+11, 4.21875e+17]])"
      ]
     },
     "execution_count": 38,
     "metadata": {},
     "output_type": "execute_result"
    }
   ],
   "source": [
    "x3[:5,:]"
   ]
  },
  {
   "cell_type": "markdown",
   "metadata": {},
   "source": [
    "Kita bisa lihat di kolom pertama adalah nilai ketika derajat 0 yang menghasilkan 1. Nilai ini bisa kita hapus dan kita ambil kolom kedua dan seterusnya yang menunjukkan derajat kesatu hingga seterusnya."
   ]
  },
  {
   "cell_type": "code",
   "execution_count": 39,
   "metadata": {},
   "outputs": [],
   "source": [
    "x2 = x2[:,1:]\n",
    "x3 = x3[:,1:]"
   ]
  },
  {
   "cell_type": "markdown",
   "metadata": {},
   "source": [
    "Lalu, kita coba latih ketiga model ini dengan regresi linier dan membandingkan hasilnya dari masing-masing RSS latih (karena datanya cukup sedikit)."
   ]
  },
  {
   "cell_type": "code",
   "execution_count": 48,
   "metadata": {},
   "outputs": [
    {
     "name": "stdout",
     "output_type": "stream",
     "text": [
      "RSS untuk derajat 1: 0.0001791481\n",
      "RSS untuk derajat 2: 0.0000015576\n",
      "RSS untuk derajat 3: 0.0000015077\n"
     ]
    }
   ],
   "source": [
    "linreg1 = linear_model.LinearRegression()\n",
    "linreg1.fit(x1,data['Y'])\n",
    "Y_pred = linreg1.predict(x1)\n",
    "RSS = np.sum((Y_pred - data['Y'])**2)\n",
    "print(\"RSS untuk derajat 1: %.10lf\" % RSS)\n",
    "\n",
    "linreg2 = linear_model.LinearRegression()\n",
    "linreg2.fit(x2,data['Y'])\n",
    "Y_pred = linreg2.predict(x2)\n",
    "RSS = np.sum((Y_pred - data['Y'])**2)\n",
    "print(\"RSS untuk derajat 2: %.10lf\" % RSS)\n",
    "\n",
    "linreg3 = linear_model.LinearRegression()\n",
    "linreg3.fit(x3,data['Y'])\n",
    "Y_pred = linreg3.predict(x3)\n",
    "RSS = np.sum((Y_pred - data['Y'])**2)\n",
    "print(\"RSS untuk derajat 3: %.10lf\" % RSS)"
   ]
  },
  {
   "cell_type": "markdown",
   "metadata": {},
   "source": [
    "## Latihan: Investigasi Regresi Linier terhadap Data Non-linier\n",
    "Diketahui suatu dataset \"Filip\" yang berjumlah 82 data dengan 1 variabel target dan 1 variabel prediktor. Bagilah data \"Filip\" tersebut menjadi data latih dan data uji dengan rasio 85:15 dan random seed 0. Lalu, lakukan observasi terhadap MSE uji dari model regresi linier dengan fitur polinomial dengan derajat 2,4,6,8,10,12,14,16,18,20 (Petunjuk: gunakanlah perulangan). Cetak MSE uji tiap model dari fitur polinomial yang dibentuk.\n",
    "\n",
    "Tips: jangan lupa untuk menghapus kolom pertama yang dibuat oleh polynomial features."
   ]
  },
  {
   "cell_type": "code",
   "execution_count": 49,
   "metadata": {},
   "outputs": [
    {
     "name": "stdout",
     "output_type": "stream",
     "text": [
      "(82, 2)\n"
     ]
    },
    {
     "data": {
      "text/html": [
       "<div>\n",
       "<style scoped>\n",
       "    .dataframe tbody tr th:only-of-type {\n",
       "        vertical-align: middle;\n",
       "    }\n",
       "\n",
       "    .dataframe tbody tr th {\n",
       "        vertical-align: top;\n",
       "    }\n",
       "\n",
       "    .dataframe thead th {\n",
       "        text-align: right;\n",
       "    }\n",
       "</style>\n",
       "<table border=\"1\" class=\"dataframe\">\n",
       "  <thead>\n",
       "    <tr style=\"text-align: right;\">\n",
       "      <th></th>\n",
       "      <th>y</th>\n",
       "      <th>x</th>\n",
       "    </tr>\n",
       "  </thead>\n",
       "  <tbody>\n",
       "    <tr>\n",
       "      <th>0</th>\n",
       "      <td>0.8116</td>\n",
       "      <td>-6.860121</td>\n",
       "    </tr>\n",
       "    <tr>\n",
       "      <th>1</th>\n",
       "      <td>0.9072</td>\n",
       "      <td>-4.324130</td>\n",
       "    </tr>\n",
       "    <tr>\n",
       "      <th>2</th>\n",
       "      <td>0.9052</td>\n",
       "      <td>-4.358625</td>\n",
       "    </tr>\n",
       "    <tr>\n",
       "      <th>3</th>\n",
       "      <td>0.9039</td>\n",
       "      <td>-4.358427</td>\n",
       "    </tr>\n",
       "    <tr>\n",
       "      <th>4</th>\n",
       "      <td>0.8053</td>\n",
       "      <td>-6.955852</td>\n",
       "    </tr>\n",
       "  </tbody>\n",
       "</table>\n",
       "</div>"
      ],
      "text/plain": [
       "        y         x\n",
       "0  0.8116 -6.860121\n",
       "1  0.9072 -4.324130\n",
       "2  0.9052 -4.358625\n",
       "3  0.9039 -4.358427\n",
       "4  0.8053 -6.955852"
      ]
     },
     "execution_count": 49,
     "metadata": {},
     "output_type": "execute_result"
    }
   ],
   "source": [
    "data = pd.read_csv(\"Data/Regression/Filip/filip.csv\")\n",
    "print(data.shape)\n",
    "data.head()"
   ]
  },
  {
   "cell_type": "code",
   "execution_count": null,
   "metadata": {},
   "outputs": [],
   "source": [
    "np.random.seed(0)\n",
    "random_value = np.random.randn(data.shape[0])\n",
    "\n",
    "#kita akan menggunakan cara slice yang berbeda\n",
    "#untuk data latih dan uji saat ini\n",
    "train = data[random_value<=None]\n",
    "test = data[random_value>None]\n",
    "\n",
    "Y_train = train['y']\n",
    "Y_test = test['y']\n",
    "\n",
    "for i in range(None,None,None):\n",
    "#atau bentuk perulangan lain jika memiliki ide lain untuk perulangan\n",
    "    \n",
    "    x_train = train['x']\n",
    "    x_test = test['x']\n",
    "    \n",
    "    #penentuan transformasi polinomial derajat ke-?\n",
    "    poly = PolynomialFeatures(None)\n",
    "    \n",
    "    x_train = poly.fit_transform(x_train.values.reshape(-1,1))\n",
    "    x_test = poly.fit_transform(x_test.values.reshape(-1,1))\n",
    "    \n",
    "    #menghapus polinomial dengan derajat 0\n",
    "    x_train = x_train[None]\n",
    "    x_test = x_test[None]\n",
    "    \n",
    "    #pembangunan model dengan data latih\n",
    "    linreg = linear_model.LinearRegression()\n",
    "    linreg.fit(x_train,Y_train)\n",
    "    Y_pred = linreg.predict(x_test)\n",
    "    mse = mean_squared_error(Y_pred,Y_test)\n",
    "    print(\"Polynomial features degree %d, MSE: %.10lf\" % (None,mse))\n",
    "    "
   ]
  },
  {
   "cell_type": "markdown",
   "metadata": {},
   "source": [
    "Pertanyaan: manakah model yang memiliki performa paling baik?"
   ]
  },
  {
   "cell_type": "markdown",
   "metadata": {},
   "source": []
  }
 ],
 "metadata": {
  "kernelspec": {
   "display_name": "Python 3",
   "language": "python",
   "name": "python3"
  },
  "language_info": {
   "codemirror_mode": {
    "name": "ipython",
    "version": 3
   },
   "file_extension": ".py",
   "mimetype": "text/x-python",
   "name": "python",
   "nbconvert_exporter": "python",
   "pygments_lexer": "ipython3",
   "version": "3.6.5"
  }
 },
 "nbformat": 4,
 "nbformat_minor": 2
}
