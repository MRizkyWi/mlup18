{
 "cells": [
  {
   "cell_type": "markdown",
   "metadata": {},
   "source": [
    "### Halo Saudara-Saudari sekalian!"
   ]
  },
  {
   "cell_type": "markdown",
   "metadata": {},
   "source": [
    "Selamat datang di halaman pendahuluan untuk Lokakarya Machine Learning dengan Python untuk Pemula yang akan diadakan di Universitas Pertamina tanggal 5-6 Juli 2018. Mohon maaf karena kapasitas pengajarnya terbatas, kuota peserta dari lokakarya ini hanya bisa menampung <b>10 mahasiswa dan 5 dosen (Tidak terbatas pada program studi Ilmu Komputer saja)</b>.\n",
    "\n",
    "Jika rekan-rekan tiba pada halaman ini, berarti rekan-rekan akan menyelesaikan beberapa tugas sebagai registrasi Lokakarya ini.\n",
    "Tenang saja! Tugasnya cukup mudah! Berikut adalah yang akan rekan-rekan lakukan:\n",
    "<ol>\n",
    "<li>Menginstall python dengan anaconda</li>\n",
    "<li>Menginstall Jupyter Notebook</li>\n",
    "<li>Menginstall pustaka numpy, pandas, dan scikit-learn</li>\n",
    "<li>Menginstall Keras sebagai pustaka <i>Deep Learning</i> (Opsional)</li>\n",
    "</ol>\n",
    "\n",
    "\n",
    "Untuk menginstall berbagai perangkat tersebut, rekan-rekan sekalian bisa memeriksa laman berikut https://machinelearningmastery.com/setup-python-environment-machine-learning-deep-learning-anaconda/"
   ]
  },
  {
   "cell_type": "markdown",
   "metadata": {},
   "source": [
    "## Kebutuhan sistem yang disukai (Preferred System Requirements)"
   ]
  },
  {
   "cell_type": "markdown",
   "metadata": {},
   "source": [
    "Sejatinya untuk melakukan <i>machine learning</i> secara praktis dan mengolah data dalam jumlah masif (terutama untuk <i>deep learning</i>), diperlukan komputasi yang mumpuni, seperti RAM 8 GB dan graphic cards berbasis CUDA. Namun, untuk lokakarya kali ini, karena metode yang akan dipraktikkan cukup sederhana, kemampuan komputasi seperti yang disebutkan di atas tidak dibutuhkan. Direkomendasikan rekan-rekan sekalian memiliki perangkat komputer jinjing yang sebaiknya dibawa sebagai berikut:\n",
    "<ul>\n",
    "    <li>OS: Windows/Linux/Mac</li>\n",
    "    <li>RAM: 4 GB ke atas</li>\n",
    "    <li>Arsitektur sistem: 64-bit</li>\n",
    "</ul>\n",
    "\n",
    "Tidak ada aturan khusus mengenai versi Python yang diinstal selama kompatibel dengan komputer rekan-rekan. Materi lokakarya ini menggunakan Python 3.6 sebagai acuan."
   ]
  },
  {
   "cell_type": "markdown",
   "metadata": {},
   "source": [
    "## Apa saja yang dilakukan dalam lokakarya ini?"
   ]
  },
  {
   "cell_type": "markdown",
   "metadata": {},
   "source": [
    "Tenang saja, rekan-rekan yang belum merasa akrab dengan Python dan teori-teori dalam statistika jangan khawatir. Dalam lokakarya ini akan dibahas juga mengenai dasar pemrograman Python dan menyinggung sedikit mengenai penerapan statistika dalam <i> Machine Learning</i>. Lokakarya ini akan meliputi pembahasan mengenai hal-hal di bawah ini dan tetap memungkinkan untuk berubah. Bahasan dengan keterangan \"Hands-on\" menandakan kegiatan praktik menggunakan komputer.\n",
    "    <ol>\n",
    "    <li>Pengenalan <i>Machine Learning</i></li>\n",
    "    <li>Perkembangan <i>Machine Learning</i> saat ini: Riset di datalab PNU</li>\n",
    "    <li>Hands-on 1: Python dan Jupyter Notebook</li>\n",
    "    <li>Hands-on 2: Analisis Data dengan Numpy dan Pandas</li>\n",
    "    <li>Hands-on 3: Prediksi menggunakan Regresi Linier</li>\n",
    "    <li>Hands-on 4: Klasifikasi menggunakan Regresi Logistik</li>\n",
    "    <li>Hands-on 5: Prediksi dan Klasifikasi menggunakan Metode Berbasis Pohon Keputusan</li>\n",
    "    <li>Pengenalan <i>Deep Learning</i></li>\n",
    "    </ol>"
   ]
  },
  {
   "cell_type": "markdown",
   "metadata": {},
   "source": [
    "## Bagaimana cara registrasi ke lokakarya ini?"
   ]
  },
  {
   "cell_type": "markdown",
   "metadata": {},
   "source": [
    "Rekan-rekan cukup mengerjakan ulang berkas contoh pendahuluan di bagian bawah berkas ini pada Jupyter Notebook rekan-rekan masing-masing dan memodifikasi yang diperlukan. Harap baca perlahan instruksi di bawah ini dan modifikasi serta eksekusi bagian-bagian yang diperlukan. Lalu simpan berkas dengan nama \"Pendahuluan - (Nama).ipynb\". Kemudian mengirimkannya ke surel hani.ramadhan@universitaspertamina.ac.id dengan menyertakan subjek: \"[MLUP18 - Pemula] Registrasi - Nama\". Pendaftaran akan ditutup pada 4 Juli 2018 atau ketika kuota sudah penuh.\n",
    "\n",
    "Jika rekan-rekan memiliki pertanyaan mengenai lokakarya ini, silakan kontak pengajar di hani.ramadhan@universitaspertamina.ac.id atau menghubungi WA (lebih disukai melalui surel)."
   ]
  },
  {
   "cell_type": "markdown",
   "metadata": {},
   "source": [
    "--------------------------"
   ]
  },
  {
   "cell_type": "markdown",
   "metadata": {},
   "source": [
    "## Langkah-langkah mengeksekusi Berkas .ipynb"
   ]
  },
  {
   "cell_type": "markdown",
   "metadata": {},
   "source": [
    "Untuk mengeksekusi berkas ipynb (IPython Notebook) di Windows, rekan-rekan bisa mengikuti langkah-langkah berikut."
   ]
  },
  {
   "cell_type": "markdown",
   "metadata": {},
   "source": [
    "0. Unduh File ini dengan mengeklik-kanan tautan berikut dan menyimpannya sebagai \"Pendahuluan - (Nama).ipynb\": [unduh](https://raw.githubusercontent.com/haniramadhan/mlup18/master/Pendahuluan.ipynb)\n",
    "\n",
    "0. Pindahkan berkas ipynb ini ke folder yang ingin anda terapkan sebagai \"working directory\" dari berkas lokakarya ini.\n",
    "\n",
    "1. Ketika anaconda sudah terinstal, eksekusi program \"Anaconda Prompt\" sebagaimana tercantum di gambar.\n",
    "![alt text](./img/anaconda-prompt.jpg \"Anaconda Prompt pada Windows\")\n",
    "\n",
    "2. Lalu, akan muncul jendela <i>commandline</i> sebagai berikut:\n",
    "![alt text](./img/anaconda-prompt-window.JPG \"Anaconda Prompt - Commandline\")\n",
    "\n",
    "3. Arahkan ke folder yang ingin anda terapkan sebagai \"working directory\" dari berkas lokakarya ini, misal untuk saya di \"D:\\Hani RAMADHAN\\OneDrive\\S3\\Other\\Workshop Machine Learning with Python\".\n",
    "  Saya harus menuliskan \"D:\", lalu tekan (Enter). \n",
    "  Kemudian \"cd Hani RAMADHAN\\OneDrive\\S3\\Other\\Workshop Machine Learning with Python\", lalu tekan (Enter)\n",
    "![alt text](./img/anaconda-prompt-command1.JPG \"Anaconda Prompt - Change Directory\")\n",
    "\n",
    "4. Kemudian, ketikkan \"jupyter notebook\", lalu tekan (Enter). Ikuti langkah-langkah yang muncul di jendela \"Anaconda Prompt\" tersebut.\n",
    "![alt text](./img/anaconda-prompt-command2.JPG \"Anaconda Prompt - Eksekusi Jupyter Notebook\")\n",
    "\n",
    "5. Setelah itu, rekan-rekan akan mendapati tampilan mirip sebagai berikut di browser.\n",
    "![alt text](./img/jupyter-home.JPG \"Jupyter Home\")\n",
    "\n",
    "6. Klik berkas \"Pendahuluan.ipynb\" yang telah rekan-rekan pindahkan di \"working directory\" pada tampilan Home Jupyter Notebook. Kemudian, rekan-rekan akan mendapati tampilan seperti berkas ini.\n",
    "![alt text](./img/pendahuluan.JPG \"Tampilan contoh\")"
   ]
  },
  {
   "cell_type": "markdown",
   "metadata": {},
   "source": [
    "# Pengenalan Jupyter Notebook"
   ]
  },
  {
   "cell_type": "markdown",
   "metadata": {},
   "source": [
    "Jupyter Notebook adalah lingkungan untuk mengeksekusi program Python dalam bentuk \"notebook\" atau buku catatan dengan berkas .ipynb. Bentuk ini cocok untuk tutorial yang berisi penjelasan, kode sumber program, dan rumus matematika secara bergantian. Rumus matematika yang didukung berada dalam lingkungan LaTeX. Untuk pemindahan ke program atau IDE sebenarnya, rekan-rekan cukup menyalin kode-kode Python sumber yang bersesuaian dengan jalannya program utama.\n",
    "\n",
    "\n",
    "#### Penjelasan Cell\n",
    "\n",
    "Jupyter Notebook mengakomodasi penulisan teks, kode sumber program, dan rumus matematika pada masing-masing \"cell\" dalam Notebook. \"Cell\" dapat diedit sebagaimana teks biasa maupun kode sumber. Kode program diidentifikasi sebagai \"Cell\" Code, sedangkan penjelasan dan rumus matematika diidentifikasi sebagai \"Cell\" Markdown. \"Cell\" bisa diedit ketika sedang aktif dengan mengeklik kiri pada cell tersebut atau menekan (Enter) pada papan ketik. \"Cell\" yang sedang diedit bisa langsung dieksekusi dengan mengeklik tombol Run di toolbar bagian atas berkas ini atau dengan menekan kombinasi (Ctrl)+(Enter) pada papan ketik.\n",
    "![Alt Text](./img/edit-eksekusi.jpg \"Alur Edit dan Eksekusi Cell\")"
   ]
  },
  {
   "cell_type": "markdown",
   "metadata": {},
   "source": [
    "\"Cell\" aktif dan sedang diedit (yang bertanda hijau di sebelah kiri) yang berisi kode program diidentifikasi dengan penanda \"Code\".\n",
    "![Alt Text](./img/kode.JPG \"Cell aktif Code\")\n",
    "\n",
    "\"Cell\" aktif dan sedang diedit yang berisi mengenai penjelasan atau rumus matematika diidentifikasi dengan penanda \"Markdown\".\n",
    "![Alt Text](./img/markdown.JPG \"Cell aktif Markdown\")\n",
    "\n",
    "\"Cell\" aktif dan sedang tidak diedit ditandai dengan warna biru di sisi kiri \"Cell\"\n",
    "![Alt Text](./img/cell-aktif-noedit.JPG \"Cell aktif sedang tidak diedit\")"
   ]
  },
  {
   "cell_type": "markdown",
   "metadata": {},
   "source": [
    "Gambar dari hasil modifikasi dan eksekusi berkas \"Pendahuluan.ipynb\" dapat dilihat di gambar berikut\n",
    "![Alt Text](./img/hasil.jpg \"Hasil modifikasi dan eksekusi\") "
   ]
  },
  {
   "cell_type": "code",
   "execution_count": null,
   "metadata": {},
   "outputs": [],
   "source": []
  }
 ],
 "metadata": {
  "kernelspec": {
   "display_name": "Python 3",
   "language": "python",
   "name": "python3"
  },
  "language_info": {
   "codemirror_mode": {
    "name": "ipython",
    "version": 3
   },
   "file_extension": ".py",
   "mimetype": "text/x-python",
   "name": "python",
   "nbconvert_exporter": "python",
   "pygments_lexer": "ipython3",
   "version": "3.6.5"
  }
 },
 "nbformat": 4,
 "nbformat_minor": 2
}
