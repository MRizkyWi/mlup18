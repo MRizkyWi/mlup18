{
 "cells": [
  {
   "cell_type": "markdown",
   "metadata": {},
   "source": [
    "# Regresi Linier - Satu Luaran, Banyak Prediktor"
   ]
  },
  {
   "cell_type": "markdown",
   "metadata": {},
   "source": [
    "Penggunaan regresi linier tentu bisa diperluas menjadi banyak prediktor, kita bisa menyebut ini sebagai _multivariate linear regression_ atau regresi linier multivariat. Perluasan ini direpresentasikan dengan persamaan di bawah ini dengan $p$ adalah jumlah prediktor/fitur yang terkait dalam dataset."
   ]
  },
  {
   "cell_type": "markdown",
   "metadata": {},
   "source": [
    "\\begin{equation}\n",
    "Y \\approx \\beta_0 + \\beta_1 x_{:,1} + \\beta_2 x_{:,2} + \\dots + \\beta_p x_{:,p}\n",
    "\\end{equation}\n",
    "\n",
    "atau dalam bentuk vektor\n",
    "\n",
    "\\begin{equation}\n",
    "Y \\approx\n",
    "\\begin{bmatrix}\n",
    "\\beta_0 & \\beta_1 & ... & \\beta_p  \n",
    "\\end{bmatrix}\n",
    "\\begin{bmatrix}\n",
    "1 \\\\ x_{:,1} \\\\ x_{:,2} \\\\ \\vdots \\\\ x_{:,p} \n",
    "\\end{bmatrix}\n",
    "\\end{equation}\n"
   ]
  },
  {
   "cell_type": "markdown",
   "metadata": {},
   "source": [
    "Secara umum, konsep untuk memilih parameter $\\beta$ masih sama dengan sebelumnya, yakni dengan meminimasi RSS. \n",
    "Sebelumnya, RSS memiliki formula:\n",
    "\\begin{equation}\n",
    "RSS = \\sum_{i=1}^n {(y_i - \\hat{\\beta_0} - \\hat{\\beta_1} {x_i})^2}\n",
    "\\end{equation}\n",
    "\n",
    "Sekarang menjadi (kita anggap $x_0$ adalah 1)\n",
    "\\begin{equation}\n",
    "RSS = \\sum_{i=1}^n  {(y_i - \\sum_{j=0}^p \\hat{\\beta_j} {x_{i,j}})^2}\n",
    "\\end{equation}\n",
    "\n",
    "Hanya saja pertanyaan yang muncul adalah kombinasi prediktor manakah yang paling baik untuk menentukan prediksi terhadap variabel target? Mari kita lihat dengan contoh kasus dengan dataset Wine Quality"
   ]
  },
  {
   "cell_type": "markdown",
   "metadata": {},
   "source": [
    "## Penggunaan Regresi Linier Multivariat"
   ]
  },
  {
   "cell_type": "markdown",
   "metadata": {},
   "source": [
    "Dalam contoh kasus ini kita akan menggunakan dataset Red Wine Quality yang bisa diambil di \"Data\\Regression\\Wine Quality\\winequality-red.csv\""
   ]
  }
 ],
 "metadata": {
  "kernelspec": {
   "display_name": "Python 3",
   "language": "python",
   "name": "python3"
  },
  "language_info": {
   "codemirror_mode": {
    "name": "ipython",
    "version": 3
   },
   "file_extension": ".py",
   "mimetype": "text/x-python",
   "name": "python",
   "nbconvert_exporter": "python",
   "pygments_lexer": "ipython3",
   "version": "3.6.3"
  }
 },
 "nbformat": 4,
 "nbformat_minor": 2
}
