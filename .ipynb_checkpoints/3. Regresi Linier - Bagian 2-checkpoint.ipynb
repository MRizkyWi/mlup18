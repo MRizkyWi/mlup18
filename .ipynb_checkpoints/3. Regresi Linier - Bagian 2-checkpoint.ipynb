{
 "cells": [
  {
   "cell_type": "markdown",
   "metadata": {},
   "source": [
    "# Regresi Linier - Satu Luaran, Banyak Prediktor"
   ]
  },
  {
   "cell_type": "markdown",
   "metadata": {},
   "source": [
    "Penggunaan regresi linier tentu bisa diperluas menjadi banyak prediktor, kita bisa menyebut ini sebagai _multivariate linear regression_ atau regresi linier multivariat. Perluasan ini direpresentasikan dengan persamaan di bawah ini dengan $p$ adalah jumlah prediktor/fitur yang terkait dalam dataset."
   ]
  },
  {
   "cell_type": "markdown",
   "metadata": {},
   "source": [
    "\\begin{equation}\n",
    "Y \\approx \\beta_0 + \\beta_1 x_{:,1} + \\beta_2 x_{:,2} + \\dots + \\beta_p x_{:,p}\n",
    "\\end{equation}\n",
    "\n",
    "atau dalam bentuk vektor\n",
    "\n",
    "\\begin{equation}\n",
    "Y \\approx\n",
    "\\begin{bmatrix}\n",
    "\\beta_0 & \\beta_1 & ... & \\beta_p  \n",
    "\\end{bmatrix}\n",
    "\\begin{bmatrix}\n",
    "1 \\\\ x_{:,1} \\\\ x_{:,2} \\\\ \\vdots \\\\ x_{:,p} \n",
    "\\end{bmatrix}\n",
    "\\end{equation}\n"
   ]
  },
  {
   "cell_type": "markdown",
   "metadata": {},
   "source": [
    "Secara umum, konsep untuk memilih parameter $\\beta$ masih sama dengan sebelumnya, yakni dengan meminimasi RSS. \n",
    "Sebelumnya, RSS memiliki formula:\n",
    "\\begin{equation}\n",
    "RSS = \\sum_{i=1}^n {(y_i - \\hat{\\beta_0} - \\hat{\\beta_1} {x_i})^2}\n",
    "\\end{equation}\n",
    "\n",
    "Sekarang menjadi (kita anggap $x_0$ adalah 1)\n",
    "\\begin{equation}\n",
    "RSS = \\sum_{i=1}^n  {(y_i - \\sum_{j=0}^p \\hat{\\beta_j} {x_{i,j}})^2}\n",
    "\\end{equation}\n",
    "\n",
    "Hanya saja pertanyaan yang muncul adalah kombinasi prediktor manakah yang paling baik untuk menentukan prediksi terhadap variabel target? Mari kita lihat dengan contoh kasus dengan dataset Wine Quality"
   ]
  },
  {
   "cell_type": "markdown",
   "metadata": {},
   "source": [
    "## Latihan: Penggunaan Regresi Linier Multivariat"
   ]
  },
  {
   "cell_type": "markdown",
   "metadata": {},
   "source": [
    "Dalam contoh kasus ini kita akan menggunakan dataset Red Wine Quality yang bisa diambil di \"Data\\Regression\\Wine Quality\\winequality-red.csv\""
   ]
  },
  {
   "cell_type": "code",
   "execution_count": 1,
   "metadata": {},
   "outputs": [],
   "source": [
    "import numpy as np\n",
    "import pandas as pd\n",
    "import matplotlib.pyplot as plt"
   ]
  },
  {
   "cell_type": "code",
   "execution_count": 2,
   "metadata": {},
   "outputs": [
    {
     "data": {
      "text/html": [
       "<div>\n",
       "<style scoped>\n",
       "    .dataframe tbody tr th:only-of-type {\n",
       "        vertical-align: middle;\n",
       "    }\n",
       "\n",
       "    .dataframe tbody tr th {\n",
       "        vertical-align: top;\n",
       "    }\n",
       "\n",
       "    .dataframe thead th {\n",
       "        text-align: right;\n",
       "    }\n",
       "</style>\n",
       "<table border=\"1\" class=\"dataframe\">\n",
       "  <thead>\n",
       "    <tr style=\"text-align: right;\">\n",
       "      <th></th>\n",
       "      <th>fixed acidity</th>\n",
       "      <th>volatile acidity</th>\n",
       "      <th>citric acid</th>\n",
       "      <th>residual sugar</th>\n",
       "      <th>chlorides</th>\n",
       "      <th>free sulfur dioxide</th>\n",
       "      <th>total sulfur dioxide</th>\n",
       "      <th>density</th>\n",
       "      <th>pH</th>\n",
       "      <th>sulphates</th>\n",
       "      <th>alcohol</th>\n",
       "      <th>quality</th>\n",
       "    </tr>\n",
       "  </thead>\n",
       "  <tbody>\n",
       "    <tr>\n",
       "      <th>0</th>\n",
       "      <td>7.4</td>\n",
       "      <td>0.70</td>\n",
       "      <td>0.00</td>\n",
       "      <td>1.9</td>\n",
       "      <td>0.076</td>\n",
       "      <td>11.0</td>\n",
       "      <td>34.0</td>\n",
       "      <td>0.9978</td>\n",
       "      <td>3.51</td>\n",
       "      <td>0.56</td>\n",
       "      <td>9.4</td>\n",
       "      <td>5</td>\n",
       "    </tr>\n",
       "    <tr>\n",
       "      <th>1</th>\n",
       "      <td>7.8</td>\n",
       "      <td>0.88</td>\n",
       "      <td>0.00</td>\n",
       "      <td>2.6</td>\n",
       "      <td>0.098</td>\n",
       "      <td>25.0</td>\n",
       "      <td>67.0</td>\n",
       "      <td>0.9968</td>\n",
       "      <td>3.20</td>\n",
       "      <td>0.68</td>\n",
       "      <td>9.8</td>\n",
       "      <td>5</td>\n",
       "    </tr>\n",
       "    <tr>\n",
       "      <th>2</th>\n",
       "      <td>7.8</td>\n",
       "      <td>0.76</td>\n",
       "      <td>0.04</td>\n",
       "      <td>2.3</td>\n",
       "      <td>0.092</td>\n",
       "      <td>15.0</td>\n",
       "      <td>54.0</td>\n",
       "      <td>0.9970</td>\n",
       "      <td>3.26</td>\n",
       "      <td>0.65</td>\n",
       "      <td>9.8</td>\n",
       "      <td>5</td>\n",
       "    </tr>\n",
       "    <tr>\n",
       "      <th>3</th>\n",
       "      <td>11.2</td>\n",
       "      <td>0.28</td>\n",
       "      <td>0.56</td>\n",
       "      <td>1.9</td>\n",
       "      <td>0.075</td>\n",
       "      <td>17.0</td>\n",
       "      <td>60.0</td>\n",
       "      <td>0.9980</td>\n",
       "      <td>3.16</td>\n",
       "      <td>0.58</td>\n",
       "      <td>9.8</td>\n",
       "      <td>6</td>\n",
       "    </tr>\n",
       "    <tr>\n",
       "      <th>4</th>\n",
       "      <td>7.4</td>\n",
       "      <td>0.70</td>\n",
       "      <td>0.00</td>\n",
       "      <td>1.9</td>\n",
       "      <td>0.076</td>\n",
       "      <td>11.0</td>\n",
       "      <td>34.0</td>\n",
       "      <td>0.9978</td>\n",
       "      <td>3.51</td>\n",
       "      <td>0.56</td>\n",
       "      <td>9.4</td>\n",
       "      <td>5</td>\n",
       "    </tr>\n",
       "  </tbody>\n",
       "</table>\n",
       "</div>"
      ],
      "text/plain": [
       "   fixed acidity  volatile acidity  citric acid  residual sugar  chlorides  \\\n",
       "0            7.4              0.70         0.00             1.9      0.076   \n",
       "1            7.8              0.88         0.00             2.6      0.098   \n",
       "2            7.8              0.76         0.04             2.3      0.092   \n",
       "3           11.2              0.28         0.56             1.9      0.075   \n",
       "4            7.4              0.70         0.00             1.9      0.076   \n",
       "\n",
       "   free sulfur dioxide  total sulfur dioxide  density    pH  sulphates  \\\n",
       "0                 11.0                  34.0   0.9978  3.51       0.56   \n",
       "1                 25.0                  67.0   0.9968  3.20       0.68   \n",
       "2                 15.0                  54.0   0.9970  3.26       0.65   \n",
       "3                 17.0                  60.0   0.9980  3.16       0.58   \n",
       "4                 11.0                  34.0   0.9978  3.51       0.56   \n",
       "\n",
       "   alcohol  quality  \n",
       "0      9.4        5  \n",
       "1      9.8        5  \n",
       "2      9.8        5  \n",
       "3      9.8        6  \n",
       "4      9.4        5  "
      ]
     },
     "execution_count": 2,
     "metadata": {},
     "output_type": "execute_result"
    }
   ],
   "source": [
    "data = pd.read_csv(\"Data\\Regression\\Wine Quality\\winequality-red.csv\",delimiter=\";\")\n",
    "data.head()"
   ]
  },
  {
   "cell_type": "code",
   "execution_count": 3,
   "metadata": {},
   "outputs": [
    {
     "name": "stdout",
     "output_type": "stream",
     "text": [
      "(1599, 12)\n"
     ]
    }
   ],
   "source": [
    "print(data.shape)"
   ]
  },
  {
   "cell_type": "markdown",
   "metadata": {},
   "source": [
    "Variabel target yang akan kita prediksi adalah quality. Meskipun tipe datanya adalah bilangan bulat (integer), kita masih bisa menerapkan regresi terhadap dataset ini dengan pembulatan pada akhirnya. Mari kita bagi dataset kita dengan acak sebanyak dengan perbandingan 75:25 data latih berbanding data uji, dan X dan Y bersesuaian. Untuk memastikan masing-masing dari peserta mendapatkan nilai acak yang sama, kita menggunakan nilai random seed dari numpy = 0."
   ]
  },
  {
   "cell_type": "markdown",
   "metadata": {},
   "source": [
    "<b>Prosedur Pengacakan</b>\n",
    "\n",
    "np.random.rand(n) akan membangkitkan n nilai acak dari 0 hingga 1. Kita akan menyeleksi data yang memiliki nilai acak kurang dari dan sama dengan 0.75 sebagai data latih dan sisanya sebagai data uji."
   ]
  },
  {
   "cell_type": "code",
   "execution_count": 4,
   "metadata": {},
   "outputs": [
    {
     "name": "stdout",
     "output_type": "stream",
     "text": [
      "(1183, 11)\n",
      "(1183,)\n",
      "(416, 11)\n",
      "(416,)\n"
     ]
    }
   ],
   "source": [
    "np.random.seed(0)\n",
    "\n",
    "X = data.drop(['quality'],axis=1)\n",
    "Y = data['quality']\n",
    "\n",
    "random_value = np.random.rand(data.shape[0])\n",
    "X_train = X[random_value<=0.75]\n",
    "Y_train = Y[random_value<=0.75]\n",
    "X_test = X[random_value>0.75]\n",
    "Y_test = Y[random_value>0.75]\n",
    "\n",
    "#Untuk memastikan dimensi dari data latih dan data uji sudah sesuai\n",
    "print(X_train.shape)\n",
    "print(Y_train.shape)\n",
    "print(X_test.shape)\n",
    "print(Y_test.shape)"
   ]
  },
  {
   "cell_type": "markdown",
   "metadata": {},
   "source": [
    "Sebagaimana kita ketahui, pembangunan model regresi linier sangat mudah dengan pustaka scikit learn. Kita akan mencoba melihat bagaimana regresi linier yang dibangun dengan dua variabel prediktor. Kita akan mencoba membangkitkan semua pasangan 2 prediktor yang mungkin terjadi dari 11 variabel prediktor yang tersedia dengan syntax itertools"
   ]
  },
  {
   "cell_type": "code",
   "execution_count": 5,
   "metadata": {},
   "outputs": [
    {
     "name": "stdout",
     "output_type": "stream",
     "text": [
      "Jumlah pasangan variabel prediktor yang terjadi: 55\n",
      "10 pasangan pertama:\n",
      "('fixed acidity', 'volatile acidity')\n",
      "('fixed acidity', 'citric acid')\n",
      "('fixed acidity', 'residual sugar')\n",
      "('fixed acidity', 'chlorides')\n",
      "('fixed acidity', 'free sulfur dioxide')\n",
      "('fixed acidity', 'total sulfur dioxide')\n",
      "('fixed acidity', 'density')\n",
      "('fixed acidity', 'pH')\n",
      "('fixed acidity', 'sulphates')\n",
      "('fixed acidity', 'alcohol')\n"
     ]
    }
   ],
   "source": [
    "import itertools\n",
    "pred_pairs = list(itertools.combinations(X.columns.values,2))\n",
    "\n",
    "print(\"Jumlah pasangan variabel prediktor yang terjadi: %d\" % len(pred_pairs))\n",
    "print(\"10 pasangan pertama:\")\n",
    "for i in range(10):\n",
    "    print(pred_pairs[i])"
   ]
  },
  {
   "cell_type": "markdown",
   "metadata": {},
   "source": [
    "Ada 55 pasang prediktor, jumlah yang cukup banyak. Mari kita lihat bagaimana performa dari masing-masing pasangan tersebut dengan data latih dan data uji yang sudah kita bagi. Dengan adanya list yang dibuat dengan itertools, seleksi data akan lebih mudah. Kita akan tampung performa dari masing-masing pasangan dengan dataframe baru: performances. Performances akan berisi atribut pairs (yang menandakan model tersebut menggunakan prediktor apa saja), test MSE (menyimpan nilai pengujian model terhadap data uji), dan build time (menandakan waktu yang dibutuhkan untuk membangun model) akan dibahas dalam subbab berikutnya."
   ]
  },
  {
   "cell_type": "code",
   "execution_count": 6,
   "metadata": {},
   "outputs": [],
   "source": [
    "from sklearn import linear_model\n",
    "from sklearn.metrics import mean_squared_error, r2_score\n",
    "import time\n",
    "\n",
    "performances = pd.DataFrame(columns=['pairs','Test MSE','build time'])\n",
    "\n",
    "for pairs in pred_pairs:\n",
    "    linreg = linear_model.LinearRegression()\n",
    "    t = time.time()\n",
    "    linreg.fit(X_train[list(pairs)], Y_train)\n",
    "    build_time = time.time() - t\n",
    "    Y_pred = linreg.predict(X_test[list(pairs)])\n",
    "    mse = mean_squared_error(Y_test, Y_pred)\n",
    "    performances.loc[len(performances)] = np.array([pairs[0] + \"-\" + pairs[1], mse,build_time])"
   ]
  },
  {
   "cell_type": "markdown",
   "metadata": {},
   "source": [
    "Manakah pasangan variabel yang menghasilkan prediksi paling baik? Gunakan fungsi sort_values dan head pada DataFrame untuk mengetahuinya"
   ]
  },
  {
   "cell_type": "code",
   "execution_count": 7,
   "metadata": {},
   "outputs": [
    {
     "data": {
      "text/html": [
       "<div>\n",
       "<style scoped>\n",
       "    .dataframe tbody tr th:only-of-type {\n",
       "        vertical-align: middle;\n",
       "    }\n",
       "\n",
       "    .dataframe tbody tr th {\n",
       "        vertical-align: top;\n",
       "    }\n",
       "\n",
       "    .dataframe thead th {\n",
       "        text-align: right;\n",
       "    }\n",
       "</style>\n",
       "<table border=\"1\" class=\"dataframe\">\n",
       "  <thead>\n",
       "    <tr style=\"text-align: right;\">\n",
       "      <th></th>\n",
       "      <th>pairs</th>\n",
       "      <th>Test MSE</th>\n",
       "      <th>build time</th>\n",
       "    </tr>\n",
       "  </thead>\n",
       "  <tbody>\n",
       "    <tr>\n",
       "      <th>18</th>\n",
       "      <td>volatile acidity-alcohol</td>\n",
       "      <td>0.446690503867</td>\n",
       "      <td>0.0009999275207519531</td>\n",
       "    </tr>\n",
       "    <tr>\n",
       "      <th>9</th>\n",
       "      <td>fixed acidity-alcohol</td>\n",
       "      <td>0.480400349091</td>\n",
       "      <td>0.0009999275207519531</td>\n",
       "    </tr>\n",
       "    <tr>\n",
       "      <th>53</th>\n",
       "      <td>pH-alcohol</td>\n",
       "      <td>0.481152563806</td>\n",
       "      <td>0.0</td>\n",
       "    </tr>\n",
       "    <tr>\n",
       "      <th>26</th>\n",
       "      <td>citric acid-alcohol</td>\n",
       "      <td>0.486012404555</td>\n",
       "      <td>0.0009999275207519531</td>\n",
       "    </tr>\n",
       "    <tr>\n",
       "      <th>54</th>\n",
       "      <td>sulphates-alcohol</td>\n",
       "      <td>0.488420105374</td>\n",
       "      <td>0.0009999275207519531</td>\n",
       "    </tr>\n",
       "  </tbody>\n",
       "</table>\n",
       "</div>"
      ],
      "text/plain": [
       "                       pairs        Test MSE             build time\n",
       "18  volatile acidity-alcohol  0.446690503867  0.0009999275207519531\n",
       "9      fixed acidity-alcohol  0.480400349091  0.0009999275207519531\n",
       "53                pH-alcohol  0.481152563806                    0.0\n",
       "26       citric acid-alcohol  0.486012404555  0.0009999275207519531\n",
       "54         sulphates-alcohol  0.488420105374  0.0009999275207519531"
      ]
     },
     "execution_count": 7,
     "metadata": {},
     "output_type": "execute_result"
    }
   ],
   "source": [
    "performances.sort_values(by='Test MSE', ascending=True).head()"
   ]
  },
  {
   "cell_type": "markdown",
   "metadata": {},
   "source": [
    "Dengan cara yang sama:\n",
    "1. Membangkitkan pasangan variabel prediktor dengan itertools, namun dengan 5 variabel prediktor\n",
    "2. Menganalisis model terbaik dari pasangan triplet variabel prediktor dengan test MSE terendah\n",
    "\n",
    "Apakah semakin banyak variabel prediktor membantu model regresi linier multivariat untuk memprediksi target lebih baik?"
   ]
  },
  {
   "cell_type": "code",
   "execution_count": null,
   "metadata": {},
   "outputs": [],
   "source": [
    "pred_quintets = None\n",
    "\n",
    "print(\"Jumlah pasangan variabel prediktor yang terjadi: %d\" % len(pred_quintets))\n",
    "print(\"10 quintet pertama:\")\n",
    "for i in range(10):\n",
    "    print(pred_quintets[i])"
   ]
  },
  {
   "cell_type": "code",
   "execution_count": null,
   "metadata": {},
   "outputs": [],
   "source": [
    "performances5 = pd.DataFrame(columns=['quintets','Test MSE','build time'])\n",
    "\n",
    "for quintet in pred_quintets:\n",
    "    linreg = linear_model.LinearRegression()\n",
    "    t = time.time()\n",
    "    linreg.fit(None, Y_train)\n",
    "    build_time = time.time() - t\n",
    "    Y_pred = linreg.predict(None)\n",
    "    mse = mean_squared_error(Y_test, Y_pred)\n",
    "    performances5.loc[len(performances5)] = np.array([quintet[0] + \"-\" + quintet[1]+ \"-\" + quintet[2]+ \"-\" + quintet[3]+ \"-\" + quintet[4], mse, build_time])"
   ]
  },
  {
   "cell_type": "code",
   "execution_count": null,
   "metadata": {},
   "outputs": [],
   "source": [
    "performances5.sort_values(None).head()"
   ]
  },
  {
   "cell_type": "markdown",
   "metadata": {},
   "source": [
    "Kemudian mari kita coba dengan 11 variabel prediktor."
   ]
  },
  {
   "cell_type": "code",
   "execution_count": 8,
   "metadata": {},
   "outputs": [
    {
     "name": "stdout",
     "output_type": "stream",
     "text": [
      "['fixed acidity', 'volatile acidity', 'citric acid', 'residual sugar', 'chlorides', 'free sulfur dioxide', 'total sulfur dioxide', 'density', 'pH', 'sulphates', 'alcohol']\n",
      "MSE: 0.428\n",
      "Build time: 0.001999\n"
     ]
    }
   ],
   "source": [
    "linreg = linear_model.LinearRegression()\n",
    "t = time.time()\n",
    "linreg.fit(X_train, Y_train)\n",
    "build_time = time.time() - t\n",
    "Y_pred = linreg.predict(X_test)\n",
    "mse = mean_squared_error(Y_test, Y_pred)\n",
    "print(list(X_train.columns))\n",
    "print(\"MSE: %.3lf\" % mse)\n",
    "print(\"Build time: %lf\" % build_time)"
   ]
  },
  {
   "cell_type": "markdown",
   "metadata": {},
   "source": [
    "(Opsional) Bandingkan dengan performa regresi linier univariat untuk masing-masing prediktor (satu variabel), apakah lebih baik atau lebih buruk?"
   ]
  },
  {
   "cell_type": "markdown",
   "metadata": {},
   "source": [
    "----------------------"
   ]
  },
  {
   "cell_type": "markdown",
   "metadata": {},
   "source": [
    "## Curse of Dimensionality"
   ]
  },
  {
   "cell_type": "markdown",
   "metadata": {},
   "source": [
    "Cost yang digunakan untuk pembuatan model regresi linier multivariat cenderung berbanding lurus dengan jumlah variabel prediktor yang dilatih dan jumlah baris. Mari kita lihat perbandingan waktu komputasi pembuatan model dengan 2 variabel prediktor, 5 variabel prediktor, dan 11 variabel prediktor."
   ]
  },
  {
   "cell_type": "code",
   "execution_count": null,
   "metadata": {},
   "outputs": [],
   "source": [
    "performances['build time'].astype(np.float).mean()"
   ]
  },
  {
   "cell_type": "code",
   "execution_count": null,
   "metadata": {},
   "outputs": [],
   "source": [
    "performances5['build time'].astype(np.float).mean()"
   ]
  },
  {
   "cell_type": "code",
   "execution_count": null,
   "metadata": {},
   "outputs": [],
   "source": [
    "build_time"
   ]
  },
  {
   "cell_type": "markdown",
   "metadata": {},
   "source": [
    "Walaupun cenderung tidak signifikan, terjadi peningkatan dari waktu pembangunan model dari regresi linier dengan variabel yang terus bertambah. Hal ini juga akan berpengaruh terhadap performa dari regresi linier itu sendiri. Semakin banyak variabel prediktor, akan cenderung membuat model tersebut mengalami overfitting terhadap data yang diuji. Data yang ada di dunia bahkan bisa memiliki lebih banyak fitur, seperti citra atau teks. Sedemikian hingga, jumlah variabel harus bisa kita reduksi sebaik mungkin dengan pemilihan variabel yang baik. Gambar di bawah ini menyatakan hubungan jumlah prediktor dengan RSS pada dataset lain.\n",
    "\n",
    "![Alt Text](img/3. rss-numpred.JPG)"
   ]
  },
  {
   "cell_type": "markdown",
   "metadata": {},
   "source": [
    "Untuk mengatasinya, kita akan menggunakan metode shrinking atau biasa disebut regularisasi."
   ]
  },
  {
   "cell_type": "code",
   "execution_count": null,
   "metadata": {},
   "outputs": [],
   "source": []
  }
 ],
 "metadata": {
  "kernelspec": {
   "display_name": "Python 3",
   "language": "python",
   "name": "python3"
  },
  "language_info": {
   "codemirror_mode": {
    "name": "ipython",
    "version": 3
   },
   "file_extension": ".py",
   "mimetype": "text/x-python",
   "name": "python",
   "nbconvert_exporter": "python",
   "pygments_lexer": "ipython3",
   "version": "3.6.3"
  }
 },
 "nbformat": 4,
 "nbformat_minor": 2
}
