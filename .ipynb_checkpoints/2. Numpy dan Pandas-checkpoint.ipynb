{
 "cells": [
  {
   "cell_type": "code",
   "execution_count": 28,
   "metadata": {},
   "outputs": [
    {
     "name": "stdout",
     "output_type": "stream",
     "text": [
      "[5 3]\n",
      "[[ 1  3]\n",
      " [ 2  2]\n",
      " [ 7  7]\n",
      " [ 9  5]\n",
      " [10 11]\n",
      " [13  1]]\n",
      "[[0. 0. 0.]\n",
      " [0. 0. 0.]\n",
      " [0. 0. 0.]\n",
      " [0. 0. 0.]\n",
      " [0. 0. 0.]]\n",
      "[[1. 1. 1.]\n",
      " [1. 1. 1.]\n",
      " [1. 1. 1.]]\n",
      "[[5 5 5]\n",
      " [5 5 5]\n",
      " [5 5 5]\n",
      " [5 5 5]]\n",
      "[[-2.90021197 -0.04991019  2.05498725]\n",
      " [ 0.8848245  -0.63560906  0.50322802]\n",
      " [-0.11032502 -1.62530709 -1.39335529]]\n",
      "[[1. 0. 0.]\n",
      " [0. 1. 0.]\n",
      " [0. 0. 1.]]\n"
     ]
    }
   ],
   "source": [
    "import numpy as np\n",
    "\n",
    "array_null = np.array((5,3))\n",
    "print(array_null)\n",
    "\n",
    "array_content = np.array([[1,3],[2,2],[7,7],[9,5],[10,11],[13,1]])\n",
    "print(array_content)\n",
    "\n",
    "array_zeros = np.zeros((5,3))\n",
    "print(array_zeros)\n",
    "\n",
    "array_ones = np.ones((3,3))\n",
    "print(array_ones)\n",
    "\n",
    "array_full = np.full((4,3),5)\n",
    "print(array_full)\n",
    "\n",
    "array_random = np.random.randn(3,3)\n",
    "print(array_random)\n",
    "\n",
    "array_eye = np.eye(3)\n",
    "print(array_eye)"
   ]
  },
  {
   "cell_type": "code",
   "execution_count": 15,
   "metadata": {},
   "outputs": [
    {
     "name": "stdout",
     "output_type": "stream",
     "text": [
      "[0 1 2 3 4 5 6 7 8 9]\n",
      "[3 4 5 6 7 8 9]\n",
      "[3 5 7 9]\n"
     ]
    }
   ],
   "source": [
    "print(np.arange(10))\n",
    "print(np.arange(3,10))\n",
    "print(np.arange(3,10,2))"
   ]
  },
  {
   "cell_type": "code",
   "execution_count": 25,
   "metadata": {},
   "outputs": [
    {
     "name": "stdout",
     "output_type": "stream",
     "text": [
      "[2.   2.25 2.5  2.75 3.  ]\n",
      "[2.  2.2 2.4 2.6 2.8]\n"
     ]
    }
   ],
   "source": [
    "print(np.linspace(2,3,num=5))\n",
    "print(np.linspace(2,3,num=5,endpoint=False))"
   ]
  },
  {
   "cell_type": "code",
   "execution_count": 34,
   "metadata": {},
   "outputs": [
    {
     "name": "stdout",
     "output_type": "stream",
     "text": [
      "[[ 1  3]\n",
      " [ 2  2]\n",
      " [ 7  7]\n",
      " [ 9  5]\n",
      " [10 11]\n",
      " [13  1]]\n",
      "[2 2]\n",
      "[]\n",
      "[[2 2]\n",
      " [7 7]]\n",
      "[[ 2  2]\n",
      " [ 7  7]\n",
      " [ 9  5]\n",
      " [10 11]]\n"
     ]
    }
   ],
   "source": [
    "print(array_content)\n",
    "\n",
    "print(array_content[1])\n",
    "print(array_content[3:3,1])\n",
    "print(array_content[1:3,:])\n",
    "print(array_content[1:-1,:])"
   ]
  },
  {
   "cell_type": "code",
   "execution_count": null,
   "metadata": {},
   "outputs": [],
   "source": []
  }
 ],
 "metadata": {
  "kernelspec": {
   "display_name": "Python 3",
   "language": "python",
   "name": "python3"
  },
  "language_info": {
   "codemirror_mode": {
    "name": "ipython",
    "version": 3
   },
   "file_extension": ".py",
   "mimetype": "text/x-python",
   "name": "python",
   "nbconvert_exporter": "python",
   "pygments_lexer": "ipython3",
   "version": "3.6.5"
  }
 },
 "nbformat": 4,
 "nbformat_minor": 2
}
