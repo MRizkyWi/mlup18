{
 "cells": [
  {
   "cell_type": "markdown",
   "metadata": {},
   "source": [
    "# Fungsi dan Metode"
   ]
  },
  {
   "cell_type": "markdown",
   "metadata": {},
   "source": [
    "Setelah kita mempelajari variabel dan struktur data sederhana dalam Python, kita akan beranjak ke konsep lain, yakni metode (method) dan fungsi (function) dalam Python.\n",
    "\n",
    "Suatu fungsi dan metode adalah cara untuk mengubah suatu nilai menjadi nilai lain. Berikut contoh fungsi dan metode dalam Python"
   ]
  },
  {
   "cell_type": "code",
   "execution_count": 2,
   "metadata": {},
   "outputs": [
    {
     "name": "stdout",
     "output_type": "stream",
     "text": [
      "6\n",
      "HELLO!\n"
     ]
    }
   ],
   "source": [
    "#kita memiliki variabel string a yang bernilai 'Hello!'\n",
    "a = 'Hello!'\n",
    "\n",
    "#contoh fungsi: len(...), menghasilkan panjang dari \n",
    "# suatu variabel string atau list\n",
    "print(len(a))\n",
    "\n",
    "#contoh metode: variabel-string.upper(), menghasilkan string dalam bentuk\n",
    "# UPPERCASE\n",
    "print(a.upper())"
   ]
  },
  {
   "cell_type": "markdown",
   "metadata": {},
   "source": [
    "Kita sebenarnya bisa mendefinisikan fungsi sendiri dan menggunakannya di manapun kita suka, hanya saja untuk lokakarya kali ini, kita akan berfokus pada penggunaan fungsi yang sudah dibangun dalam pustaka Python saja."
   ]
  },
  {
   "cell_type": "markdown",
   "metadata": {},
   "source": [
    "## Fungsi dan metode yang penting diketahui"
   ]
  },
  {
   "cell_type": "markdown",
   "metadata": {},
   "source": [
    "Fungsi\n",
    "- print(\"suatu string\"), print(suatu variabel), print(\"suatu string dan format tertentu\" % (var1,var2,var3,...)\n",
    "- abs(suatu nilai), hanya menerima nilai angka\n",
    "- round(suatu nilai), mengubah nilai float menjadi bilangan bulat\n",
    "- min(suatu list) atau min(beberapa nilai dipisahkan dengan koma), mencari nilai minimum\n",
    "- max(suatu list) atau max(beberapa nilai dipisahkan dengan koma), mencari nilai maksimum\n",
    "- sum(suatu list), menghitung sum dari list bernilai numerik\n",
    "- type(suatu variabel), menampilkan tipe data dari variabel yang diacu\n",
    "- len(suatu string atau list), menampilkan jumlah elemen dari string atau list yang diacu"
   ]
  },
  {
   "cell_type": "code",
   "execution_count": 2,
   "metadata": {},
   "outputs": [
    {
     "name": "stdout",
     "output_type": "stream",
     "text": [
      "-6\n",
      "7\n",
      "6\n",
      "6\n",
      "3\n",
      "4.55\n",
      "[-6, -1, 2.55, 3, 6.0003, 7]\n"
     ]
    }
   ],
   "source": [
    "#Contoh beberapa penerapannya\n",
    "my_list = [3,2.55,-1,6.0003,-6,7]\n",
    "print(min(my_list))\n",
    "print(max(my_list))\n",
    "print(len(my_list))\n",
    "print(abs(min(my_list)))\n",
    "print(round(my_list[1]))\n",
    "print(sum(my_list[:3]))\n",
    "print(sorted(my_list))"
   ]
  },
  {
   "cell_type": "markdown",
   "metadata": {},
   "source": [
    "\n",
    "Metode pada String\n",
    "- a.upper(), mendapatkan string UPPERCASE dari variabel string a\n",
    "- a.lower(), mendapatkan string lowercase dari variabel string a\n",
    "- a.strip(), mendapatkan string tanpa spasi di awal dan akhir dari variabel string a\n",
    "- a.replace(substring_awal,substring_baru), mengganti substring_awal dari variabel string a menjadi substring baru\n",
    "- a.split('delim\"iter'), membagi string menjadi list of string yang dibatasi oleh 'delimiter' tertentu\n",
    "- 'delimiter'.join(a), menggabungkan list of string dengan batasan antar string adalah suatu delimiter tertentu"
   ]
  },
  {
   "cell_type": "code",
   "execution_count": 15,
   "metadata": {},
   "outputs": [
    {
     "name": "stdout",
     "output_type": "stream",
     "text": [
      "   halo nama saya joalko! alkisah ...   \n",
      "Halo nama saya Joalko! Alkisah ...\n",
      "HDOo nama saya JoDOko! Alkisah ...\n",
      "['Halo', 'nama', 'saya', 'Joalko!', 'Alkisah', '...']\n",
      "Halo:nama:saya:Joalko!:Alkisah:...\n"
     ]
    }
   ],
   "source": [
    "a = '   Halo nama saya Joalko! Alkisah ...   '\n",
    "print(a.lower())\n",
    "a_new = a.strip()\n",
    "print(a_new)\n",
    "print(a_new.replace('al','DO'))#replace bersifat case sensitive!\n",
    "b = a_new.split(' ')\n",
    "print(b)\n",
    "print(':'.join(b))"
   ]
  },
  {
   "cell_type": "markdown",
   "metadata": {},
   "source": [
    "Metode pada List, kita sudah mengerjakannya pada submodul sebelumnya, dan ada beberapa tambahan di sini. Mari kita ingat kembali.\n",
    "- list.append(elemen), menambahkan elemen pada akhir list\n",
    "- list.insert(i, elemen), menambahkan elemen pada indeks ke-i list\n",
    "- list.remove(elemen), mengeluarkan elemen dari list\n",
    "- list.count(elemen), mendapatkan jumlah elemen tertentu dari list\n",
    "- list.clear(), menghapus semua elemen dari list"
   ]
  },
  {
   "cell_type": "code",
   "execution_count": 19,
   "metadata": {},
   "outputs": [
    {
     "name": "stdout",
     "output_type": "stream",
     "text": [
      "[10, 1000, -999, -50, -999]\n",
      "[10, 1000, -999, -50, -999, 30]\n",
      "[10, 1000, 11, -999, -50, -999, 30]\n",
      "[10, 11, -999, -50, -999, 30]\n",
      "2\n",
      "[]\n"
     ]
    }
   ],
   "source": [
    "mylist = [10, 1000, -999, -50, -999]\n",
    "print(mylist)\n",
    "mylist.append(30)\n",
    "print(mylist)\n",
    "mylist.insert(2,11)\n",
    "print(mylist)\n",
    "mylist.remove(1000)\n",
    "print(mylist)\n",
    "print(mylist.count(-999))\n",
    "mylist.clear()\n",
    "print(mylist)"
   ]
  },
  {
   "cell_type": "markdown",
   "metadata": {},
   "source": [
    "Metode pada dictionary\n",
    "- dict.keys(), mendapatkan list of keys dari dictionary dict\n",
    "- dict.values(), mendapatkan list of values dari dictionary dict\n",
    "- dict.clear(), menghapus semua elemen dari dictionary dict"
   ]
  },
  {
   "cell_type": "code",
   "execution_count": 23,
   "metadata": {},
   "outputs": [
    {
     "name": "stdout",
     "output_type": "stream",
     "text": [
      "dict_keys(['judul', 'tebal', 'pengarang'])\n",
      "dict_values(['Pengantar Statistical Learning', 220, 'Someone'])\n"
     ]
    }
   ],
   "source": [
    "X = 'Someone'\n",
    "buku = {'judul':'Pengantar Statistical Learning','tebal':220,'pengarang':X}\n",
    "print(buku.keys())\n",
    "print(buku.values())"
   ]
  },
  {
   "cell_type": "markdown",
   "metadata": {},
   "source": [
    "## Latihan: menggunakan fungsi dan metode\n",
    "\n",
    "1. Buatlah suatu list 'lista' yang berisi string: 'Saya', 'mau', 'makan','pisang'\n",
    "2. Hitung jumlah elemen pada lista \n",
    "3. Hitung jumlah karakter pada lista elemen dengan indeks ke-0\n",
    "4. Ubah elemen ke-2 dari lista menjadi uppercase\n",
    "5. Buat suatu list 'listb' yang berisi integer 10, 4, 2, 1, 6\n",
    "6. Dengan metode yang sudah dipelajari, hitung rata-rata dari listb"
   ]
  },
  {
   "cell_type": "code",
   "execution_count": null,
   "metadata": {},
   "outputs": [],
   "source": []
  }
 ],
 "metadata": {
  "kernelspec": {
   "display_name": "Python 3",
   "language": "python",
   "name": "python3"
  },
  "language_info": {
   "codemirror_mode": {
    "name": "ipython",
    "version": 3
   },
   "file_extension": ".py",
   "mimetype": "text/x-python",
   "name": "python",
   "nbconvert_exporter": "python",
   "pygments_lexer": "ipython3",
   "version": "3.6.5"
  }
 },
 "nbformat": 4,
 "nbformat_minor": 2
}
