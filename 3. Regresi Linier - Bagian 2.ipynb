{
 "cells": [
  {
   "cell_type": "markdown",
   "metadata": {},
   "source": [
    "# Regresi Linier - Satu Luaran, Banyak Prediktor"
   ]
  },
  {
   "cell_type": "markdown",
   "metadata": {},
   "source": [
    "Penggunaan regresi linier tentu bisa diperluas menjadi banyak prediktor, kita bisa menyebut ini sebagai _multivariate linear regression_ atau regresi linier multivariat. Perluasan ini direpresentasikan dengan persamaan di bawah ini dengan $p$ adalah jumlah prediktor/fitur yang terkait dalam dataset."
   ]
  },
  {
   "cell_type": "markdown",
   "metadata": {},
   "source": [
    "\\begin{equation}\n",
    "Y \\approx \\beta_0 + \\beta_1 x_{:,1} + \\beta_2 x_{:,2} + \\dots + \\beta_p x_{:,p}\n",
    "\\end{equation}\n",
    "\n",
    "atau dalam bentuk vektor\n",
    "\n",
    "\\begin{equation}\n",
    "Y \\approx\n",
    "\\begin{bmatrix}\n",
    "\\beta_0 & \\beta_1 & ... & \\beta_p  \n",
    "\\end{bmatrix}\n",
    "\\begin{bmatrix}\n",
    "1 \\\\ x_{:,1} \\\\ x_{:,2} \\\\ \\vdots \\\\ x_{:,p} \n",
    "\\end{bmatrix}\n",
    "\\end{equation}\n"
   ]
  },
  {
   "cell_type": "markdown",
   "metadata": {},
   "source": [
    "Secara umum, konsep untuk memilih parameter $\\beta$ masih sama dengan sebelumnya, yakni dengan meminimasi RSS. \n",
    "Sebelumnya, RSS memiliki formula:\n",
    "\\begin{equation}\n",
    "RSS = \\sum_{i=1}^n {(y_i - \\hat{\\beta_0} - \\hat{\\beta_1} {x_i})^2}\n",
    "\\end{equation}\n",
    "\n",
    "Sekarang menjadi (kita anggap $x_0$ adalah 1)\n",
    "\\begin{equation}\n",
    "RSS = \\sum_{i=1}^n  {(y_i - \\sum_{j=0}^p \\hat{\\beta_j} {x_{i,j}})^2}\n",
    "\\end{equation}\n",
    "\n",
    "Hanya saja pertanyaan yang muncul adalah kombinasi prediktor manakah yang paling baik untuk menentukan prediksi terhadap variabel target? Mari kita lihat dengan contoh kasus dengan dataset Wine Quality"
   ]
  },
  {
   "cell_type": "markdown",
   "metadata": {},
   "source": [
    "## Latihan: Penggunaan Regresi Linier Multivariat"
   ]
  },
  {
   "cell_type": "markdown",
   "metadata": {},
   "source": [
    "Dalam contoh kasus ini kita akan menggunakan dataset Red Wine Quality yang bisa diambil di \"Data\\Regression\\Wine Quality\\winequality-red.csv\""
   ]
  },
  {
   "cell_type": "code",
   "execution_count": null,
   "metadata": {},
   "outputs": [],
   "source": [
    "import numpy as np\n",
    "import pandas as pd\n",
    "import matplotlib.pyplot as plt"
   ]
  },
  {
   "cell_type": "code",
   "execution_count": null,
   "metadata": {
    "scrolled": true
   },
   "outputs": [],
   "source": [
    "data = pd.read_csv(\"Data/Regression/Wine Quality/winequality-red.csv\",delimiter=\";\")\n",
    "data.head()"
   ]
  },
  {
   "cell_type": "code",
   "execution_count": null,
   "metadata": {},
   "outputs": [],
   "source": [
    "print(data.shape)"
   ]
  },
  {
   "cell_type": "markdown",
   "metadata": {},
   "source": [
    "Variabel target yang akan kita prediksi adalah quality. Meskipun tipe datanya adalah bilangan bulat (integer), kita masih bisa menerapkan regresi terhadap dataset ini dengan pembulatan pada akhirnya. Mari kita bagi dataset kita dengan acak sebanyak dengan perbandingan 75:25 data latih berbanding data uji, dan X dan Y bersesuaian. Untuk memastikan masing-masing dari peserta mendapatkan nilai acak yang sama, kita menggunakan nilai random seed dari numpy = 0."
   ]
  },
  {
   "cell_type": "markdown",
   "metadata": {},
   "source": [
    "<b>Prosedur Pengacakan</b>\n",
    "\n",
    "np.random.rand(n) akan membangkitkan n nilai acak dari 0 hingga 1. Kita akan menyeleksi data yang memiliki nilai acak kurang dari dan sama dengan 0.75 sebagai data latih dan sisanya sebagai data uji."
   ]
  },
  {
   "cell_type": "code",
   "execution_count": null,
   "metadata": {},
   "outputs": [],
   "source": [
    "np.random.seed(0)\n",
    "\n",
    "X = data.drop(['quality'],axis=1)\n",
    "Y = data['quality']\n",
    "\n",
    "random_value = np.random.rand(data.shape[0])\n",
    "X_train = X[random_value<=0.75]\n",
    "Y_train = Y[random_value<=0.75]\n",
    "X_test = X[random_value>0.75]\n",
    "Y_test = Y[random_value>0.75]\n",
    "\n",
    "#Untuk memastikan dimensi dari data latih dan data uji sudah sesuai\n",
    "print(X_train.shape)\n",
    "print(Y_train.shape)\n",
    "print(X_test.shape)\n",
    "print(Y_test.shape)"
   ]
  },
  {
   "cell_type": "markdown",
   "metadata": {},
   "source": [
    "Sebagaimana kita ketahui, pembangunan model regresi linier sangat mudah dengan pustaka scikit learn. Kita akan mencoba melihat bagaimana regresi linier yang dibangun dengan dua variabel prediktor. Kita akan mencoba membangkitkan semua pasangan 2 prediktor yang mungkin terjadi dari 11 variabel prediktor yang tersedia dengan syntax itertools"
   ]
  },
  {
   "cell_type": "code",
   "execution_count": null,
   "metadata": {},
   "outputs": [],
   "source": [
    "import itertools\n",
    "pred_pairs = list(itertools.combinations(X.columns.values,2))\n",
    "\n",
    "print(\"Jumlah pasangan variabel prediktor yang terjadi: %d\" % len(pred_pairs))\n",
    "print(\"10 pasangan pertama:\")\n",
    "for i in range(10):\n",
    "    print(pred_pairs[i])"
   ]
  },
  {
   "cell_type": "markdown",
   "metadata": {},
   "source": [
    "Ada 55 pasang prediktor, jumlah yang cukup banyak. Mari kita lihat bagaimana performa dari masing-masing pasangan tersebut dengan data latih dan data uji yang sudah kita bagi. Dengan adanya list yang dibuat dengan itertools, seleksi data akan lebih mudah. Kita akan tampung performa dari masing-masing pasangan dengan dataframe baru: performances. Performances akan berisi atribut pairs (yang menandakan model tersebut menggunakan prediktor apa saja), test MSE (menyimpan nilai pengujian model terhadap data uji), dan build time (menandakan waktu yang dibutuhkan untuk membangun model) akan dibahas dalam subbab berikutnya."
   ]
  },
  {
   "cell_type": "code",
   "execution_count": null,
   "metadata": {},
   "outputs": [],
   "source": [
    "from sklearn import linear_model\n",
    "from sklearn.metrics import mean_squared_error\n",
    "import time\n",
    "\n",
    "performances = pd.DataFrame(columns=['pairs','Test MSE','build time'])\n",
    "\n",
    "for pairs in pred_pairs:\n",
    "    linreg = linear_model.LinearRegression()\n",
    "    t = time.time()\n",
    "    linreg.fit(X_train[list(pairs)], Y_train)\n",
    "    build_time = time.time() - t\n",
    "    Y_pred = linreg.predict(X_test[list(pairs)])\n",
    "    mse = mean_squared_error(Y_test, Y_pred)\n",
    "    performances.loc[len(performances)] = np.array([pairs[0] + \"-\" + pairs[1], mse,build_time])"
   ]
  },
  {
   "cell_type": "markdown",
   "metadata": {},
   "source": [
    "Manakah pasangan variabel yang menghasilkan prediksi paling baik? Gunakan fungsi sort_values dan head pada DataFrame untuk mengetahuinya"
   ]
  },
  {
   "cell_type": "code",
   "execution_count": null,
   "metadata": {},
   "outputs": [],
   "source": [
    "performances.sort_values(by='Test MSE', ascending=True).head()"
   ]
  },
  {
   "cell_type": "markdown",
   "metadata": {},
   "source": [
    "Dengan cara yang sama:\n",
    "1. Membangkitkan pasangan variabel prediktor dengan itertools, namun dengan 5 variabel prediktor\n",
    "2. Menganalisis model terbaik dari pasangan triplet variabel prediktor dengan test MSE terendah\n",
    "\n",
    "Apakah semakin banyak variabel prediktor membantu model regresi linier multivariat untuk memprediksi target lebih baik?"
   ]
  },
  {
   "cell_type": "code",
   "execution_count": null,
   "metadata": {},
   "outputs": [],
   "source": [
    "pred_quintets = None\n",
    "\n",
    "print(\"Jumlah pasangan variabel prediktor yang terjadi: %d\" % len(pred_quintets))\n",
    "print(\"10 quintet pertama:\")\n",
    "for i in range(10):\n",
    "    print(pred_quintets[i])"
   ]
  },
  {
   "cell_type": "code",
   "execution_count": null,
   "metadata": {},
   "outputs": [],
   "source": [
    "pred_quintets = list(itertools.combinations(X.columns.values,5))\n",
    "\n",
    "print(\"Jumlah pasangan variabel prediktor yang terjadi: %d\" % len(pred_quintets))\n",
    "print(\"10 quintet pertama:\")\n",
    "for i in range(10):\n",
    "    print(pred_quintets[i])"
   ]
  },
  {
   "cell_type": "code",
   "execution_count": null,
   "metadata": {},
   "outputs": [],
   "source": [
    "performances5 = pd.DataFrame(columns=['quintets','Test MSE','build time'])\n",
    "\n",
    "for quintet in pred_quintets:\n",
    "    linreg = linear_model.LinearRegression()\n",
    "    t = time.time()\n",
    "    linreg.fit(None, Y_train)\n",
    "    build_time = time.time() - t\n",
    "    Y_pred = linreg.predict(None)\n",
    "    mse = mean_squared_error(Y_test, Y_pred)\n",
    "    performances5.loc[len(performances5)] = np.array([quintet[0] + \"-\" + quintet[1]+ \"-\" + quintet[2]+ \"-\" + quintet[3]+ \"-\" + quintet[4], mse, build_time])"
   ]
  },
  {
   "cell_type": "code",
   "execution_count": null,
   "metadata": {},
   "outputs": [],
   "source": [
    "performances5.sort_values(None).head()"
   ]
  },
  {
   "cell_type": "markdown",
   "metadata": {},
   "source": [
    "Kemudian mari kita coba dengan 11 variabel prediktor."
   ]
  },
  {
   "cell_type": "code",
   "execution_count": null,
   "metadata": {},
   "outputs": [],
   "source": [
    "linreg = linear_model.LinearRegression()\n",
    "t = time.time()\n",
    "linreg.fit(X_train, Y_train)\n",
    "build_time = time.time() - t\n",
    "Y_pred = linreg.predict(X_test)\n",
    "mse = mean_squared_error(Y_test, Y_pred)\n",
    "print(list(X_train.columns))\n",
    "print(\"MSE: %.3lf\" % mse)\n",
    "print(\"Build time: %lf\" % build_time)"
   ]
  },
  {
   "cell_type": "markdown",
   "metadata": {},
   "source": [
    "----------------------"
   ]
  },
  {
   "cell_type": "markdown",
   "metadata": {},
   "source": [
    "## Curse of Dimensionality"
   ]
  },
  {
   "cell_type": "markdown",
   "metadata": {},
   "source": [
    "Cost yang digunakan untuk pembuatan model regresi linier multivariat cenderung berbanding lurus dengan jumlah variabel prediktor yang dilatih dan jumlah baris. Mari kita lihat perbandingan waktu komputasi pembuatan model dengan 2 variabel prediktor, 5 variabel prediktor, dan 11 variabel prediktor."
   ]
  },
  {
   "cell_type": "code",
   "execution_count": null,
   "metadata": {},
   "outputs": [],
   "source": [
    "performances['build time'].astype(np.float).mean()"
   ]
  },
  {
   "cell_type": "code",
   "execution_count": null,
   "metadata": {},
   "outputs": [],
   "source": [
    "performances5['build time'].astype(np.float).mean()"
   ]
  },
  {
   "cell_type": "code",
   "execution_count": null,
   "metadata": {},
   "outputs": [],
   "source": [
    "build_time"
   ]
  },
  {
   "cell_type": "markdown",
   "metadata": {},
   "source": [
    "#### Catatan: Build time ini akan sangat bergantung pada kecepatan komputer Anda. Model linier cenderung sangat mudah dibangun dan tidak menghabiskan sumber daya yang sangat banyak, sehingga waktu pembangunan model bisa sangat singkat. Bisa jadi pembangunan model dari 2, 5, dan 11 variabel ini memiliki nilai yang cenderung tidak menimbulkan pola naik karena kekuatan komputer yang sangat tinggi."
   ]
  },
  {
   "cell_type": "markdown",
   "metadata": {},
   "source": [
    "Walaupun cenderung tidak signifikan, terjadi peningkatan dari waktu pembangunan model dari regresi linier dengan variabel yang terus bertambah. Hal ini juga akan berpengaruh terhadap performa dari regresi linier itu sendiri. Semakin banyak variabel prediktor, akan cenderung membuat model tersebut mengalami overfitting terhadap data yang diuji. Data yang ada di dunia bahkan bisa memiliki lebih banyak fitur, seperti citra atau teks. Sedemikian hingga, jumlah variabel harus bisa kita reduksi sebaik mungkin dengan pemilihan variabel yang baik. Gambar di bawah ini menyatakan hubungan jumlah prediktor dengan RSS pada dataset lain.\n",
    "\n",
    "![Alt Text](img/3. rss-numpred.JPG)"
   ]
  },
  {
   "cell_type": "markdown",
   "metadata": {},
   "source": [
    "Untuk mengatasinya, kita akan menggunakan salah satu konsep regularisasi yang akan dibahas di bagian 6."
   ]
  }
 ],
 "metadata": {
  "kernelspec": {
   "display_name": "Python 3",
   "language": "python",
   "name": "python3"
  },
  "language_info": {
   "codemirror_mode": {
    "name": "ipython",
    "version": 3
   },
   "file_extension": ".py",
   "mimetype": "text/x-python",
   "name": "python",
   "nbconvert_exporter": "python",
   "pygments_lexer": "ipython3",
   "version": "3.6.5"
  }
 },
 "nbformat": 4,
 "nbformat_minor": 2
}
