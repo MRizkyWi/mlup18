{
 "cells": [
  {
   "cell_type": "markdown",
   "metadata": {},
   "source": [
    "# Regularisasi berbasis Shrinkage"
   ]
  },
  {
   "cell_type": "markdown",
   "metadata": {},
   "source": [
    "### Regularisasi: Ridge Regression"
   ]
  },
  {
   "cell_type": "markdown",
   "metadata": {},
   "source": [
    "Ridge Regression memiliki konsep yang mirip dengan Ordinary Least Square (OLS), hanya saja Ridge Regression menambahkan suatu properti agar nilai yang diminimasi tidak hanya RSS. Ridge Regression akan mempertimbangkan apakah nilai dari suatu bobot parameter terlampau besar atau tidak. Jika nilai dari suatu bobot parameter terlampau besar, hal tersebut akan mempengaruhi nilai yang diminimasi. Mari kita lihat formula yang diminimasi berikut:"
   ]
  },
  {
   "cell_type": "markdown",
   "metadata": {},
   "source": [
    "\\begin{equation}\n",
    "\\sum_{i=1}^{n}(y_i - \\beta_0 - \\sum_{j=1}^{p} \\beta_j x_{ij} )^2 + \\lambda \\sum_{j=1}^{p} \\beta_j^2 = RSS + \\lambda \\sum_{j=1}^{p} \\beta_j^2\n",
    "\\end{equation}"
   ]
  },
  {
   "cell_type": "markdown",
   "metadata": {},
   "source": [
    "RSS (Residual Sum Square) adalah nilai yang diminimasi oleh OLS. Ridge Regression menambahkan $\\lambda \\sum_{j=1}^{p} \\beta_j^2$ sebagai shrinkage penalty yang dikontrol oleh _tuning parameter_ $\\lambda$ (Nilai $\\lambda \\geq 0$). Nilai shrinkage penalty ($\\lambda \\sum_{j=1}^{p} \\beta_j^2$) tersebut akan semakin kecil jika nilai $\\beta_1, \\beta_2, ..., \\beta_p $ mendekati 0, maka dari itu nilai penalty ini akan memiliki efek \"menyusutkan\" perkiraan $\\beta_j$ menuju 0 (tetapi tidak = 0).\n",
    "\n",
    "Jika nilai $\\lambda = 0$, nilai shrinkage penalty tersebut tidak akan berefek apa-apa, dan menjadikan nilai yang diminimasi adalah MSE biasa. Namun, jika $\\lambda \\rightarrow \\infty$, dampak dari shrinkage penalty akan meningkat dan membuat bobot parameter akan mendekati 0. Tidak seperti OLS, ridge regression akan menghasilkan himpunan bobot parameter yang berbeda untuk tiap nilai $\\lambda$ yang berbeda.\n",
    "\n",
    "Shrinkage penalty hanya diterapkan terhadap $\\beta_1, \\beta_2, ..., \\beta_p $ dan bukan terhadap $\\beta_0$ karena kita tidak ingin \"menyusutkan\" intercept, yang bermakna rata-rata dari target ketika semua prediktor bernilai 0. Untuk mendapatkan gambaran yang lebih jelas dari Ridge Regression, bisa dilihat gambar di bawah ini."
   ]
  },
  {
   "cell_type": "markdown",
   "metadata": {},
   "source": [
    "![Alt Text](img/3. rr-coefficient.jpeg)"
   ]
  },
  {
   "cell_type": "markdown",
   "metadata": {},
   "source": [
    "Dari gambar di atas, bisa kita lihat penerapan Ridge Regression terhadap suatu dataset \"student\". Tiap garis menandakan variabel prediktor, dari berbagai macam variabel prediktor yang dimiliki, terlihat hanya 4 yang signifikan (Income, Limit, Rating, Student). Standardized Coefficient menandakan bahwa nilai dari masing-masing variabel prediktor sudah dinormalisasi agar memiliki rerata 0 (misal dari 0-100 sudah dinormalisasi agar nilainya -50 hingga 50, asumsi distribusi seragam).\n",
    "\n",
    "Semakin kecil nilai $\\lambda$, semakin terlihat bahwa bobot dari masing-masing parameter semakin besar. Dan sebaliknya, semakin besar nilai $\\lambda$, nilai bobot parameter akan semakin kecil dan mendekati 0."
   ]
  },
  {
   "cell_type": "markdown",
   "metadata": {},
   "source": [
    "![Alt Text](img/3. rr-mse.jpeg)"
   ]
  },
  {
   "cell_type": "markdown",
   "metadata": {},
   "source": [
    "Sedangkan gambar di atas menunjukkan dampak dari $\\lambda$ terhadap MSE dari dataset simulasi. Garis ungu menandakan test MSE, garis hijau menandakan simpangan (variance), dan garis hitam menandakan bias kuadrat (squared bias). Terlihat bahwa dengan bias yang semakin besar/_underfitting_ (sisi kanan) diperoleh dari dampak $\\lambda$ yang semakin besar. Berarti model yang dibangun tidak mengikuti dengan baik dari data yang ada jika bobot parameter semakin kecil ($\\lambda \\rightarrow \\infty$). Sedangkan variance yang semakin besar/_overfitting_ (sisi kiri) dipengaruhi oleh semakin kecil ($\\lambda \\rightarrow 0$)."
   ]
  },
  {
   "cell_type": "markdown",
   "metadata": {},
   "source": [
    "### Regularisasi: LASSO Regression"
   ]
  },
  {
   "cell_type": "markdown",
   "metadata": {},
   "source": [
    "Tidak seperti Ridge Regression, LASSO memiliki fungsi penalti yang lebih \"tegas\". Jika Ridge Regression mengurangi efek dari masing-masing bobot dari prediktor, LASSO akan mengeliminasi prediktor dengan membuat nol bobot prediktor tersebut. Fungsi minimasi yang akan dimodifikasi dari dasar RSS dari LASSO Regression adalah"
   ]
  },
  {
   "cell_type": "markdown",
   "metadata": {},
   "source": [
    "\\begin{equation}\n",
    "\\sum_{i=1}^{n}(y_i - \\beta_0 - \\sum_{j=1}^{p} \\beta_j x_{ij} )^2 + \\lambda \\sum_{j=1}^{p} |\\beta_j| = RSS + \\lambda \\sum_{j=1}^{p} |\\beta_j|\n",
    "\\end{equation}"
   ]
  },
  {
   "cell_type": "markdown",
   "metadata": {},
   "source": [
    "Shrinkage penalty LASSO menggunakan formula $\\lambda \\sum_{j=1}^{p} |\\beta_j|$. Formula tersebut akan \"memaksa\" beberapa variabel di suatu nilai $\\lambda$ tertentu menjadi 0. Sama seperti Ridge Regression, semakin besar nilai $\\lambda$  akan mengakibatkan nilai dari bobot parameter mendekati 0, sedangkan semakin kecil nilai $\\lambda$ akan membuat bobot parameter mendekati nilai aslinya tanpa regularisasi. Secara lebih jelas, dampak dari nilai $\\lambda$ terhadap bobot parameter dapat dilihat di gambar di bawah ini."
   ]
  },
  {
   "cell_type": "markdown",
   "metadata": {},
   "source": [
    "![Alt Text](img/3. lasso-coef.jpeg)"
   ]
  },
  {
   "cell_type": "markdown",
   "metadata": {},
   "source": [
    "Dari gambar di atas, dapat dilihat, pada $\\lambda = 500$ variabel selain 4 prediktor (Income, Limit, Rating, Student) dari dataset student akan dipaksa menjadi 0. Nilai $\\lambda$ yang lebih kecil akan mengakibatkan beberapa variabel lain tergabung dalam model sedangkan nilai $\\lambda$ yang lebih besar mengakibatkan variabel-variabel menjadi \"hilang\" dari model (berkoefisien 0)."
   ]
  },
  {
   "cell_type": "markdown",
   "metadata": {},
   "source": [
    "![Alt Text](img/3. lasso-mse.jpeg)"
   ]
  },
  {
   "cell_type": "markdown",
   "metadata": {},
   "source": [
    "Dampak dari penerapan LASSO terhadap suatu dataset hasil simulasi dapat dilihat di gambar di atas. Sama dengan Ridge Regression, garis ungu menandakan test MSE, garis hijau menandakan simpangan (variance), dan garis hitam menandakan bias kuadrat (squared bias). Terlihat bahwa dengan bias yang semakin besar/_underfitting_ (sisi kanan) diperoleh dari dampak $\\lambda$ yang semakin besar. Berarti model yang dibangun tidak mengikuti dengan baik dari data yang ada jika bobot parameter semakin kecil ($\\lambda \\rightarrow \\infty$). Sedangkan variance yang semakin besar/_overfitting_ (sisi kiri) dipengaruhi oleh semakin kecil ($\\lambda \\rightarrow 0$)."
   ]
  },
  {
   "cell_type": "markdown",
   "metadata": {},
   "source": [
    "### Regularisasi Ridge Regression dan LASSO dari sisi lain"
   ]
  },
  {
   "cell_type": "markdown",
   "metadata": {},
   "source": [
    "Dengan cara konsep lain, Ridge Regression dan LASSO dapat dituliskan seperti di bawah ini"
   ]
  },
  {
   "cell_type": "markdown",
   "metadata": {},
   "source": [
    "LASSO: \\begin{equation}\n",
    "minimize_\\beta \\Big \\{ \\sum_{i=1}^n (y_i - \\beta_0 - \\sum_{j=1}^{p}\\beta_j x_{ij})^2 \\Big  \\} \\text{mengacu pada } \\sum_{j=1}^{p}|\\beta_j|\\leq s\n",
    "\\end{equation}\n",
    "\n",
    "dan \n",
    "\n",
    "Ridge Regression:\n",
    "\\begin{equation}\n",
    "minimize_\\beta \\Big \\{ \\sum_{i=1}^n (y_i - \\beta_0 - \\sum_{j=1}^{p}\\beta_j x_{ij})^2 \\Big  \\} \\text{mengacu pada } \\sum_{j=1}^{p}\\beta_j^2\\leq s\n",
    "\\end{equation}"
   ]
  },
  {
   "cell_type": "markdown",
   "metadata": {},
   "source": [
    "Becermin pada formula sebelumnya dengan $\\lambda$, $s$ berfungsi sebagai suatu nilai yang mengatur seberapa besar nilai bobot dari parameter variabel prediktor. Dengan kata lain, untuk setiap nilai $\\lambda$ ada suatu nilai $s$ yang memberikan nilai bobot dari parameter yang sama besar. "
   ]
  },
  {
   "cell_type": "markdown",
   "metadata": {},
   "source": [
    "Secara umum, penerapan $s$ dalam LASSO dan Ridge Regression dengan dua variabel prediktor dapat dilihat pada gambar di bawah ini."
   ]
  },
  {
   "cell_type": "markdown",
   "metadata": {},
   "source": [
    "![Alt Text](img/3. s-rss.jpeg)"
   ]
  },
  {
   "cell_type": "markdown",
   "metadata": {},
   "source": [
    "Dengan ilustrasi LASSO di sebelah kiri dan Ridge Regression di sebelah kanan. Daerah biru adalah daerah batasan yang diakibatkan oleh $|\\beta_1 + \\beta_2 \\leq s|$ dan  $\\beta_1^2 + \\beta_2^2 \\leq s$, dan elips merah adalah garis kontur dari RSS data tersebut. Titik hitam $\\hat{\\beta}$ adalah pasangan nilai $\\beta_1$ dan $\\beta_2$ yang membuat RSS minimum tanpa regularisasi. \n",
    "\n",
    "Jika nilai $s$ yang ditentukan cukup besar dan mencapai titik hitam $\\hat{\\beta}$, berarti nilai $s$ tersebut mengakibatkan perkiraan LASSO dan Ridge Regression menjadi sama dengan OLS."
   ]
  },
  {
   "cell_type": "markdown",
   "metadata": {},
   "source": [
    "### Contoh: Penerapan Ridge Regression dan LASSO"
   ]
  },
  {
   "cell_type": "markdown",
   "metadata": {},
   "source": [
    "Regularisasi Ridge Regression dan LASSO sudah termasuk dalam pustaka sklearn. Yang perlu diatur dari implementasinya adalah nilai $\\lambda$ atau alpha dalam notasi di sklearn."
   ]
  },
  {
   "cell_type": "markdown",
   "metadata": {},
   "source": [
    "#### Contoh penerapan Ridge Regression pada dataset acak\n",
    "(sumber: http://scikit-learn.org/stable/modules/generated/sklearn.linear_model.Ridge.html)"
   ]
  },
  {
   "cell_type": "markdown",
   "metadata": {},
   "source": [
    "Dalam contoh ini, regularisasi dengan konsep shrinking akan diterapkan dengan sklearn dan dataset yang dibangkitkan dengan $Y = 10 + \\beta X + \\epsilon$ dengan fitur sejumlah 15"
   ]
  },
  {
   "cell_type": "code",
   "execution_count": 56,
   "metadata": {},
   "outputs": [],
   "source": [
    "#Pembuatan dataset regresi acak dengan fungsi awal Y = 10 + (suatu vektor parameter) * X\n",
    "\n",
    "import numpy as np\n",
    "n_train, n_test, n_features = 4500, 500, 15\n",
    "np.random.seed(0)\n",
    "\n",
    "a = np.random.randn(n_features)\n",
    "X_train = np.random.randn(n_train,n_features)\n",
    "X_test = np.random.randn(n_test,n_features)\n",
    "\n",
    "Y_train =  np.sum(10 + a*X_train,axis=1)+np.random.randn(n_train)\n",
    "Y_test = np.sum(10 + a*X_test,axis=1) + np.random.randn(n_test)"
   ]
  },
  {
   "cell_type": "markdown",
   "metadata": {},
   "source": [
    "Code di bawah ini akan menerapkan regularisasi dengan konsep Ridge Regression terhadap dataset acak tersebut dan mencatat nilai MSE Uji dan bobot parameter yang terkait dengan masing-masing nilai $\\lambda$. Nilai $\\lambda$ yang akan diobservasi adalah $10^{-10}$ hingga $10^{10}$ dengan interval masing-masing adalah tiap perkalian 10."
   ]
  },
  {
   "cell_type": "code",
   "execution_count": 88,
   "metadata": {},
   "outputs": [],
   "source": [
    "from sklearn.linear_model import Ridge\n",
    "from sklearn.metrics import mean_squared_error\n",
    "\n",
    "alpha_set = np.array([])\n",
    "mse_set_rr = np.array([])\n",
    "#menggunakan dummy array untuk memudahkan stacking parameter set,\n",
    "#nilai dummy ini akan dihapus di akhir prosedur\n",
    "parameter_set_rr = np.empty([1,15])\n",
    "\n",
    "for i in range (-10,10):\n",
    "    reg = Ridge(alpha=10**i)\n",
    "    reg.fit(X_train,Y_train)\n",
    "    Y_pred = reg.predict(X_test)\n",
    "    mse = mean_squared_error(Y_test, Y_pred)\n",
    "    alpha_set = np.append(alpha_set,10**i)\n",
    "    mse_set_rr = np.append(mse_set_rr,mse)\n",
    "    parameter_set_rr = np.vstack((parameter_set_rr,reg.coef_))\n",
    "#penghapusan nilai dummy\n",
    "parameter_set_rr = parameter_set_rr[1:,:]"
   ]
  },
  {
   "cell_type": "markdown",
   "metadata": {},
   "source": [
    "Lalu, kita akan melihat dampak dari regularisasi terhadap perubahan perkiraan bobot parameter dari persamaan tersebut dan dibandingkan dengan nilai $\\lambda$. Kita akan mengeplot 5 bobot prediktor saja dari total 15 bobot parameter yang kita miliki."
   ]
  },
  {
   "cell_type": "code",
   "execution_count": 89,
   "metadata": {},
   "outputs": [
    {
     "data": {
      "image/png": "[encoded data removed]",
      "text/plain": [
       "<Figure size 432x288 with 1 Axes>"
      ]
     },
     "metadata": {},
     "output_type": "display_data"
    }
   ],
   "source": [
    "import matplotlib.pyplot as plt\n",
    "\n",
    "for i in range(5):\n",
    "    plt.plot(np.log(alpha_set), parameter_set_rr[:,i],label = \"line \"+str(i))\n",
    "\n",
    "plt.xlabel('Tuning Parameter (10^i)')\n",
    "plt.ylabel('Coefficient')\n",
    "\n",
    "plt.show()"
   ]
  },
  {
   "cell_type": "markdown",
   "metadata": {},
   "source": [
    "Lalu, kita akan mengamati bagaimana perubahan MSE terhadap perubahan nilai $\\lambda$"
   ]
  },
  {
   "cell_type": "code",
   "execution_count": 96,
   "metadata": {},
   "outputs": [
    {
     "data": {
      "image/png": "[encoded data removed]",
      "text/plain": [
       "<Figure size 432x288 with 1 Axes>"
      ]
     },
     "metadata": {},
     "output_type": "display_data"
    },
    {
     "name": "stdout",
     "output_type": "stream",
     "text": [
      "Minimum MSE terjadi ketika tuning parameter: 10^2 \n"
     ]
    }
   ],
   "source": [
    "plt.plot(np.log(alpha_set), mse_set_rr,  color='black')\n",
    "\n",
    "#mencari nilai terkecil\n",
    "min_index = np.argmin(mse_set_rr)\n",
    "plt.scatter(np.log(alpha_set[min_index]), mse_set_rr[min_index],  color='red')\n",
    "\n",
    "plt.show()\n",
    "\n",
    "print(\"Minimum MSE terjadi ketika tuning parameter: 10^%d \" % np.log(alpha_set[min_index]))"
   ]
  },
  {
   "cell_type": "markdown",
   "metadata": {},
   "source": [
    "#### Contoh penerapan LASSO pada dataset acak\n",
    "(sumber: http://scikit-learn.org/stable/modules/generated/sklearn.linear_model.Lasso.html)"
   ]
  },
  {
   "cell_type": "markdown",
   "metadata": {},
   "source": [
    "Dengan dataset yang sama dan prosedur yang sama, kita akan menerapkan bagaimana performa regularisasi LASSO untuk linear regression."
   ]
  },
  {
   "cell_type": "markdown",
   "metadata": {},
   "source": [
    "Code untuk membuat model dan mencatat bobot parameter dan MSE uji yang bersesuaian dengan nilai $\\lambda$ atau alpha dari LASSO bisa dilihat di bawah ini"
   ]
  },
  {
   "cell_type": "code",
   "execution_count": 85,
   "metadata": {},
   "outputs": [],
   "source": [
    "from sklearn.linear_model import Lasso\n",
    "from sklearn.metrics import mean_squared_error\n",
    "\n",
    "alpha_set = np.array([])\n",
    "mse_set_lasso = np.array([])\n",
    "\n",
    "#menggunakan dummy array untuk memudahkan stacking parameter set,\n",
    "#nilai dummy ini akan dihapus di akhir prosedur\n",
    "parameter_set_lasso = np.empty([1,15])\n",
    "\n",
    "for i in range (-10,10):\n",
    "    reg = Lasso(alpha=10**i)\n",
    "    reg.fit(X_train,Y_train)\n",
    "    Y_pred = reg.predict(X_test)\n",
    "    mse = mean_squared_error(Y_test, Y_pred)\n",
    "    alpha_set = np.append(alpha_set,10**i)\n",
    "    mse_set_lasso = np.append(mse_set_lasso,mse)\n",
    "    parameter_set_lasso = np.vstack((parameter_set_lasso,reg.coef_))\n",
    "#penghapusan nilai dummy\n",
    "parameter_set_lasso = parameter_set_lasso[1:,:]"
   ]
  },
  {
   "cell_type": "code",
   "execution_count": 92,
   "metadata": {},
   "outputs": [
    {
     "data": {
      "image/png": "[encoded data removed]",
      "text/plain": [
       "<Figure size 432x288 with 1 Axes>"
      ]
     },
     "metadata": {},
     "output_type": "display_data"
    }
   ],
   "source": [
    "import matplotlib.pyplot as plt\n",
    "\n",
    "for i in range(5):\n",
    "    plt.plot(np.log(alpha_set), parameter_set_lasso[:,i],label = \"line \"+str(i))\n",
    "\n",
    "plt.xlabel('Tuning Parameter (10^i)')\n",
    "plt.ylabel('Coefficient')\n",
    "\n",
    "plt.show()"
   ]
  },
  {
   "cell_type": "markdown",
   "metadata": {},
   "source": [
    "Lalu, kita akan mengamati bagaimana perubahan MSE terhadap perubahan nilai $\\lambda$ pada LASSO"
   ]
  },
  {
   "cell_type": "code",
   "execution_count": 97,
   "metadata": {},
   "outputs": [
    {
     "data": {
      "image/png": "[encoded data removed]",
      "text/plain": [
       "<Figure size 432x288 with 1 Axes>"
      ]
     },
     "metadata": {},
     "output_type": "display_data"
    },
    {
     "name": "stdout",
     "output_type": "stream",
     "text": [
      "Minimum MSE terjadi ketika tuning parameter: 10^-4 \n"
     ]
    }
   ],
   "source": [
    "plt.plot(np.log(alpha_set), mse_set_lasso,  color='black')\n",
    "\n",
    "#mencari nilai terkecil\n",
    "min_index = np.argmin(mse_set_lasso)\n",
    "plt.scatter(np.log(alpha_set[min_index]), mse_set_lasso[min_index],  color='red')\n",
    "\n",
    "plt.show()\n",
    "\n",
    "print(\"Minimum MSE terjadi ketika tuning parameter: 10^%d \" % np.log(alpha_set[min_index]))"
   ]
  },
  {
   "cell_type": "markdown",
   "metadata": {},
   "source": [
    "Mari kita bandingkan nilai minimum MSE uji Ridge Regression dan LASSO."
   ]
  },
  {
   "cell_type": "code",
   "execution_count": 98,
   "metadata": {},
   "outputs": [
    {
     "name": "stdout",
     "output_type": "stream",
     "text": [
      "Ridge Regression\n",
      "Minimum MSE: 0.887555, alpha: 10^2 \n",
      "LASSO\n",
      "Minimum MSE: 0.886179, alpha: 10^-4 \n"
     ]
    }
   ],
   "source": [
    "min_index_rr = np.argmin(mse_set_rr)\n",
    "min_index_lasso = np.argmin(mse_set_lasso)\n",
    "\n",
    "print(\"Ridge Regression\")\n",
    "print(\"Minimum MSE: %lf, alpha: 10^%d \" % (mse_set_rr[min_index_rr],np.log(alpha_set[min_index_rr])) )\n",
    "\n",
    "print(\"LASSO\")\n",
    "print(\"Minimum MSE: %lf, alpha: 10^%d \" % (mse_set_lasso[min_index_lasso],np.log(alpha_set[min_index_lasso])) )"
   ]
  },
  {
   "cell_type": "markdown",
   "metadata": {},
   "source": [
    "Kesimpulan: pada dataset acak yang dibuat, model yang diregularisasi oleh LASSO memiliki MSE uji yang lebih kecil. Sehingga dapat dikatakan untuk kasus ini, LASSO memberikan model yang lebih baik daripada Ridge Regression maupun model OLS biasa. "
   ]
  },
  {
   "cell_type": "markdown",
   "metadata": {},
   "source": [
    "\n",
    "### Latihan: Penerapan Ridge Regression dan LASSO"
   ]
  },
  {
   "cell_type": "markdown",
   "metadata": {},
   "source": [
    "Dengan dataset Red Wine Quality, bandingkan performa regularisasi dari Ridge Regression dan LASSO dengan nilai $\\lambda$ dari $10^{-10}$ hingga $10^{10}$."
   ]
  },
  {
   "cell_type": "code",
   "execution_count": null,
   "metadata": {},
   "outputs": [],
   "source": []
  }
 ],
 "metadata": {
  "kernelspec": {
   "display_name": "Python 3",
   "language": "python",
   "name": "python3"
  },
  "language_info": {
   "codemirror_mode": {
    "name": "ipython",
    "version": 3
   },
   "file_extension": ".py",
   "mimetype": "text/x-python",
   "name": "python",
   "nbconvert_exporter": "python",
   "pygments_lexer": "ipython3",
   "version": "3.6.5"
  }
 },
 "nbformat": 4,
 "nbformat_minor": 2
}
