{
 "cells": [
  {
   "cell_type": "markdown",
   "metadata": {},
   "source": [
    "Kita sudah mengenal variabel, tipe data, dan beberapa fungsi yang berguna dari Python untuk melaksanakan tugas pengolahan data. Kita akan mengenal inti dari pemrograman, yakni percabangan dan perulangan. Semua perangkat lunak sejatinya memiliki inti kedua konsep ini.\n",
    "\n",
    "# Percabangan\n",
    "\n",
    "Percabangan dalam pemrograman biasa dikenali dengan IF statement. IF statement menerangkan **tindakan** yang dilakukan ketika ditemui **kondisi tertentu**, jika tidak maka **tindakan lain** harus dilakukan. Percabangan memanfaatkan nilai logika True atau False untuk menentukan ditemuinya suatu kondisi. Ilustrasinya dapat dilihat di gambar di bawah ini.\n",
    "\n",
    "![Alt Text](img/if-logic.png)\n",
    "\n",
    "Anggap kita memiliki suatu kondisi variabel a sama dengan sesuatu, maka suatu perintah harus dilakukan. Contohnya bisa dicek di bawah ini."
   ]
  },
  {
   "cell_type": "code",
   "execution_count": 4,
   "metadata": {},
   "outputs": [
    {
     "name": "stdout",
     "output_type": "stream",
     "text": [
      "no\n",
      "HALO2\n",
      "HALO3\n"
     ]
    }
   ],
   "source": [
    "a = 20\n",
    "if a == 30: #suatu kondisi\n",
    "    print('yes') #tindakan yang harus dilakukan jika ditemui kondisi\n",
    "    print(\"HALO\")   \n",
    "else:\n",
    "    print('no') #tindakan lain\n",
    "    print(\"HALO2\")\n",
    "print(\"HALO3\") \n",
    "    "
   ]
  },
  {
   "cell_type": "markdown",
   "metadata": {},
   "source": [
    "Dari code di atas kita mengecek apakah nilai dari variabel a sama dengan 30 atau tidak. Ternyata kondisi tersebut adalah salah (a tidak sama dengan 30), maka tindakan lain harus dilakukan (print no). Mari kita coba ubah nilai a menjadi 30."
   ]
  },
  {
   "cell_type": "code",
   "execution_count": 2,
   "metadata": {},
   "outputs": [
    {
     "name": "stdout",
     "output_type": "stream",
     "text": [
      "yes\n"
     ]
    }
   ],
   "source": [
    "a = 30 \n",
    "if a == 30: #suatu kondisi\n",
    "    print('yes') #tindakan yang harus dilakukan jika ditemui kondisi\n",
    "else:\n",
    "    print('no') #tindakan lain\n",
    "    "
   ]
  },
  {
   "cell_type": "markdown",
   "metadata": {},
   "source": [
    "## Syntax IF"
   ]
  },
  {
   "cell_type": "markdown",
   "metadata": {},
   "source": [
    "![Alt Text](img/if-syntax)"
   ]
  },
  {
   "cell_type": "markdown",
   "metadata": {},
   "source": [
    "Ada beberapa hal yang perlu diperhatikan dalam syntax IF di Python. Urut-urutan yang harus diperhatikan adalah sebagai berikut:\n",
    "1. sebuah keyword if\n",
    "2. kondisi\n",
    "3. pernyataan/perintah\n",
    "4. sebuah keyword else\n",
    "5. pernyataan/perintah lain\n",
    "\n",
    "**Hati-hati dengan**:\n",
    "- Penggunaan titik dua, dan\n",
    "![Alt text](img/if-careful.png)\n",
    "- penggunaan indentasi\n",
    "![Alt text](img/if-careful2.png)\n",
    "\n",
    "Indentasi yang biasa digunakan adalah tab atau spasi 4x. Umumnya, para programmer lebih suka dengan spasi 4x. Tenang saja, biasanya di jupyter notebook hal ini telah diterapkan otomatis."
   ]
  },
  {
   "cell_type": "markdown",
   "metadata": {},
   "source": [
    "## IF lanjut: Penggunaan kondisi kompleks\n",
    "\n",
    "Kondisi yang digunakan dalam IF bisa bernilai True atau False, maka dari itu kita bisa menggunakan gabungan and, or, dan not sebagai bantuan untuk mengembangkan kondisi kita.\n",
    "\n",
    "Misal kita ingin mengecek kondisi: jika cuaca hari ini hujan atau 3x3 == 10, cetak \"HALO!\", jika tidak cetak \"HAI\"."
   ]
  },
  {
   "cell_type": "code",
   "execution_count": 4,
   "metadata": {},
   "outputs": [
    {
     "name": "stdout",
     "output_type": "stream",
     "text": [
      "HALO!\n"
     ]
    }
   ],
   "source": [
    "cuaca = 'hujan'\n",
    "if cuaca == 'hujan' or 3*3 == 10:\n",
    "    print(\"HALO!\")\n",
    "else:\n",
    "    print(\"HAI\")"
   ]
  },
  {
   "cell_type": "markdown",
   "metadata": {},
   "source": [
    "## IF lanjut: Penggunakan elif\n",
    "\n",
    "elif digunakan jika kita ingin menggunakan lebih dari 1 kondisi yang menyatakan cabang kondisi. Ilustrasi bisa dilihat di bawah ini\n",
    "![Alt Text](img/if-sequence.png)"
   ]
  },
  {
   "cell_type": "code",
   "execution_count": 6,
   "metadata": {},
   "outputs": [
    {
     "name": "stdout",
     "output_type": "stream",
     "text": [
      "Kondisi kedua benar\n"
     ]
    }
   ],
   "source": [
    "a=10\n",
    "b=12\n",
    "c=10\n",
    "if a==b:\n",
    "    print('Kondisi pertama benar')\n",
    "elif a==c:\n",
    "    print('Kondisi kedua benar')\n",
    "else:\n",
    "    print('Tidak ada kondisi benar, semua ini fana')"
   ]
  },
  {
   "cell_type": "markdown",
   "metadata": {},
   "source": [
    "## Latihan: Percabangan\n",
    "\n",
    "1. Buat suatu list bilangan bulat dengan 5 bilangan sembarang\n",
    "2. Gunakan percabangan dengan mengambil kondisi jika jumlahan dari semua elemen list bilangan tersebut, jika jumlahannya genap: \"jumlahan dari list ini adalah genap\", jika jumlahannya ganjil: \"jumlahan dari list ini adalah ganjil\"\n",
    "3. Hapus beberapa elemen dari list tersebut. Lihat latihan no. 4 terlebih dahulu.\n",
    "4. Gunakan percabangan dengan elif dengan mengambil kondisi jika jumlah elemennya lebih dari 3, cetaklah \"Banyak\", jika jumlah elemennya kurang dari 2 cetaklah \"Sedikit\", jika tidak termasuk semua syarat itu, cetaklah \"Sedang\". Buatlah pengerjaan dari nomor 3 agar hasil dari nomor 4 menghasilkan \"Sedang\""
   ]
  },
  {
   "cell_type": "code",
   "execution_count": 7,
   "metadata": {},
   "outputs": [
    {
     "name": "stdout",
     "output_type": "stream",
     "text": [
      "12\n",
      "genap\n",
      "sedang\n"
     ]
    }
   ],
   "source": [
    "a = [1,5,3,2,1]\n",
    "print(sum(a))\n",
    "if sum(a) % 2 == 0:\n",
    "    print(\"genap\")\n",
    "else:\n",
    "    print(\"ganjil\")\n",
    "    \n",
    "a.remove(3)\n",
    "a.remove(5)\n",
    "\n",
    "if len(a)>3:\n",
    "    print(\"banyak\")\n",
    "elif len(a)<2:\n",
    "    print(\"sedikit\")\n",
    "else:\n",
    "    print(\"sedang\")"
   ]
  },
  {
   "cell_type": "markdown",
   "metadata": {},
   "source": [
    "# Perulangan\n",
    "\n",
    "Perulangan merupakan elemen krusial dalam pemrograman. Perulangan (loop) digunakan untuk memproses hal-hal yang dilakukan secara berulang, seperti: untuk ke stasiun, kita terus mengulangi langkah kaki dari rumah dengan berjalan.\n",
    "\n",
    "Akan ada beberapa istilah yang digunakan untuk memberikan gambaran dari konsep perulangan. Perulangan akan dieksekusi dengan mengiterasi/menelusuri satu per satu secara berurutan 'iterables'. 'Iterables' adalah kumpulan nilai seperti list, string, atau dictionary. Kita akan mengenal syntax berguna dengan nama range().\n",
    "\n",
    "Mari kita coba gunakan konsep perulangan untuk menelusuri semua elemen dalam struktur data list. \n"
   ]
  },
  {
   "cell_type": "code",
   "execution_count": 8,
   "metadata": {},
   "outputs": [
    {
     "name": "stdout",
     "output_type": "stream",
     "text": [
      "nama\n",
      "165\n",
      "perempuan\n",
      "['jaket', 'tas']\n",
      "['nama', 165, 'perempuan', ['jaket', 'tas']]\n"
     ]
    }
   ],
   "source": [
    "mylist = ['nama',165,'perempuan',['jaket','tas']]\n",
    "#Kita akan menelusuri elemennya satu per satu dengan perulangan FOR\n",
    "for elemen in mylist:\n",
    "    print(elemen)\n",
    "print(mylist)"
   ]
  },
  {
   "cell_type": "markdown",
   "metadata": {},
   "source": [
    "Kita akan dapati masing-masing elemen dicetak secara terpisah.\n",
    "\n",
    "Mari kita coba dengan contoh list lain:"
   ]
  },
  {
   "cell_type": "code",
   "execution_count": 9,
   "metadata": {},
   "outputs": [
    {
     "name": "stdout",
     "output_type": "stream",
     "text": [
      "1\n",
      "4\n",
      "9\n",
      "16\n",
      "81\n"
     ]
    }
   ],
   "source": [
    "mylist2 = [1,2,3,4,9]\n",
    "\n",
    "#mencetak kuadrat dari masing-masing elemen list mylist2\n",
    "for i in mylist2:\n",
    "    print(i*i)"
   ]
  },
  {
   "cell_type": "markdown",
   "metadata": {},
   "source": [
    "Logika dari penerapan FOR loop bisa dilihat di gambar di bawah ini:\n",
    "![Alt Text](img/for-logic.png)"
   ]
  },
  {
   "cell_type": "markdown",
   "metadata": {},
   "source": [
    "Keywords utama dari FOR loop adalah:\n",
    "1. for (iterator), untuk menyatakan suatu variabel sebagai acuan iterasi/penelusuran\n",
    "2. in (iterables), untuk menyatakan suatu variabel sebagai iterables\n",
    "3. Aksi di dalam for loop, untuk kasus-kasus sebelumnya adalah print(...)\n",
    "\n",
    "iterator akan digunakan dalam FOR loop saja secara sementara, jika sudah di luar FOR loop, nilai itu tidak akan berlaku lagi. Iterator hanya penampung sementara dari elemen yang ada dalam iterables. "
   ]
  },
  {
   "cell_type": "markdown",
   "metadata": {},
   "source": [
    "### Iterasi dengan string dan range()\n",
    "\n",
    "Selayaknya list, string bisa kita anggap sebagai list of characters. Contoh code untuk iterasi dengan string bisa dilihat di bawah ini:"
   ]
  },
  {
   "cell_type": "code",
   "execution_count": 10,
   "metadata": {},
   "outputs": [
    {
     "name": "stdout",
     "output_type": "stream",
     "text": [
      "karakter yang saya temui adalah: U\n",
      "karakter yang saya temui adalah: n\n",
      "karakter yang saya temui adalah: i\n",
      "karakter yang saya temui adalah: v\n",
      "karakter yang saya temui adalah: e\n",
      "karakter yang saya temui adalah: r\n",
      "karakter yang saya temui adalah: s\n",
      "karakter yang saya temui adalah: i\n",
      "karakter yang saya temui adalah: t\n",
      "karakter yang saya temui adalah: a\n",
      "karakter yang saya temui adalah: s\n",
      "karakter yang saya temui adalah:  \n",
      "karakter yang saya temui adalah: P\n",
      "karakter yang saya temui adalah: e\n",
      "karakter yang saya temui adalah: r\n",
      "karakter yang saya temui adalah: t\n",
      "karakter yang saya temui adalah: a\n",
      "karakter yang saya temui adalah: m\n",
      "karakter yang saya temui adalah: i\n",
      "karakter yang saya temui adalah: n\n",
      "karakter yang saya temui adalah: a\n"
     ]
    }
   ],
   "source": [
    "mystring = 'Universitas Pertamina'\n",
    "for a in mystring:\n",
    "    print('karakter yang saya temui adalah: %s' % a)"
   ]
  },
  {
   "cell_type": "markdown",
   "metadata": {},
   "source": [
    "range() adalah fungsi yang sudah ada dalam Python dan biasanya digunakan dalam FOR loops. Range akan membangkitkan list of numbers dengan kriteria suatu angka tertentu.\n",
    "\n",
    "Range bisa digunakan dalam 3 bentuk:\n",
    "1. range(nilai sebelum akhir), akan membangkitkan list of numbers dari 0 hingga nilai sebelum akhir ini.\n",
    "2. range(nilai awal, nilai sebelum akhir), akan membangkitkan list of numbers dari nilai awal hingga nilai sebelum akhir.\n",
    "3. range(nilai awal, nilai sebelum akhir, steps), akan membangkitkan list of numbers dari nilai awal hingga nilai sebelum akhir dengan melangkahi steps angka.\n",
    "\n",
    "Mari kita telusuri satu per satu."
   ]
  },
  {
   "cell_type": "code",
   "execution_count": 10,
   "metadata": {},
   "outputs": [
    {
     "name": "stdout",
     "output_type": "stream",
     "text": [
      "fungsi range pertama\n",
      "0\n",
      "1\n",
      "2\n",
      "3\n",
      "4\n",
      "fungsi range kedua\n",
      "3\n",
      "4\n",
      "fungsi range ketiga\n",
      "3\n",
      "6\n",
      "9\n",
      "12\n"
     ]
    }
   ],
   "source": [
    "print(\"fungsi range pertama\")\n",
    "for i in range(5):\n",
    "    print(i)\n",
    "    \n",
    "print(\"fungsi range kedua\")\n",
    "for i in range(3,5):\n",
    "    print(i)\n",
    "    \n",
    "print(\"fungsi range ketiga\")\n",
    "for i in range(3,13,3):\n",
    "    print(i)"
   ]
  },
  {
   "cell_type": "markdown",
   "metadata": {},
   "source": [
    "Kita akan coba untuk menelusuri list of numbers dengan aksi cetak kuadrat elemen dengan indeks genap saja"
   ]
  },
  {
   "cell_type": "code",
   "execution_count": 11,
   "metadata": {},
   "outputs": [
    {
     "name": "stdout",
     "output_type": "stream",
     "text": [
      "1 16\n",
      "3 100\n",
      "5 361\n",
      "7 49\n"
     ]
    }
   ],
   "source": [
    "mylist = [3,4,1,10,5,19,2,7,8]\n",
    "\n",
    "for i in range(1,len(mylist),2):\n",
    "    print(i, mylist[i]*mylist[i]) \n",
    "    #kita akan menampilkan indeksnya juga"
   ]
  },
  {
   "cell_type": "markdown",
   "metadata": {},
   "source": [
    "### Perulangan dengan nested list\n",
    "FOR loop juga bisa digunakan untuk menelusuri nested list dengan menggunakan konsep loop di dalam loop atau nested loop.\n",
    "\n",
    "Semisal kita memiliki nested list dan ingin mengiterasinya, bisa dilihat di code di bawah ini."
   ]
  },
  {
   "cell_type": "code",
   "execution_count": 15,
   "metadata": {},
   "outputs": [
    {
     "name": "stdout",
     "output_type": "stream",
     "text": [
      "Sublist ini memiliki 4 elemen\n",
      "Nilai kuadrat dari 1 adalah 1\n",
      "Nilai kuadrat dari 3 adalah 9\n",
      "Nilai kuadrat dari 5 adalah 25\n",
      "Nilai kuadrat dari 7 adalah 49\n",
      "Sublist ini memiliki 3 elemen\n",
      "Nilai kuadrat dari 2 adalah 4\n",
      "Nilai kuadrat dari 2 adalah 4\n",
      "Nilai kuadrat dari 10 adalah 100\n",
      "Sublist ini memiliki 2 elemen\n",
      "Nilai kuadrat dari 2 adalah 4\n",
      "Nilai kuadrat dari 0 adalah 0\n",
      "Sublist ini memiliki 4 elemen\n",
      "Nilai kuadrat dari 1 adalah 1\n",
      "Nilai kuadrat dari 1 adalah 1\n",
      "Nilai kuadrat dari 2 adalah 4\n",
      "Nilai kuadrat dari 3 adalah 9\n"
     ]
    }
   ],
   "source": [
    "nested_list = [[1,3,5,7],[2,2,10],[2,0],[1,1,2,3]]\n",
    "\n",
    "for sublist in nested_list:\n",
    "    print(\"Sublist ini memiliki %d elemen\" % len(sublist))\n",
    "    for element in sublist:\n",
    "        print(\"Nilai kuadrat dari %d adalah %d\" %(element,element*element))"
   ]
  },
  {
   "cell_type": "markdown",
   "metadata": {},
   "source": [
    "### !Hati-hati!\n",
    "\n",
    "Sama dengan pernyataan IF, FOR loop memiliki beberapa hal yang harus diwaspadai\n",
    "1. konsep FOR loop agak susah dipahami untuk pemrogram pemula, dibutuhkan beberapa latihan untuk memahaminya. Tenang saja! Semua butuh waktu\n",
    "2. hati-hati dengan penulisan syntax. Biasanya kurang titik dua (:) dan indentasi"
   ]
  },
  {
   "cell_type": "markdown",
   "metadata": {},
   "source": [
    "### Latihan: Perulangan\n",
    "\n",
    "Buatlah FOR loop yang mengiterasi 2 matriks persegi (3x3) A dan B yang bertugas mengalikan elemen dari masing-masing matriks di indeks yang sama.\n"
   ]
  },
  {
   "cell_type": "code",
   "execution_count": null,
   "metadata": {},
   "outputs": [],
   "source": [
    "A = None\n",
    "B = None\n",
    "\n",
    "for row in range(None):\n",
    "    for col in range(None):\n",
    "        print(A[None][None]*B[None][None])"
   ]
  },
  {
   "cell_type": "markdown",
   "metadata": {},
   "source": [
    "## Penggabungan FOR dan IF\n",
    "\n",
    "Setelah mempelajari konsep FOR, kita bisa menggabungkan konsep IF di dalamnya. Sebagai contoh, dari suatu range nilai tertentu, kita ingin mencetak 'fizz' jika nilai tersebut habis dibagi 3, mencetak 'buzz' jika nilai tersebut habis dibagi 5, mencetak 'fizzbuzz' jika nilai tersebut habis dibagi 3 dan 5, jika tidak memenuhi semua kondisi yang disebutkan, cetak '-'.\n",
    "\n",
    "! Hati-hati, urutan kondisi IF dan ELIF sangat mempengaruhi hasil akhir. Bandingkan kedua code di bawah ini."
   ]
  },
  {
   "cell_type": "code",
   "execution_count": 12,
   "metadata": {},
   "outputs": [
    {
     "name": "stdout",
     "output_type": "stream",
     "text": [
      "0\n",
      "fizzbuzz\n",
      "1\n",
      "-\n",
      "2\n",
      "-\n",
      "3\n",
      "fizz\n",
      "4\n",
      "-\n",
      "5\n",
      "buzz\n",
      "6\n",
      "fizz\n",
      "7\n",
      "-\n",
      "8\n",
      "-\n",
      "9\n",
      "fizz\n",
      "10\n",
      "buzz\n",
      "11\n",
      "-\n",
      "12\n",
      "fizz\n",
      "13\n",
      "-\n",
      "14\n",
      "-\n",
      "15\n",
      "fizzbuzz\n",
      "16\n",
      "-\n",
      "17\n",
      "-\n",
      "18\n",
      "fizz\n",
      "19\n",
      "-\n"
     ]
    }
   ],
   "source": [
    "#ini benar\n",
    "\n",
    "for i in range(20):\n",
    "    print(i)\n",
    "    if i%3 == 0 and i%5 == 0:\n",
    "        print('fizzbuzz')\n",
    "    elif i%3 == 0:\n",
    "        print('fizz')\n",
    "    elif i%5 == 0:\n",
    "        print('buzz')\n",
    "    else:\n",
    "        print('-')"
   ]
  },
  {
   "cell_type": "code",
   "execution_count": 13,
   "metadata": {},
   "outputs": [
    {
     "name": "stdout",
     "output_type": "stream",
     "text": [
      "0\n",
      "buzz\n",
      "1\n",
      "-\n",
      "2\n",
      "-\n",
      "3\n",
      "fizz\n",
      "4\n",
      "-\n",
      "5\n",
      "buzz\n",
      "6\n",
      "fizz\n",
      "7\n",
      "-\n",
      "8\n",
      "-\n",
      "9\n",
      "fizz\n",
      "10\n",
      "buzz\n",
      "11\n",
      "-\n",
      "12\n",
      "fizz\n",
      "13\n",
      "-\n",
      "14\n",
      "-\n",
      "15\n",
      "buzz\n",
      "16\n",
      "-\n",
      "17\n",
      "-\n",
      "18\n",
      "fizz\n",
      "19\n",
      "-\n"
     ]
    }
   ],
   "source": [
    "#ini salah\n",
    "\n",
    "for i in range(20):\n",
    "    print(i)\n",
    "    if i%5 == 0:\n",
    "        print('buzz')\n",
    "    elif i%3 == 0:\n",
    "        print('fizz')\n",
    "    elif i%3 == 0 and i%5 == 0:\n",
    "        print('fizzbuzz')\n",
    "    else:\n",
    "        print('-')"
   ]
  },
  {
   "cell_type": "markdown",
   "metadata": {},
   "source": [
    "Mengapa?"
   ]
  },
  {
   "cell_type": "markdown",
   "metadata": {},
   "source": [
    "### Latihan: Penggabungan IF dan FOR\n",
    "\n",
    "Buatlah suatu nested list dengan jumlah elemen masing-masing sublistnya berbeda-beda. Cetaklah semua elemen dari sublist tersebut jika jumlah elemennya ganjil, jika genap cetak elemen terakhirnya saja"
   ]
  },
  {
   "cell_type": "code",
   "execution_count": null,
   "metadata": {},
   "outputs": [],
   "source": []
  }
 ],
 "metadata": {
  "kernelspec": {
   "display_name": "Python 3",
   "language": "python",
   "name": "python3"
  },
  "language_info": {
   "codemirror_mode": {
    "name": "ipython",
    "version": 3
   },
   "file_extension": ".py",
   "mimetype": "text/x-python",
   "name": "python",
   "nbconvert_exporter": "python",
   "pygments_lexer": "ipython3",
   "version": "3.6.5"
  }
 },
 "nbformat": 4,
 "nbformat_minor": 2
}
